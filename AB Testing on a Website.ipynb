{
  "cells": [
    {
      "cell_type": "markdown",
      "metadata": {
        "id": "view-in-github",
        "colab_type": "text"
      },
      "source": [
        "<a href=\"https://colab.research.google.com/github/Sagaust/DH-Computational-Methodologies/blob/main/AB%20Testing%20on%20a%20Website.ipynb\" target=\"_parent\"><img src=\"https://colab.research.google.com/assets/colab-badge.svg\" alt=\"Open In Colab\"/></a>"
      ]
    },
    {
      "cell_type": "markdown",
      "id": "c5e5c2ac",
      "metadata": {
        "id": "c5e5c2ac"
      },
      "source": [
        "# Greenweez Home Page"
      ]
    },
    {
      "cell_type": "markdown",
      "id": "bb1ba2f6",
      "metadata": {
        "id": "bb1ba2f6"
      },
      "source": [
        "The home page is very important for a website. It generates a lot of traffic and is the showcase of the site. The traffic optimisation team wants to optimise the homepage. They hesitate between two versions.\n",
        "\n"
      ]
    },
    {
      "cell_type": "markdown",
      "id": "2ea22e6a",
      "metadata": {
        "id": "2ea22e6a"
      },
      "source": [
        "### Here are the two versions:\n",
        "\n",
        "[Variant A](https://drive.google.com/file/d/1LqPXgeOJ8QQ1ZfcO4_Mz26lehmyOkles/view) - Slider with a white design\n",
        "\n",
        "[Variant B](https://drive.google.com/file/d/1rBydNNlrg5d1AmGXo8-9DsfrbE-tuAox/view) - Static page with a green design"
      ]
    },
    {
      "cell_type": "markdown",
      "id": "684736b9",
      "metadata": {
        "id": "684736b9"
      },
      "source": [
        "### We need to split the users\n",
        "\n",
        "Before we can actually run the AB Test, we need to segment our users into two groups. Let's start by importing the user data from the customers tab in [this spreadsheet](https://docs.google.com/spreadsheets/d/1lpyAhs6Yh2WZ-zqKrpfxKN08fZ3PTISvS2ajl3L6Avk/edit#gid=386045473)."
      ]
    },
    {
      "cell_type": "code",
      "execution_count": 3,
      "id": "f281d52d",
      "metadata": {
        "id": "f281d52d"
      },
      "outputs": [],
      "source": [
        "# Import the data (also import the necessary packages)\n",
        "import pandas as pd\n",
        "customers = pd.read_csv(\"/content/Greenweez Home Page Results - customers.csv\")"
      ]
    },
    {
      "cell_type": "code",
      "execution_count": null,
      "id": "5fdef8ec",
      "metadata": {
        "scrolled": true,
        "id": "5fdef8ec",
        "outputId": "a4ba2534-e352-404a-d076-2aa964e125a9"
      },
      "outputs": [
        {
          "data": {
            "text/html": [
              "<div>\n",
              "<style scoped>\n",
              "    .dataframe tbody tr th:only-of-type {\n",
              "        vertical-align: middle;\n",
              "    }\n",
              "\n",
              "    .dataframe tbody tr th {\n",
              "        vertical-align: top;\n",
              "    }\n",
              "\n",
              "    .dataframe thead th {\n",
              "        text-align: right;\n",
              "    }\n",
              "</style>\n",
              "<table border=\"1\" class=\"dataframe\">\n",
              "  <thead>\n",
              "    <tr style=\"text-align: right;\">\n",
              "      <th></th>\n",
              "      <th>customers_id</th>\n",
              "      <th>avg_basket</th>\n",
              "    </tr>\n",
              "  </thead>\n",
              "  <tbody>\n",
              "    <tr>\n",
              "      <th>0</th>\n",
              "      <td>9731</td>\n",
              "      <td>202.59</td>\n",
              "    </tr>\n",
              "    <tr>\n",
              "      <th>1</th>\n",
              "      <td>61582</td>\n",
              "      <td>22.92</td>\n",
              "    </tr>\n",
              "    <tr>\n",
              "      <th>2</th>\n",
              "      <td>305054</td>\n",
              "      <td>32.05</td>\n",
              "    </tr>\n",
              "    <tr>\n",
              "      <th>3</th>\n",
              "      <td>305036</td>\n",
              "      <td>30.46</td>\n",
              "    </tr>\n",
              "    <tr>\n",
              "      <th>4</th>\n",
              "      <td>10969</td>\n",
              "      <td>87.93</td>\n",
              "    </tr>\n",
              "    <tr>\n",
              "      <th>...</th>\n",
              "      <td>...</td>\n",
              "      <td>...</td>\n",
              "    </tr>\n",
              "    <tr>\n",
              "      <th>39995</th>\n",
              "      <td>273264</td>\n",
              "      <td>35.46</td>\n",
              "    </tr>\n",
              "    <tr>\n",
              "      <th>39996</th>\n",
              "      <td>273371</td>\n",
              "      <td>87.03</td>\n",
              "    </tr>\n",
              "    <tr>\n",
              "      <th>39997</th>\n",
              "      <td>70803</td>\n",
              "      <td>50.49</td>\n",
              "    </tr>\n",
              "    <tr>\n",
              "      <th>39998</th>\n",
              "      <td>6743</td>\n",
              "      <td>86.19</td>\n",
              "    </tr>\n",
              "    <tr>\n",
              "      <th>39999</th>\n",
              "      <td>66636</td>\n",
              "      <td>195.53</td>\n",
              "    </tr>\n",
              "  </tbody>\n",
              "</table>\n",
              "<p>40000 rows × 2 columns</p>\n",
              "</div>"
            ],
            "text/plain": [
              "       customers_id  avg_basket\n",
              "0              9731      202.59\n",
              "1             61582       22.92\n",
              "2            305054       32.05\n",
              "3            305036       30.46\n",
              "4             10969       87.93\n",
              "...             ...         ...\n",
              "39995        273264       35.46\n",
              "39996        273371       87.03\n",
              "39997         70803       50.49\n",
              "39998          6743       86.19\n",
              "39999         66636      195.53\n",
              "\n",
              "[40000 rows x 2 columns]"
            ]
          },
          "execution_count": 24,
          "metadata": {},
          "output_type": "execute_result"
        }
      ],
      "source": [
        "# Let's take a look at our dataframe\n",
        "customers"
      ]
    },
    {
      "cell_type": "markdown",
      "id": "8346cf72",
      "metadata": {
        "id": "8346cf72"
      },
      "source": [
        "Let's adopt a naive strategy first - splitting by median customers_id"
      ]
    },
    {
      "cell_type": "code",
      "execution_count": null,
      "id": "e28f4847",
      "metadata": {
        "id": "e28f4847"
      },
      "outputs": [],
      "source": [
        "customers = customers.sort_values(by=\"customers_id\").reset_index(drop = True)\n",
        "customers1 = customers.iloc[:20000]\n",
        "customers2 = customers.iloc[20000:]"
      ]
    },
    {
      "cell_type": "markdown",
      "id": "b9497440",
      "metadata": {
        "id": "b9497440"
      },
      "source": [
        "Did we do a good job? Let's look at the mean avg_basket for both groups"
      ]
    },
    {
      "cell_type": "code",
      "execution_count": null,
      "id": "b6a7f1ea",
      "metadata": {
        "id": "b6a7f1ea",
        "outputId": "dbe1b1d4-8df2-4b39-fbf8-bf8e996f83a5"
      },
      "outputs": [
        {
          "name": "stdout",
          "output_type": "stream",
          "text": [
            "76.670484 52.311415999999994\n"
          ]
        }
      ],
      "source": [
        "print(customers1[\"avg_basket\"].mean(), customers2[\"avg_basket\"].mean())"
      ]
    },
    {
      "cell_type": "markdown",
      "id": "1566999a",
      "metadata": {
        "id": "1566999a"
      },
      "source": [
        "That's quite a difference! Should we try another strategy?\n",
        "Let's divide the two groups randomly. Check out [this](https://stackoverflow.com/questions/29576430/shuffle-dataframe-rows) StackOverflow thread on how to do that."
      ]
    },
    {
      "cell_type": "code",
      "execution_count": null,
      "id": "d384eae4",
      "metadata": {
        "id": "d384eae4"
      },
      "outputs": [],
      "source": [
        "customers = customers.sample(frac=1).reset_index(drop=True)\n",
        "customers1 = customers.iloc[:20000]\n",
        "customers2 = customers.iloc[20000:]"
      ]
    },
    {
      "cell_type": "markdown",
      "id": "54946cb3",
      "metadata": {
        "id": "54946cb3"
      },
      "source": [
        "Let's check the avg_basket again. We should have done a better job!"
      ]
    },
    {
      "cell_type": "code",
      "execution_count": null,
      "id": "eb2496cc",
      "metadata": {
        "id": "eb2496cc",
        "outputId": "929aee0c-c038-44ed-b8b9-085045d21f26"
      },
      "outputs": [
        {
          "name": "stdout",
          "output_type": "stream",
          "text": [
            "64.656342 64.325558\n"
          ]
        }
      ],
      "source": [
        "print(customers1[\"avg_basket\"].mean(), customers2[\"avg_basket\"].mean())"
      ]
    },
    {
      "cell_type": "markdown",
      "id": "f4c94d01",
      "metadata": {
        "id": "f4c94d01"
      },
      "source": [
        "### The results are in"
      ]
    },
    {
      "cell_type": "markdown",
      "id": "3313cb04",
      "metadata": {
        "id": "3313cb04"
      },
      "source": [
        "After 4 weeks, the web developers have gotten back to you with the results of the [test](https://docs.google.com/spreadsheets/d/1lpyAhs6Yh2WZ-zqKrpfxKN08fZ3PTISvS2ajl3L6Avk/edit?usp=sharing). Let's analyse them to see which variant is the best. Take some time to make sense of the different columns in the *4 weeks* table. Then, download the file as CSV and load it in the next cell."
      ]
    },
    {
      "cell_type": "code",
      "execution_count": null,
      "id": "9dcde0fd",
      "metadata": {
        "id": "9dcde0fd"
      },
      "outputs": [],
      "source": [
        "# Load in the CSV of the first day.\n",
        "results = pd.read_csv(\"Greenweez Home Page Results - 4 weeks.csv\")"
      ]
    },
    {
      "cell_type": "code",
      "execution_count": null,
      "id": "7a79d72c",
      "metadata": {
        "scrolled": true,
        "colab": {
          "base_uri": "https://localhost:8080/",
          "height": 175
        },
        "id": "7a79d72c",
        "outputId": "db572967-2df7-46bb-ac85-edd3f81808bf"
      },
      "outputs": [
        {
          "output_type": "execute_result",
          "data": {
            "text/plain": [
              "               Nb sessions  Nb bounces  % bounces  Nb pages  Page / Sessions  \\\n",
              "AB test group                                                                  \n",
              "Slider blank        243210       90310   0.371325    406734         1.672357   \n",
              "Static green        243920       92031   0.377300    405872         1.663955   \n",
              "Total               487130      182341   0.374317    812606         1.668150   \n",
              "\n",
              "               Nb transactions  % conversions  \n",
              "AB test group                                  \n",
              "Slider blank             16904       0.069504  \n",
              "Static green             16699       0.068461  \n",
              "Total                    33603       0.068982  "
            ],
            "text/html": [
              "\n",
              "\n",
              "  <div id=\"df-f56f4934-f081-4fba-8998-967edd42690b\">\n",
              "    <div class=\"colab-df-container\">\n",
              "      <div>\n",
              "<style scoped>\n",
              "    .dataframe tbody tr th:only-of-type {\n",
              "        vertical-align: middle;\n",
              "    }\n",
              "\n",
              "    .dataframe tbody tr th {\n",
              "        vertical-align: top;\n",
              "    }\n",
              "\n",
              "    .dataframe thead th {\n",
              "        text-align: right;\n",
              "    }\n",
              "</style>\n",
              "<table border=\"1\" class=\"dataframe\">\n",
              "  <thead>\n",
              "    <tr style=\"text-align: right;\">\n",
              "      <th></th>\n",
              "      <th>Nb sessions</th>\n",
              "      <th>Nb bounces</th>\n",
              "      <th>% bounces</th>\n",
              "      <th>Nb pages</th>\n",
              "      <th>Page / Sessions</th>\n",
              "      <th>Nb transactions</th>\n",
              "      <th>% conversions</th>\n",
              "    </tr>\n",
              "    <tr>\n",
              "      <th>AB test group</th>\n",
              "      <th></th>\n",
              "      <th></th>\n",
              "      <th></th>\n",
              "      <th></th>\n",
              "      <th></th>\n",
              "      <th></th>\n",
              "      <th></th>\n",
              "    </tr>\n",
              "  </thead>\n",
              "  <tbody>\n",
              "    <tr>\n",
              "      <th>Slider blank</th>\n",
              "      <td>243210</td>\n",
              "      <td>90310</td>\n",
              "      <td>0.371325</td>\n",
              "      <td>406734</td>\n",
              "      <td>1.672357</td>\n",
              "      <td>16904</td>\n",
              "      <td>0.069504</td>\n",
              "    </tr>\n",
              "    <tr>\n",
              "      <th>Static green</th>\n",
              "      <td>243920</td>\n",
              "      <td>92031</td>\n",
              "      <td>0.377300</td>\n",
              "      <td>405872</td>\n",
              "      <td>1.663955</td>\n",
              "      <td>16699</td>\n",
              "      <td>0.068461</td>\n",
              "    </tr>\n",
              "    <tr>\n",
              "      <th>Total</th>\n",
              "      <td>487130</td>\n",
              "      <td>182341</td>\n",
              "      <td>0.374317</td>\n",
              "      <td>812606</td>\n",
              "      <td>1.668150</td>\n",
              "      <td>33603</td>\n",
              "      <td>0.068982</td>\n",
              "    </tr>\n",
              "  </tbody>\n",
              "</table>\n",
              "</div>\n",
              "      <button class=\"colab-df-convert\" onclick=\"convertToInteractive('df-f56f4934-f081-4fba-8998-967edd42690b')\"\n",
              "              title=\"Convert this dataframe to an interactive table.\"\n",
              "              style=\"display:none;\">\n",
              "\n",
              "  <svg xmlns=\"http://www.w3.org/2000/svg\" height=\"24px\"viewBox=\"0 0 24 24\"\n",
              "       width=\"24px\">\n",
              "    <path d=\"M0 0h24v24H0V0z\" fill=\"none\"/>\n",
              "    <path d=\"M18.56 5.44l.94 2.06.94-2.06 2.06-.94-2.06-.94-.94-2.06-.94 2.06-2.06.94zm-11 1L8.5 8.5l.94-2.06 2.06-.94-2.06-.94L8.5 2.5l-.94 2.06-2.06.94zm10 10l.94 2.06.94-2.06 2.06-.94-2.06-.94-.94-2.06-.94 2.06-2.06.94z\"/><path d=\"M17.41 7.96l-1.37-1.37c-.4-.4-.92-.59-1.43-.59-.52 0-1.04.2-1.43.59L10.3 9.45l-7.72 7.72c-.78.78-.78 2.05 0 2.83L4 21.41c.39.39.9.59 1.41.59.51 0 1.02-.2 1.41-.59l7.78-7.78 2.81-2.81c.8-.78.8-2.07 0-2.86zM5.41 20L4 18.59l7.72-7.72 1.47 1.35L5.41 20z\"/>\n",
              "  </svg>\n",
              "      </button>\n",
              "\n",
              "\n",
              "\n",
              "    <div id=\"df-81c7b285-fa0d-4e93-bbcf-7c587c5b6bb4\">\n",
              "      <button class=\"colab-df-quickchart\" onclick=\"quickchart('df-81c7b285-fa0d-4e93-bbcf-7c587c5b6bb4')\"\n",
              "              title=\"Suggest charts.\"\n",
              "              style=\"display:none;\">\n",
              "\n",
              "<svg xmlns=\"http://www.w3.org/2000/svg\" height=\"24px\"viewBox=\"0 0 24 24\"\n",
              "     width=\"24px\">\n",
              "    <g>\n",
              "        <path d=\"M19 3H5c-1.1 0-2 .9-2 2v14c0 1.1.9 2 2 2h14c1.1 0 2-.9 2-2V5c0-1.1-.9-2-2-2zM9 17H7v-7h2v7zm4 0h-2V7h2v10zm4 0h-2v-4h2v4z\"/>\n",
              "    </g>\n",
              "</svg>\n",
              "      </button>\n",
              "    </div>\n",
              "\n",
              "<style>\n",
              "  .colab-df-quickchart {\n",
              "    background-color: #E8F0FE;\n",
              "    border: none;\n",
              "    border-radius: 50%;\n",
              "    cursor: pointer;\n",
              "    display: none;\n",
              "    fill: #1967D2;\n",
              "    height: 32px;\n",
              "    padding: 0 0 0 0;\n",
              "    width: 32px;\n",
              "  }\n",
              "\n",
              "  .colab-df-quickchart:hover {\n",
              "    background-color: #E2EBFA;\n",
              "    box-shadow: 0px 1px 2px rgba(60, 64, 67, 0.3), 0px 1px 3px 1px rgba(60, 64, 67, 0.15);\n",
              "    fill: #174EA6;\n",
              "  }\n",
              "\n",
              "  [theme=dark] .colab-df-quickchart {\n",
              "    background-color: #3B4455;\n",
              "    fill: #D2E3FC;\n",
              "  }\n",
              "\n",
              "  [theme=dark] .colab-df-quickchart:hover {\n",
              "    background-color: #434B5C;\n",
              "    box-shadow: 0px 1px 3px 1px rgba(0, 0, 0, 0.15);\n",
              "    filter: drop-shadow(0px 1px 2px rgba(0, 0, 0, 0.3));\n",
              "    fill: #FFFFFF;\n",
              "  }\n",
              "</style>\n",
              "\n",
              "    <script>\n",
              "      async function quickchart(key) {\n",
              "        const containerElement = document.querySelector('#' + key);\n",
              "        const charts = await google.colab.kernel.invokeFunction(\n",
              "            'suggestCharts', [key], {});\n",
              "      }\n",
              "    </script>\n",
              "\n",
              "      <script>\n",
              "\n",
              "function displayQuickchartButton(domScope) {\n",
              "  let quickchartButtonEl =\n",
              "    domScope.querySelector('#df-81c7b285-fa0d-4e93-bbcf-7c587c5b6bb4 button.colab-df-quickchart');\n",
              "  quickchartButtonEl.style.display =\n",
              "    google.colab.kernel.accessAllowed ? 'block' : 'none';\n",
              "}\n",
              "\n",
              "        displayQuickchartButton(document);\n",
              "      </script>\n",
              "      <style>\n",
              "    .colab-df-container {\n",
              "      display:flex;\n",
              "      flex-wrap:wrap;\n",
              "      gap: 12px;\n",
              "    }\n",
              "\n",
              "    .colab-df-convert {\n",
              "      background-color: #E8F0FE;\n",
              "      border: none;\n",
              "      border-radius: 50%;\n",
              "      cursor: pointer;\n",
              "      display: none;\n",
              "      fill: #1967D2;\n",
              "      height: 32px;\n",
              "      padding: 0 0 0 0;\n",
              "      width: 32px;\n",
              "    }\n",
              "\n",
              "    .colab-df-convert:hover {\n",
              "      background-color: #E2EBFA;\n",
              "      box-shadow: 0px 1px 2px rgba(60, 64, 67, 0.3), 0px 1px 3px 1px rgba(60, 64, 67, 0.15);\n",
              "      fill: #174EA6;\n",
              "    }\n",
              "\n",
              "    [theme=dark] .colab-df-convert {\n",
              "      background-color: #3B4455;\n",
              "      fill: #D2E3FC;\n",
              "    }\n",
              "\n",
              "    [theme=dark] .colab-df-convert:hover {\n",
              "      background-color: #434B5C;\n",
              "      box-shadow: 0px 1px 3px 1px rgba(0, 0, 0, 0.15);\n",
              "      filter: drop-shadow(0px 1px 2px rgba(0, 0, 0, 0.3));\n",
              "      fill: #FFFFFF;\n",
              "    }\n",
              "  </style>\n",
              "\n",
              "      <script>\n",
              "        const buttonEl =\n",
              "          document.querySelector('#df-f56f4934-f081-4fba-8998-967edd42690b button.colab-df-convert');\n",
              "        buttonEl.style.display =\n",
              "          google.colab.kernel.accessAllowed ? 'block' : 'none';\n",
              "\n",
              "        async function convertToInteractive(key) {\n",
              "          const element = document.querySelector('#df-f56f4934-f081-4fba-8998-967edd42690b');\n",
              "          const dataTable =\n",
              "            await google.colab.kernel.invokeFunction('convertToInteractive',\n",
              "                                                     [key], {});\n",
              "          if (!dataTable) return;\n",
              "\n",
              "          const docLinkHtml = 'Like what you see? Visit the ' +\n",
              "            '<a target=\"_blank\" href=https://colab.research.google.com/notebooks/data_table.ipynb>data table notebook</a>'\n",
              "            + ' to learn more about interactive tables.';\n",
              "          element.innerHTML = '';\n",
              "          dataTable['output_type'] = 'display_data';\n",
              "          await google.colab.output.renderOutput(dataTable, element);\n",
              "          const docLink = document.createElement('div');\n",
              "          docLink.innerHTML = docLinkHtml;\n",
              "          element.appendChild(docLink);\n",
              "        }\n",
              "      </script>\n",
              "    </div>\n",
              "  </div>\n"
            ]
          },
          "metadata": {},
          "execution_count": 7
        }
      ],
      "source": [
        "# Have a look at your newly created dataframe\n",
        "results"
      ]
    },
    {
      "cell_type": "code",
      "source": [
        "# Let's reset the index to the \"AB test group\" column\n",
        "results.set_index(\"AB test group\", inplace = True)"
      ],
      "metadata": {
        "id": "nx1q8Qvxve19"
      },
      "id": "nx1q8Qvxve19",
      "execution_count": null,
      "outputs": []
    },
    {
      "cell_type": "code",
      "execution_count": null,
      "id": "d0165a9d",
      "metadata": {
        "colab": {
          "base_uri": "https://localhost:8080/"
        },
        "id": "d0165a9d",
        "outputId": "0eee0888-d0c2-4bb3-a13e-a7de24c460cf"
      },
      "outputs": [
        {
          "output_type": "execute_result",
          "data": {
            "text/plain": [
              "243210"
            ]
          },
          "metadata": {},
          "execution_count": 8
        }
      ],
      "source": [
        "# Make sure you know how to access the individual values - try displaying the number of sessions for the blank slider\n",
        "# Try using the column/index names and not numbers to make the code more readable\n",
        "results.loc[\"Slider blank\", \"Nb sessions\"]"
      ]
    },
    {
      "cell_type": "markdown",
      "id": "a4f8d5d1",
      "metadata": {
        "id": "a4f8d5d1"
      },
      "source": [
        "### The bounce variable"
      ]
    },
    {
      "cell_type": "markdown",
      "id": "8fe47bff",
      "metadata": {
        "id": "8fe47bff"
      },
      "source": [
        "The first metric we want to analyse is bounce! What kind of test would best suit this metric?"
      ]
    },
    {
      "cell_type": "markdown",
      "id": "52b19a75",
      "metadata": {
        "id": "52b19a75"
      },
      "source": [
        "*Answer: Chi-Square test because bounce is a discrete binary variable, a customer either bounces or doesn't!*"
      ]
    },
    {
      "cell_type": "markdown",
      "id": "32dea381",
      "metadata": {
        "id": "32dea381"
      },
      "source": [
        "Now that we've chosen the appropriate test, you might notice that we're lacking something! The theoretical or expected value. Since neither of these variants have been implemented before and we don't have a baseline, we'll have to create our own. Our hypothesis is that the Bounce rate is the same for both variants -- equal to the average Bounce rate of 37.40%.\n",
        "\n",
        "Compute the theoretical number of bounces for both variants using the average bounce rate!"
      ]
    },
    {
      "cell_type": "code",
      "execution_count": null,
      "id": "2d316845",
      "metadata": {
        "id": "2d316845"
      },
      "outputs": [],
      "source": [
        "# Compute the theoretical number of bounces for both variants using the average bounce rate!\n",
        "blank_theoretical_bounce = results.loc['Total', '% bounces'] * results.loc['Slider blank', 'Nb sessions']\n",
        "green_theoretical_bounce = results.loc['Total', '% bounces'] * results.loc['Static green', 'Nb sessions']"
      ]
    },
    {
      "cell_type": "markdown",
      "id": "3242a583",
      "metadata": {
        "id": "3242a583"
      },
      "source": [
        "Now that we have all the elements we need, compute the Chi-Square test below, first by hand with the formula (and the table) and then using the [scipy function](https://docs.scipy.org/doc/scipy/reference/generated/scipy.stats.chisquare.html)"
      ]
    },
    {
      "cell_type": "code",
      "execution_count": null,
      "id": "16a093e6",
      "metadata": {
        "id": "16a093e6"
      },
      "outputs": [],
      "source": [
        "## With the formula\n",
        "\n",
        "chi_square_bounce = (((results.loc['Slider blank', 'Nb bounces'] - blank_theoretical_bounce) ** 2) /  (blank_theoretical_bounce) + \\\n",
        "                          ((results.loc['Static green', 'Nb bounces'] - green_theoretical_bounce) ** 2) /  green_theoretical_bounce)\n",
        "print(f\"Using the formula: {chi_square_bounce}\")\n",
        "\n",
        "## With Scipy\n",
        "\n",
        "# Import the right modules (also import numpy)\n",
        "from scipy.stats import chisquare\n",
        "import numpy as np\n",
        "\n",
        "# Create arrays for the observed and expected bounce values\n",
        "f_obs_bounce = np.array([results.loc['Slider blank', 'Nb bounces'], results.loc['Static green', 'Nb bounces']])\n",
        "f_exp_bounce = np.array([blank_theoretical_bounce, green_theoretical_bounce])\n",
        "\n",
        "# Calculate chisquare\n",
        "chi_square_bounce = chisquare(f_obs=f_obs_bounce, f_exp=f_exp_bounce)"
      ]
    },
    {
      "cell_type": "markdown",
      "id": "4904d94e",
      "metadata": {
        "id": "4904d94e"
      },
      "source": [
        "What do you make of the results? Can we safely reject the null hypothesis?"
      ]
    },
    {
      "cell_type": "markdown",
      "id": "589c5a3e",
      "metadata": {
        "id": "589c5a3e"
      },
      "source": [
        "*Yes, we can - the p-value is low enough (lower than our 5% threshold)*"
      ]
    },
    {
      "cell_type": "markdown",
      "id": "1f281c60",
      "metadata": {
        "id": "1f281c60"
      },
      "source": [
        "### What about the other metrics?"
      ]
    },
    {
      "cell_type": "markdown",
      "id": "8a16d3a5",
      "metadata": {
        "id": "8a16d3a5"
      },
      "source": [
        "Let's repeat what we just did for the other valid metric: number of transactions made. Again, we need to compute the theoretical values first.\n",
        "\n",
        "Could we also compute for number of pages visited? Why/why not?"
      ]
    },
    {
      "cell_type": "markdown",
      "id": "e46d8537",
      "metadata": {
        "id": "e46d8537"
      },
      "source": [
        "#### Number of transactions made"
      ]
    },
    {
      "cell_type": "code",
      "execution_count": null,
      "id": "65370e19",
      "metadata": {
        "id": "65370e19"
      },
      "outputs": [],
      "source": [
        "# Compute the theoretical transactions for both variants using the conversion rate!\n",
        "blank_theoretical_transactions = results.loc['Slider blank',  'Nb sessions'] * results.loc['Total', '% conversions']\n",
        "green_theoretical_transactions = results.loc['Static green',  'Nb sessions'] * results.loc['Total', '% conversions']"
      ]
    },
    {
      "cell_type": "code",
      "execution_count": null,
      "id": "c9e2d62c",
      "metadata": {
        "id": "c9e2d62c"
      },
      "outputs": [],
      "source": [
        "# Chi-Square with the formula\n",
        "\n",
        "chi_square_transactions = (((results.loc['Slider blank', 'Nb transactions'] - blank_theoretical_transactions) ** 2) /  (blank_theoretical_transactions) + \\\n",
        "                          ((results.loc['Static green', 'Nb transactions'] - green_theoretical_transactions) ** 2) /  green_theoretical_transactions)\n",
        "print(f\"Using the formula: {chi_square_transactions}\")\n",
        "\n",
        "\n",
        "# Chi-Square with the Scipy function\n",
        "f_obs_transactions = np.array([results.loc['Slider blank', 'Nb transactions'], results.loc['Static green', 'Nb transactions']])\n",
        "f_exp_transactions = np.array([blank_theoretical_transactions, green_theoretical_transactions])\n",
        "\n",
        "chi_square_transactions = chisquare(f_obs=f_obs_transactions, f_exp=f_exp_transactions)\n",
        "chi_square_transactions"
      ]
    },
    {
      "cell_type": "markdown",
      "id": "4a4a0105",
      "metadata": {
        "id": "4a4a0105"
      },
      "source": [
        "Is the resulting p-value satisfactory?"
      ]
    }
  ],
  "metadata": {
    "kernelspec": {
      "display_name": "Python 3 (ipykernel)",
      "language": "python",
      "name": "python3"
    },
    "language_info": {
      "codemirror_mode": {
        "name": "ipython",
        "version": 3
      },
      "file_extension": ".py",
      "mimetype": "text/x-python",
      "name": "python",
      "nbconvert_exporter": "python",
      "pygments_lexer": "ipython3",
      "version": "3.8.12"
    },
    "colab": {
      "provenance": [],
      "include_colab_link": true
    }
  },
  "nbformat": 4,
  "nbformat_minor": 5
}