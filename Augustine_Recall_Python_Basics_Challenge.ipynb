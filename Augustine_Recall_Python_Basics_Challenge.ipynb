{
  "nbformat": 4,
  "nbformat_minor": 0,
  "metadata": {
    "kernelspec": {
      "display_name": "Python 3",
      "language": "python",
      "name": "python3"
    },
    "language_info": {
      "codemirror_mode": {
        "name": "ipython",
        "version": 3
      },
      "file_extension": ".py",
      "mimetype": "text/x-python",
      "name": "python",
      "nbconvert_exporter": "python",
      "pygments_lexer": "ipython3",
      "version": "3.8.0"
    },
    "colab": {
      "provenance": [],
      "include_colab_link": true
    }
  },
  "cells": [
    {
      "cell_type": "markdown",
      "metadata": {
        "id": "view-in-github",
        "colab_type": "text"
      },
      "source": [
        "<a href=\"https://colab.research.google.com/github/Sagaust/DH-Computational-Methodologies/blob/main/Augustine_Recall_Python_Basics_Challenge.ipynb\" target=\"_parent\"><img src=\"https://colab.research.google.com/assets/colab-badge.svg\" alt=\"Open In Colab\"/></a>"
      ]
    },
    {
      "cell_type": "markdown",
      "metadata": {
        "id": "fhlLb9BKgfgp"
      },
      "source": [
        " ![Emil](data:image/png;base64,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)"
      ]
    },
    {
      "cell_type": "markdown",
      "metadata": {
        "id": "b8BkIRvbgfgq"
      },
      "source": [
        "# Recall Python Basics"
      ]
    },
    {
      "cell_type": "markdown",
      "source": [
        "Before you start, Google Colab is going to be your friend for the next few days, so it's best to get to know each other! Here you'll find **tutorials and tips** for getting started on Google Colab. Don't worry, Colab is renowned for being user-friendly! 🤗\n",
        "\n",
        "[Tutorials & Tips 🔗](https://lewagon.notion.site/Get-Started-with-Google-Colaboratory-916b255b21fa495baa58b654c90f7f86)\n"
      ],
      "metadata": {
        "id": "MocDAs97Va87"
      }
    },
    {
      "cell_type": "markdown",
      "metadata": {
        "id": "uLh5qevGgfgt"
      },
      "source": [
        "### Basic initialisations"
      ]
    },
    {
      "cell_type": "markdown",
      "metadata": {
        "id": "puantXVYgfgu"
      },
      "source": [
        "a) Initialise two variables : `a` equals to 5 and `b` equals to 20"
      ]
    },
    {
      "cell_type": "code",
      "metadata": {
        "id": "sF4QvrE3gfgv"
      },
      "source": [
        "a = 5\n",
        "b = 20"
      ],
      "execution_count": 1,
      "outputs": []
    },
    {
      "cell_type": "markdown",
      "metadata": {
        "id": "IX3l0HbFgfgz"
      },
      "source": [
        "b) Display the value of `a`"
      ]
    },
    {
      "cell_type": "code",
      "metadata": {
        "id": "uhr5YhUqgfg0",
        "colab": {
          "base_uri": "https://localhost:8080/"
        },
        "outputId": "4d1cdebc-6bff-4218-c505-13ea750782cc"
      },
      "source": [
        "print(a)"
      ],
      "execution_count": 2,
      "outputs": [
        {
          "output_type": "stream",
          "name": "stdout",
          "text": [
            "5\n"
          ]
        }
      ]
    },
    {
      "cell_type": "markdown",
      "metadata": {
        "id": "1umKra8tgfg3"
      },
      "source": [
        "c) Change value of `a` to 7"
      ]
    },
    {
      "cell_type": "code",
      "metadata": {
        "id": "8SUVSVJvgfg3"
      },
      "source": [
        "a = 7"
      ],
      "execution_count": 3,
      "outputs": []
    },
    {
      "cell_type": "markdown",
      "metadata": {
        "id": "OuNWNUDxgfg5"
      },
      "source": [
        "d) Display the new value of `a`"
      ]
    },
    {
      "cell_type": "code",
      "metadata": {
        "id": "VURDnYTEgfg6",
        "colab": {
          "base_uri": "https://localhost:8080/"
        },
        "outputId": "6454616e-f5a4-4f9a-c5e5-2adbd7ae5530"
      },
      "source": [
        "print(a)"
      ],
      "execution_count": 4,
      "outputs": [
        {
          "output_type": "stream",
          "name": "stdout",
          "text": [
            "7\n"
          ]
        }
      ]
    },
    {
      "cell_type": "markdown",
      "metadata": {
        "id": "OArRQEQAgfg9"
      },
      "source": [
        "e) Create a new variable `d` equals to the product of variables `a` and `b`. What is the type of `d`?"
      ]
    },
    {
      "cell_type": "code",
      "metadata": {
        "id": "mPlfd9pygfg9"
      },
      "source": [
        "d = int (a * b)"
      ],
      "execution_count": 6,
      "outputs": []
    },
    {
      "cell_type": "markdown",
      "source": [
        "f) We want to switch values between `a` and `b`. How do you proceed ? Think of introducing new elements..."
      ],
      "metadata": {
        "id": "rK5fjaH-L1aI"
      }
    },
    {
      "cell_type": "code",
      "source": [
        "print (d)"
      ],
      "metadata": {
        "id": "2vn3T7vnL0vV",
        "colab": {
          "base_uri": "https://localhost:8080/"
        },
        "outputId": "d7fb1631-cc0b-4c9e-80ec-96cdce055489"
      },
      "execution_count": 7,
      "outputs": [
        {
          "output_type": "stream",
          "name": "stdout",
          "text": [
            "140\n"
          ]
        }
      ]
    },
    {
      "cell_type": "markdown",
      "metadata": {
        "id": "9HkYCn8-gfhK"
      },
      "source": [
        "### Create conditions"
      ]
    },
    {
      "cell_type": "markdown",
      "metadata": {
        "id": "3CA4tS8xgfhK"
      },
      "source": [
        "a) Create a new variable `e` equal to 20 and create a condition that will display \"strictly greater than 5\" if this variable is indeed strictly greater than 5.\n",
        "\n",
        "Look at your course to see how the syntax of a condition is written."
      ]
    },
    {
      "cell_type": "code",
      "metadata": {
        "id": "1aZVTunYgfhL",
        "colab": {
          "base_uri": "https://localhost:8080/"
        },
        "outputId": "d5993ade-9ddd-4024-a6eb-d028effcb259"
      },
      "source": [
        "e = 20\n",
        "\n",
        "if e > 5:\n",
        "    print(\"strictly greater than 5\")\n"
      ],
      "execution_count": 9,
      "outputs": [
        {
          "output_type": "stream",
          "name": "stdout",
          "text": [
            "strictly greater than 5\n"
          ]
        }
      ]
    },
    {
      "cell_type": "markdown",
      "metadata": {
        "id": "F5D575_UgfhN"
      },
      "source": [
        "b) Complete the previous code to show \"less than or equal to 5\" if not. Test your code on several values of `e`."
      ]
    },
    {
      "cell_type": "code",
      "metadata": {
        "id": "ewKuD1GegfhN",
        "colab": {
          "base_uri": "https://localhost:8080/"
        },
        "outputId": "662dd46a-cde6-41cd-80b2-d8d81a7dbbab"
      },
      "source": [
        "# Function to test the condition on different values of e\n",
        "def test_e(e):\n",
        "    if e > 5:\n",
        "        return \"strictly greater than 5\"\n",
        "    else:\n",
        "        return \"less than or equal to 5\"\n",
        "\n",
        "# Testing the function with different values of e\n",
        "results = {\n",
        "    \"e = 20\": test_e(20),\n",
        "    \"e = 5\": test_e(5),\n",
        "    \"e = 0\": test_e(0),\n",
        "    \"e = 10\": test_e(10),\n",
        "}\n",
        "\n",
        "# Printing the results\n",
        "for key, value in results.items():\n",
        "    print(f\"{key}: {value}\")\n"
      ],
      "execution_count": 11,
      "outputs": [
        {
          "output_type": "stream",
          "name": "stdout",
          "text": [
            "e = 20: strictly greater than 5\n",
            "e = 5: less than or equal to 5\n",
            "e = 0: less than or equal to 5\n",
            "e = 10: strictly greater than 5\n"
          ]
        }
      ]
    },
    {
      "cell_type": "markdown",
      "metadata": {
        "id": "3IcJv8ZugfhQ"
      },
      "source": [
        "c) Complete the previous code to display \"equal to 5\" if e is 5. Test your code on several values of e.\n",
        "\n",
        "Take a good look at the writing of the elif in your course."
      ]
    },
    {
      "cell_type": "code",
      "metadata": {
        "id": "TEFg-9cQgfhQ",
        "colab": {
          "base_uri": "https://localhost:8080/"
        },
        "outputId": "d6409d46-e3f2-4b2a-f0be-af2f1a039543"
      },
      "source": [
        "# Updating the function to include a condition for e being equal to 5\n",
        "def test_e(e):\n",
        "    if e > 5:\n",
        "        return \"strictly greater than 5\"\n",
        "    elif e == 5:\n",
        "        return \"equal to 5\"\n",
        "    else:\n",
        "        return \"less than or equal to 5\"\n",
        "\n",
        "# Testing the function with different values of e\n",
        "results = {\n",
        "    \"e = 20\": test_e(20),\n",
        "    \"e = 5\": test_e(5),\n",
        "    \"e = 0\": test_e(0),\n",
        "    \"e = 10\": test_e(10),\n",
        "    \"e = -3\": test_e(-3),\n",
        "    \"e = 7\": test_e(7),\n",
        "}\n",
        "\n",
        "# Printing the results\n",
        "for key, value in results.items():\n",
        "    print(f\"{key}: {value}\")\n"
      ],
      "execution_count": 19,
      "outputs": [
        {
          "output_type": "stream",
          "name": "stdout",
          "text": [
            "e = 20: strictly greater than 5\n",
            "e = 5: equal to 5\n",
            "e = 0: less than or equal to 5\n",
            "e = 10: strictly greater than 5\n",
            "e = -3: less than or equal to 5\n",
            "e = 7: strictly greater than 5\n"
          ]
        }
      ]
    },
    {
      "cell_type": "markdown",
      "metadata": {
        "id": "0uUn8_engfhV"
      },
      "source": [
        "### Lists"
      ]
    },
    {
      "cell_type": "markdown",
      "metadata": {
        "id": "05Cny4N0gfhW"
      },
      "source": [
        "a) Create a list `list_example` of values 3, 5, 12, 7, 4 and 36"
      ]
    },
    {
      "cell_type": "code",
      "metadata": {
        "id": "A-xynbVrgfhW",
        "colab": {
          "base_uri": "https://localhost:8080/"
        },
        "outputId": "7ffe5320-dc1d-44a2-81c6-9e5de01cd1ac"
      },
      "source": [
        "list_example = [3, 5, 12, 7, 4, 36]\n",
        "list_example"
      ],
      "execution_count": 21,
      "outputs": [
        {
          "output_type": "execute_result",
          "data": {
            "text/plain": [
              "[3, 5, 12, 7, 4, 36]"
            ]
          },
          "metadata": {},
          "execution_count": 21
        }
      ]
    },
    {
      "cell_type": "markdown",
      "source": [
        "Now append the value 2 to the list."
      ],
      "metadata": {
        "id": "dCkg6gDEoiE8"
      }
    },
    {
      "cell_type": "code",
      "source": [
        "list_example.append(2)"
      ],
      "metadata": {
        "id": "RPkbdEa0M29k"
      },
      "execution_count": 22,
      "outputs": []
    },
    {
      "cell_type": "markdown",
      "metadata": {
        "id": "9bXWlkyFXT7R"
      },
      "source": [
        "b) Display the length of `list_example`"
      ]
    },
    {
      "cell_type": "code",
      "metadata": {
        "id": "L242S9u1XTDy",
        "colab": {
          "base_uri": "https://localhost:8080/"
        },
        "outputId": "7ef48089-2c67-46e3-c15f-acff802fcbe4"
      },
      "source": [
        "len(list_example)"
      ],
      "execution_count": 24,
      "outputs": [
        {
          "output_type": "execute_result",
          "data": {
            "text/plain": [
              "7"
            ]
          },
          "metadata": {},
          "execution_count": 24
        }
      ]
    },
    {
      "cell_type": "code",
      "source": [
        "list_example"
      ],
      "metadata": {
        "colab": {
          "base_uri": "https://localhost:8080/"
        },
        "id": "bp55VoqwNWyl",
        "outputId": "b13e898b-effe-43ca-aa7c-866f3f364fd7"
      },
      "execution_count": 25,
      "outputs": [
        {
          "output_type": "execute_result",
          "data": {
            "text/plain": [
              "[3, 5, 12, 7, 4, 36, 2]"
            ]
          },
          "metadata": {},
          "execution_count": 25
        }
      ]
    },
    {
      "cell_type": "markdown",
      "metadata": {
        "id": "yCK7BoLngfhY"
      },
      "source": [
        "c) Display the first element of the list"
      ]
    },
    {
      "cell_type": "code",
      "metadata": {
        "id": "6EDt1uzPgfhZ",
        "colab": {
          "base_uri": "https://localhost:8080/"
        },
        "outputId": "3cb5682d-6cf9-4d7e-c314-ac294766cf4a"
      },
      "source": [
        "first_element = list_example[0]\n",
        "first_element"
      ],
      "execution_count": 30,
      "outputs": [
        {
          "output_type": "execute_result",
          "data": {
            "text/plain": [
              "3"
            ]
          },
          "metadata": {},
          "execution_count": 30
        }
      ]
    },
    {
      "cell_type": "markdown",
      "metadata": {
        "id": "6-rcsIs3gfhb"
      },
      "source": [
        "d) Change the third item in the list to 17 and display the modified list"
      ]
    },
    {
      "cell_type": "code",
      "metadata": {
        "id": "YVjIgfCggfhb",
        "colab": {
          "base_uri": "https://localhost:8080/"
        },
        "outputId": "96c34c4e-5c30-4498-faec-866b828e0ff8"
      },
      "source": [
        "list_example[2] = 17\n",
        "list_example"
      ],
      "execution_count": 31,
      "outputs": [
        {
          "output_type": "execute_result",
          "data": {
            "text/plain": [
              "[3, 5, 17, 7, 4, 36, 2]"
            ]
          },
          "metadata": {},
          "execution_count": 31
        }
      ]
    },
    {
      "cell_type": "markdown",
      "metadata": {
        "id": "seRp-HCVgfhd"
      },
      "source": [
        "e) With a loop, display the elements of the list one below the other that are multiples of 4.\n",
        "\n",
        "You can write the following condition `val % 4 == 0` to test if the variable `val` is a multiple of 4.\n",
        "\n",
        "The `%` sign in Python refers to the modulo. We test if the remainder of the division of val by 4 is 0 or not."
      ]
    },
    {
      "cell_type": "code",
      "source": [
        "multiples_of_four = [i for i in list_example if i % 4 == 0]\n",
        "\n",
        "multiples_of_four"
      ],
      "metadata": {
        "id": "kfYeem0Dd7xf",
        "colab": {
          "base_uri": "https://localhost:8080/"
        },
        "outputId": "17b26bfc-8dc7-482b-b8ac-015b7bc63e7c"
      },
      "execution_count": 32,
      "outputs": [
        {
          "output_type": "execute_result",
          "data": {
            "text/plain": [
              "[4, 36]"
            ]
          },
          "metadata": {},
          "execution_count": 32
        }
      ]
    },
    {
      "cell_type": "code",
      "metadata": {
        "id": "ySIh95NJgfhd"
      },
      "source": [],
      "execution_count": null,
      "outputs": []
    },
    {
      "cell_type": "markdown",
      "metadata": {
        "id": "iJFK8LYdgfh1"
      },
      "source": [
        "f) Add 296 to the list `list_example`.\n",
        "\n",
        "Display the updated list"
      ]
    },
    {
      "cell_type": "code",
      "metadata": {
        "id": "DNLOFRgqRAA3",
        "colab": {
          "base_uri": "https://localhost:8080/"
        },
        "outputId": "3eaa00bb-e888-4cd8-88ee-6e586c1eae90"
      },
      "source": [
        "list_example.append(296)\n",
        "list_example"
      ],
      "execution_count": 36,
      "outputs": [
        {
          "output_type": "execute_result",
          "data": {
            "text/plain": [
              "[3, 5, 17, 7, 4, 36, 2, 296]"
            ]
          },
          "metadata": {},
          "execution_count": 36
        }
      ]
    },
    {
      "cell_type": "markdown",
      "metadata": {
        "id": "9Si0OEPDgfh4"
      },
      "source": [
        "### Dictionaries"
      ]
    },
    {
      "cell_type": "markdown",
      "metadata": {
        "id": "eUo9-cq6gfh5"
      },
      "source": [
        "a) Run the code below to initialise the dictionary."
      ]
    },
    {
      "cell_type": "code",
      "metadata": {
        "id": "fUI43nW6gfh5"
      },
      "source": [
        "dict_example = {\n",
        "    \"A\": \"car\",\n",
        "    \"B\": 2,\n",
        "    \"C\": \"bike\"\n",
        "}"
      ],
      "execution_count": 38,
      "outputs": []
    },
    {
      "cell_type": "markdown",
      "metadata": {
        "id": "OYLVzSnbgfh7"
      },
      "source": [
        "b) Display the dictionary keys\n"
      ]
    },
    {
      "cell_type": "code",
      "metadata": {
        "id": "GPPj9rfjgfh8",
        "colab": {
          "base_uri": "https://localhost:8080/"
        },
        "outputId": "045c7da5-f541-4b43-9187-beb6803f0a23"
      },
      "source": [
        "dict_keys = dict_example.keys()\n",
        "\n",
        "dict_keys\n"
      ],
      "execution_count": 39,
      "outputs": [
        {
          "output_type": "execute_result",
          "data": {
            "text/plain": [
              "dict_keys(['A', 'B', 'C'])"
            ]
          },
          "metadata": {},
          "execution_count": 39
        }
      ]
    },
    {
      "cell_type": "markdown",
      "metadata": {
        "id": "HaXlNHP2gfh-"
      },
      "source": [
        "c) Display the value of the \"C\" key"
      ]
    },
    {
      "cell_type": "code",
      "metadata": {
        "id": "NzwdGO61gfh_",
        "colab": {
          "base_uri": "https://localhost:8080/",
          "height": 35
        },
        "outputId": "00882b69-0af6-4fcd-861e-d45a860d422f"
      },
      "source": [
        "value_of_C = dict_example[\"C\"]\n",
        "value_of_C"
      ],
      "execution_count": 40,
      "outputs": [
        {
          "output_type": "execute_result",
          "data": {
            "text/plain": [
              "'bike'"
            ],
            "application/vnd.google.colaboratory.intrinsic+json": {
              "type": "string"
            }
          },
          "metadata": {},
          "execution_count": 40
        }
      ]
    },
    {
      "cell_type": "markdown",
      "metadata": {
        "id": "D-8UIuGLgfiB"
      },
      "source": [
        "d) Add a new key \"D\" containing 8. Display the dictionary to check the result."
      ]
    },
    {
      "cell_type": "code",
      "metadata": {
        "id": "bymhvLxqgfiC",
        "colab": {
          "base_uri": "https://localhost:8080/"
        },
        "outputId": "9ae0d45a-d280-444c-deaf-dc2e775ea034"
      },
      "source": [
        "dict_example[\"D\"] = 8\n",
        "\n",
        "dict_example"
      ],
      "execution_count": 41,
      "outputs": [
        {
          "output_type": "execute_result",
          "data": {
            "text/plain": [
              "{'A': 'car', 'B': 2, 'C': 'bike', 'D': 8}"
            ]
          },
          "metadata": {},
          "execution_count": 41
        }
      ]
    }
  ]
}