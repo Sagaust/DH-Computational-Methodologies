{
  "nbformat": 4,
  "nbformat_minor": 0,
  "metadata": {
    "colab": {
      "provenance": [],
      "include_colab_link": true
    },
    "kernelspec": {
      "name": "python3",
      "display_name": "Python 3"
    },
    "language_info": {
      "name": "python"
    }
  },
  "cells": [
    {
      "cell_type": "markdown",
      "metadata": {
        "id": "view-in-github",
        "colab_type": "text"
      },
      "source": [
        "<a href=\"https://colab.research.google.com/github/Sagaust/DH-Computational-Methodologies/blob/main/Augustine_Travel_agency_database_challenge.ipynb\" target=\"_parent\"><img src=\"https://colab.research.google.com/assets/colab-badge.svg\" alt=\"Open In Colab\"/></a>"
      ]
    },
    {
      "cell_type": "markdown",
      "source": [
        " ![Emil](data:image/png;base64,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)"
      ],
      "metadata": {
        "id": "b-gD-sAz7tXO"
      }
    },
    {
      "cell_type": "markdown",
      "source": [
        "# Travel agency\n",
        "\n"
      ],
      "metadata": {
        "id": "-GZaVHIylfhC"
      }
    },
    {
      "cell_type": "markdown",
      "source": [
        "Today, you are working at a travel agency. All the cities covered by this agency are stored in a Python dictionary.\n",
        "\n",
        "\n",
        "They require your newly acquired Python skills to develop useful functions!"
      ],
      "metadata": {
        "id": "OXuaW1Ey74eO"
      }
    },
    {
      "cell_type": "markdown",
      "source": [
        "## Discover the information for one city"
      ],
      "metadata": {
        "id": "Ot9XlCT-8d5w"
      }
    },
    {
      "cell_type": "markdown",
      "source": [
        "\n",
        "\n",
        "```\n",
        "# This text is in code format\n",
        "```\n",
        "\n",
        "The information pertaining to a city is provided in a single dictionary. Let's take a look at an example below.\n",
        "\n",
        "Please note that:\n",
        "- location corresponds to latitude and longitude\n",
        "- prefecture_level is measured in km2 (square kilometers)"
      ],
      "metadata": {
        "id": "0TklkrRAl8iD"
      }
    },
    {
      "cell_type": "code",
      "source": [
        "paris_city = {\"name\": \"Paris\",\n",
        "              \"total_population\": 2102650,\n",
        "              \"continent\": \"Europe\",\n",
        "              \"location\": [48.8566, 2.3522],\n",
        "              \"area\": {\n",
        "                  \"prefecture_level\": 105.4\n",
        "              }}"
      ],
      "metadata": {
        "id": "L4hhUpgFl9Q1"
      },
      "execution_count": 2,
      "outputs": []
    },
    {
      "cell_type": "markdown",
      "source": [
        "1) What is the data type of the key value `location`? What about `area`?"
      ],
      "metadata": {
        "id": "x6Xa65XVAw_4"
      }
    },
    {
      "cell_type": "markdown",
      "source": [
        "1.   The the data type of the value of the location key is a list.\n",
        "2.   The the data type of the value of the area key is a dictionary.\n",
        "\n"
      ],
      "metadata": {
        "id": "66X9cyzQt9MX"
      }
    },
    {
      "cell_type": "code",
      "source": [],
      "metadata": {
        "id": "GE7GFCX4EIkX"
      },
      "execution_count": null,
      "outputs": []
    },
    {
      "cell_type": "markdown",
      "source": [
        "2) How do we get `prefecture_level` value from `paris_city` variable?"
      ],
      "metadata": {
        "id": "FTD6Z3lPEStU"
      }
    },
    {
      "cell_type": "code",
      "source": [
        "paris_city[\"area\"][\"prefecture_level\"]"
      ],
      "metadata": {
        "id": "0x7cIrUUEcpK",
        "colab": {
          "base_uri": "https://localhost:8080/"
        },
        "outputId": "deb03bcf-2b60-45fd-8fb8-c6b6f1d3bd4d"
      },
      "execution_count": 3,
      "outputs": [
        {
          "output_type": "execute_result",
          "data": {
            "text/plain": [
              "105.4"
            ]
          },
          "metadata": {},
          "execution_count": 3
        }
      ]
    },
    {
      "cell_type": "markdown",
      "source": [
        "3) How do we get longitude value from `paris_city` variable?"
      ],
      "metadata": {
        "id": "0gbqOyRiEcYX"
      }
    },
    {
      "cell_type": "code",
      "source": [
        "paris_city[\"location\"][1]"
      ],
      "metadata": {
        "id": "ncyiUMxsEwPZ",
        "colab": {
          "base_uri": "https://localhost:8080/"
        },
        "outputId": "6e2908d4-4725-4668-8169-e32bd44636ba"
      },
      "execution_count": 4,
      "outputs": [
        {
          "output_type": "execute_result",
          "data": {
            "text/plain": [
              "2.3522"
            ]
          },
          "metadata": {},
          "execution_count": 4
        }
      ]
    },
    {
      "cell_type": "markdown",
      "source": [
        "4) Create a function `get_key_value_from_city` that takes two arguments `city` and `key` and outputs the key value from the city.\n",
        "\n",
        "Eg: `get_key_value_from_city(city=paris_city, key=\"total_population\")` will output 2102650\n",
        "\n",
        "\n",
        "If a property doesn't exist, please return \"not defined\""
      ],
      "metadata": {
        "id": "CRhMbQ-GlfXC"
      }
    },
    {
      "cell_type": "code",
      "source": [
        "# create the function with the selected arguments\n",
        "def get_key_value_from_city(city=None, key=None):\n",
        "        # set default output\n",
        "        output = \"not defined\"\n",
        "  # set the output if the required key exists in the selected city\n",
        "        if city is not None and key is not None and key in city:\n",
        "          output= city[key]\n",
        "\n",
        "        return output\n"
      ],
      "metadata": {
        "id": "Rgqzj8y8FYjU"
      },
      "execution_count": 6,
      "outputs": []
    },
    {
      "cell_type": "code",
      "source": [
        "cities = [\n",
        "    {\n",
        "        \"name\": \"Paris\",\n",
        "        \"total_population\": 2102650,\n",
        "        \"continent\": \"Europe\",\n",
        "        \"location\": [48.8566, 2.3522],\n",
        "        \"area\": {\n",
        "            \"prefecture_level\": 105.4\n",
        "        }\n",
        "    },\n",
        "    {\n",
        "        \"name\": \"Xi’an\",\n",
        "        \"total_population\": 12328000,\n",
        "        \"continent\": \"Asia\",\n",
        "        \"location\": [34.2667, 108.9000],\n",
        "        \"area\": {\n",
        "            \"prefecture_level\": 10762\n",
        "        }\n",
        "    },\n",
        "    {\n",
        "        \"name\": \"Chengdu\",\n",
        "        \"total_population\": 14645000,\n",
        "        \"continent\": \"Asia\",\n",
        "        \"location\": [30.6600, 104.0633],\n",
        "        \"area\": {\n",
        "            \"prefecture_level\": 14378\n",
        "        }\n",
        "    },\n",
        "    {\n",
        "        \"name\": \"Los Angeles\",\n",
        "        \"total_population\": 12121244,\n",
        "        \"continent\": \"North America\",\n",
        "        \"location\": [34.1141, -118.4068],\n",
        "        \"area\": {\n",
        "            \"prefecture_level\": 1299\n",
        "        }\n",
        "    },\n",
        "    {\n",
        "        \"name\": \"Brooklyn\",\n",
        "        \"continent\": \"North America\",\n",
        "        \"location\": [40.6501, -73.9496],\n",
        "        \"area\": {\n",
        "            \"prefecture_level\": 180\n",
        "        }\n",
        "    }\n",
        "]"
      ],
      "metadata": {
        "id": "9bGM-BN8zZsU"
      },
      "execution_count": 16,
      "outputs": []
    },
    {
      "cell_type": "code",
      "source": [
        "paris_info = get_key_value_from_city(city=cities[0], key=\"total_population\")\n",
        "print(paris_info)\n"
      ],
      "metadata": {
        "colab": {
          "base_uri": "https://localhost:8080/"
        },
        "id": "YWrbmoNyyDGj",
        "outputId": "3326c97c-0f54-4d04-c86e-bee9249426db"
      },
      "execution_count": 8,
      "outputs": [
        {
          "output_type": "stream",
          "name": "stdout",
          "text": [
            "2102650\n"
          ]
        }
      ]
    },
    {
      "cell_type": "code",
      "source": [
        "LosAngeles_info = get_key_value_from_city(city=cities[3], key=\"total_population\")\n",
        "print(LosAngeles_info)\n"
      ],
      "metadata": {
        "colab": {
          "base_uri": "https://localhost:8080/"
        },
        "id": "i0ZCKTKuzi7i",
        "outputId": "10b46ae9-17b8-4053-fc22-57c8b24d7b01"
      },
      "execution_count": 10,
      "outputs": [
        {
          "output_type": "stream",
          "name": "stdout",
          "text": [
            "12121244\n"
          ]
        }
      ]
    },
    {
      "cell_type": "code",
      "source": [
        "Brooklyn_info = get_key_value_from_city(city=cities[4], key=\"total_population\")\n",
        "print(Brooklyn_info)\n"
      ],
      "metadata": {
        "colab": {
          "base_uri": "https://localhost:8080/"
        },
        "id": "xICzr7V2z7ux",
        "outputId": "06a8f1b1-9c76-4487-d0fe-74a1db1e2568"
      },
      "execution_count": 17,
      "outputs": [
        {
          "output_type": "stream",
          "name": "stdout",
          "text": [
            "not defined\n"
          ]
        }
      ]
    },
    {
      "cell_type": "markdown",
      "source": [
        "## Discovering all cities"
      ],
      "metadata": {
        "id": "T_pIQ8wW_S5k"
      }
    },
    {
      "cell_type": "markdown",
      "source": [
        "As a travel agency, they have collected multiple cities information where they manage accommodations. All of these cities are stored in a Python list called `cities`."
      ],
      "metadata": {
        "id": "E6npEinSHZOr"
      }
    },
    {
      "cell_type": "markdown",
      "source": [
        "1) Execute the cell below to load data. How many cities do they have?"
      ],
      "metadata": {
        "id": "2BSHTaHyBB9g"
      }
    },
    {
      "cell_type": "code",
      "source": [
        "cities = [\n",
        "    {\n",
        "        \"name\": \"Paris\",\n",
        "        \"total_population\": 2102650,\n",
        "        \"continent\": \"Europe\",\n",
        "        \"location\": [48.8566, 2.3522],\n",
        "        \"area\": {\n",
        "            \"prefecture_level\": 105.4\n",
        "        }\n",
        "    },\n",
        "    {\n",
        "        \"name\": \"Xi’an\",\n",
        "        \"total_population\": 12328000,\n",
        "        \"continent\": \"Asia\",\n",
        "        \"location\": [34.2667, 108.9000],\n",
        "        \"area\": {\n",
        "            \"prefecture_level\": 10762\n",
        "        }\n",
        "    },\n",
        "    {\n",
        "        \"name\": \"Chengdu\",\n",
        "        \"total_population\": 14645000,\n",
        "        \"continent\": \"Asia\",\n",
        "        \"location\": [30.6600, 104.0633],\n",
        "        \"area\": {\n",
        "            \"prefecture_level\": 14378\n",
        "        }\n",
        "    },\n",
        "    {\n",
        "        \"name\": \"Los Angeles\",\n",
        "        \"total_population\": 12121244,\n",
        "        \"continent\": \"North America\",\n",
        "        \"location\": [34.1141, -118.4068],\n",
        "        \"area\": {\n",
        "            \"prefecture_level\": 1299\n",
        "        }\n",
        "    },\n",
        "    {\n",
        "        \"name\": \"Brooklyn\",\n",
        "        \"total_population\": 2736074,\n",
        "        \"continent\": \"North America\",\n",
        "        \"location\": [40.6501, -73.9496],\n",
        "        \"area\": {\n",
        "            \"prefecture_level\": 180\n",
        "        }\n",
        "    }\n",
        "]"
      ],
      "metadata": {
        "id": "0bj29sWQH7Vw"
      },
      "execution_count": 18,
      "outputs": []
    },
    {
      "cell_type": "markdown",
      "source": [
        "There are 5 cities."
      ],
      "metadata": {
        "id": "J5gkqrixBHuD"
      }
    },
    {
      "cell_type": "markdown",
      "source": [
        "2) By utilizing your previous function `get_key_value_from_city` create a new one that accepts two arguments: `city_name` and `key` from which we desire the value.\n",
        "\n",
        "If the city doesn't exist then return \"City doesn't exist or is not covered\".\n",
        "\n",
        "Test your function with multiple examples."
      ],
      "metadata": {
        "id": "khUbLMYTL-CN"
      }
    },
    {
      "cell_type": "code",
      "source": [
        "# create the function with the selected arguments\n",
        "def get_value_by_city_name_and_key(city_name, key, cities):\n",
        "\n",
        "    # Set default output\n",
        "    output = \"City doesn't exist or is not covered\"\n",
        "\n",
        "    # Start the loop over cities\n",
        "    for city in cities:\n",
        "        if city.get(\"name\") == city_name:\n",
        "            return city.get(key, \"not defined\")\n",
        "\n",
        "    return output\n"
      ],
      "metadata": {
        "id": "Xzd3iPOoMSzQ"
      },
      "execution_count": 5,
      "outputs": []
    },
    {
      "cell_type": "code",
      "source": [],
      "metadata": {
        "id": "emSPaIukk9lp"
      },
      "execution_count": null,
      "outputs": []
    },
    {
      "cell_type": "code",
      "source": [
        "cities = [\n",
        "    {\n",
        "        \"name\": \"Paris\",\n",
        "        \"total_population\": 2102650,\n",
        "        \"continent\": \"Europe\",\n",
        "        \"location\": [48.8566, 2.3522],\n",
        "        \"area\": {\n",
        "            \"prefecture_level\": 105.4\n",
        "        }\n",
        "    },\n",
        "    {\n",
        "        \"name\": \"Xi’an\",\n",
        "        \"total_population\": 12328000,\n",
        "        \"continent\": \"Asia\",\n",
        "        \"location\": [34.2667, 108.9000],\n",
        "        \"area\": {\n",
        "            \"prefecture_level\": 10762\n",
        "        }\n",
        "    },\n",
        "    {\n",
        "        \"name\": \"Chengdu\",\n",
        "        \"total_population\": 14645000,\n",
        "        \"continent\": \"Asia\",\n",
        "        \"location\": [30.6600, 104.0633],\n",
        "        \"area\": {\n",
        "            \"prefecture_level\": 14378\n",
        "        }\n",
        "    },\n",
        "    {\n",
        "        \"name\": \"Los Angeles\",\n",
        "        \"total_population\": 12121244,\n",
        "        \"continent\": \"North America\",\n",
        "        \"location\": [34.1141, -118.4068],\n",
        "        \"area\": {\n",
        "            \"prefecture_level\": 1299\n",
        "        }\n",
        "    },\n",
        "    {\n",
        "        \"name\": \"Brooklyn\",\n",
        "        \"total_population\": 2736074,\n",
        "        \"continent\": \"North America\",\n",
        "        \"location\": [40.6501, -73.9496],\n",
        "        \"area\": {\n",
        "            \"prefecture_level\": 180\n",
        "        }\n",
        "    }\n",
        "]"
      ],
      "metadata": {
        "id": "Jm3cZ_iie8-x"
      },
      "execution_count": 6,
      "outputs": []
    },
    {
      "cell_type": "code",
      "source": [
        "# Testing the function with examples\n",
        "result1 = get_value_by_city_name_and_key(\"Paris\", \"total_population\", cities)\n",
        "print(\"Paris Total Population:\", result1)"
      ],
      "metadata": {
        "colab": {
          "base_uri": "https://localhost:8080/"
        },
        "id": "wqzqWkaRev6w",
        "outputId": "7ef0cd5c-21d9-491e-8365-cc612658f978"
      },
      "execution_count": 11,
      "outputs": [
        {
          "output_type": "stream",
          "name": "stdout",
          "text": [
            "Paris Total Population: 2102650\n"
          ]
        }
      ]
    },
    {
      "cell_type": "code",
      "source": [
        "result2 = get_value_by_city_name_and_key(\"Xi’an\", \"continent\", cities)\n",
        "print(\"Xi'an is in which continent:\", result2)"
      ],
      "metadata": {
        "colab": {
          "base_uri": "https://localhost:8080/"
        },
        "id": "YAo9xgOJmU3I",
        "outputId": "e43ec87c-23f1-4bea-eccc-7b133706065a"
      },
      "execution_count": 12,
      "outputs": [
        {
          "output_type": "stream",
          "name": "stdout",
          "text": [
            "Xi'an is in which continent: Asia\n"
          ]
        }
      ]
    },
    {
      "cell_type": "code",
      "source": [
        "result3 = get_value_by_city_name_and_key(\"Chengdu\", \"area\", cities)\n",
        "print(\"What is the land area of Chengdu:\",result3)"
      ],
      "metadata": {
        "colab": {
          "base_uri": "https://localhost:8080/"
        },
        "id": "lpDENHXUmY29",
        "outputId": "4f49d948-3bbd-4296-a1ab-4f66da7357e8"
      },
      "execution_count": 13,
      "outputs": [
        {
          "output_type": "stream",
          "name": "stdout",
          "text": [
            "What is the land area of Chengdu: {'prefecture_level': 14378}\n"
          ]
        }
      ]
    },
    {
      "cell_type": "code",
      "source": [
        "result4 = get_value_by_city_name_and_key(\"Los Angeles\", \"location\", cities)\n",
        "print(\"What is the longitude and Latitude of Los Angeles:\", result4)"
      ],
      "metadata": {
        "colab": {
          "base_uri": "https://localhost:8080/"
        },
        "id": "TAwCVxUomY--",
        "outputId": "27786683-09e3-4ea8-86d5-5f180b94e026"
      },
      "execution_count": 14,
      "outputs": [
        {
          "output_type": "stream",
          "name": "stdout",
          "text": [
            "What is the longitude and Latitude of Los Angeles: [34.1141, -118.4068]\n"
          ]
        }
      ]
    },
    {
      "cell_type": "code",
      "source": [
        "result5 = get_value_by_city_name_and_key(\"Brooklyn\", \"unknown_key\", cities)\n",
        "print(\"Where is the best resturant in Brooklyn:\", result5)"
      ],
      "metadata": {
        "colab": {
          "base_uri": "https://localhost:8080/"
        },
        "id": "FzLM7M4JmZId",
        "outputId": "01c6ee31-8dab-4036-efe1-c744030ff501"
      },
      "execution_count": 15,
      "outputs": [
        {
          "output_type": "stream",
          "name": "stdout",
          "text": [
            "Where is the best resturant in Brooklyn: not defined\n"
          ]
        }
      ]
    },
    {
      "cell_type": "code",
      "source": [
        "result6 = get_value_by_city_name_and_key(\"London\", \"total_population\", cities)\n",
        "print(\"What is the total population of London:\", result6)"
      ],
      "metadata": {
        "colab": {
          "base_uri": "https://localhost:8080/"
        },
        "id": "FfbNG2vTmZRn",
        "outputId": "d0bfd554-a047-4e6b-d181-f686edc636f4"
      },
      "execution_count": 16,
      "outputs": [
        {
          "output_type": "stream",
          "name": "stdout",
          "text": [
            "What is the total population of London: City doesn't exist or is not covered\n"
          ]
        }
      ]
    },
    {
      "cell_type": "markdown",
      "source": [
        "3) Sometimes, city information can be incorrect or require updates.\n",
        "\n",
        "Create a function `modify_city_key_value` that replaces an existing key's value by a new one provided. It takes three arguments `city_name`, `key` and `value`.\n",
        "\n",
        "The function will generate a text message indicating one of the following scenarios:\n",
        "\n",
        "- If the city doesn't exist or is not covered: \"City doesn't exist or is not covered.\"\n",
        "- If the provided key doesn't exist: \"Key provided doesn't exist.\"\n",
        "- If the key has been successfully updated for the city: \"`key` has been updated for `city_name.\""
      ],
      "metadata": {
        "id": "co-Z53zYCnAN"
      }
    },
    {
      "cell_type": "code",
      "source": [
        "# create the function with the selected arguments\n",
        "\n",
        "def modify_city_key_value(city_name, key, new_value, cities):\n",
        "    # Loop over the cities\n",
        "    for city in cities:\n",
        "        # Check if the city is the one we're looking for\n",
        "        if city.get(\"name\") == city_name:\n",
        "            # Check if the provided key exists in the city\n",
        "            if key in city:\n",
        "                city[key] = new_value\n",
        "                return f\"{key} has been updated for {city_name}.\"\n",
        "            else:\n",
        "                return \"Key provided doesn't exist.\"\n",
        "\n",
        "    # If the city is not found in the list\n",
        "    return \"City doesn't exist or is not covered.\"\n",
        "\n",
        "\n"
      ],
      "metadata": {
        "id": "9SfhtUrPNNtr"
      },
      "execution_count": 17,
      "outputs": []
    },
    {
      "cell_type": "code",
      "source": [
        "cities = [\n",
        "    {\n",
        "        \"name\": \"Paris\",\n",
        "        \"total_population\": 2102650,\n",
        "        \"continent\": \"Europe\",\n",
        "        \"location\": [48.8566, 2.3522],\n",
        "        \"area\": {\n",
        "            \"prefecture_level\": 105.4\n",
        "        }\n",
        "    },\n",
        "    {\n",
        "        \"name\": \"Xi’an\",\n",
        "        \"total_population\": 12328000,\n",
        "        \"continent\": \"Asia\",\n",
        "        \"location\": [34.2667, 108.9000],\n",
        "        \"area\": {\n",
        "            \"prefecture_level\": 10762\n",
        "        }\n",
        "    },\n",
        "    {\n",
        "        \"name\": \"Chengdu\",\n",
        "        \"total_population\": 14645000,\n",
        "        \"continent\": \"Asia\",\n",
        "        \"location\": [30.6600, 104.0633],\n",
        "        \"area\": {\n",
        "            \"prefecture_level\": 14378\n",
        "        }\n",
        "    },\n",
        "    {\n",
        "        \"name\": \"Los Angeles\",\n",
        "        \"total_population\": 12121244,\n",
        "        \"continent\": \"North America\",\n",
        "        \"location\": [34.1141, -118.4068],\n",
        "        \"area\": {\n",
        "            \"prefecture_level\": 1299\n",
        "        }\n",
        "    },\n",
        "    {\n",
        "        \"name\": \"Brooklyn\",\n",
        "        \"total_population\": 2736074,\n",
        "        \"continent\": \"North America\",\n",
        "        \"location\": [40.6501, -73.9496],\n",
        "        \"area\": {\n",
        "            \"prefecture_level\": 180\n",
        "        }\n",
        "    }\n",
        "]"
      ],
      "metadata": {
        "id": "Gm7YEz2eqgf8"
      },
      "execution_count": 18,
      "outputs": []
    },
    {
      "cell_type": "code",
      "source": [
        "# test the function with examples\n",
        "# Modify a city's key value\n",
        "result = modify_city_key_value(\"Paris\", \"total_population\", 2200000, cities)\n",
        "print(result)\n"
      ],
      "metadata": {
        "colab": {
          "base_uri": "https://localhost:8080/"
        },
        "id": "i2PvyKaVqBJs",
        "outputId": "996ba118-899b-4919-f982-971370e0dced"
      },
      "execution_count": 19,
      "outputs": [
        {
          "output_type": "stream",
          "name": "stdout",
          "text": [
            "total_population has been updated for Paris.\n"
          ]
        }
      ]
    },
    {
      "cell_type": "code",
      "source": [
        "cities"
      ],
      "metadata": {
        "colab": {
          "base_uri": "https://localhost:8080/"
        },
        "id": "vXCHcf9Sqp-4",
        "outputId": "82d7d5f6-6c5d-4e29-8460-0516d20da1f1"
      },
      "execution_count": 20,
      "outputs": [
        {
          "output_type": "execute_result",
          "data": {
            "text/plain": [
              "[{'name': 'Paris',\n",
              "  'total_population': 2200000,\n",
              "  'continent': 'Europe',\n",
              "  'location': [48.8566, 2.3522],\n",
              "  'area': {'prefecture_level': 105.4}},\n",
              " {'name': 'Xi’an',\n",
              "  'total_population': 12328000,\n",
              "  'continent': 'Asia',\n",
              "  'location': [34.2667, 108.9],\n",
              "  'area': {'prefecture_level': 10762}},\n",
              " {'name': 'Chengdu',\n",
              "  'total_population': 14645000,\n",
              "  'continent': 'Asia',\n",
              "  'location': [30.66, 104.0633],\n",
              "  'area': {'prefecture_level': 14378}},\n",
              " {'name': 'Los Angeles',\n",
              "  'total_population': 12121244,\n",
              "  'continent': 'North America',\n",
              "  'location': [34.1141, -118.4068],\n",
              "  'area': {'prefecture_level': 1299}},\n",
              " {'name': 'Brooklyn',\n",
              "  'total_population': 2736074,\n",
              "  'continent': 'North America',\n",
              "  'location': [40.6501, -73.9496],\n",
              "  'area': {'prefecture_level': 180}}]"
            ]
          },
          "metadata": {},
          "execution_count": 20
        }
      ]
    },
    {
      "cell_type": "code",
      "source": [
        "# Update existing key\n",
        "result1 = modify_city_key_value(\"Paris\", \"total_population\", 2200000, cities)\n",
        "print(result1)"
      ],
      "metadata": {
        "colab": {
          "base_uri": "https://localhost:8080/"
        },
        "id": "-TyEW0tNqwP1",
        "outputId": "998582ff-0909-4c0b-b449-ecf62c16e01b"
      },
      "execution_count": 22,
      "outputs": [
        {
          "output_type": "stream",
          "name": "stdout",
          "text": [
            "total_population has been updated for Paris.\n"
          ]
        }
      ]
    },
    {
      "cell_type": "code",
      "source": [
        "# Try updating a non-existing key\n",
        "result2 = modify_city_key_value(\"Paris\", \"Budget\", 8500000, cities)\n",
        "print(result2)"
      ],
      "metadata": {
        "colab": {
          "base_uri": "https://localhost:8080/"
        },
        "id": "J_vHTyBVrelb",
        "outputId": "685c571c-2a11-4e11-8367-919044b30362"
      },
      "execution_count": 29,
      "outputs": [
        {
          "output_type": "stream",
          "name": "stdout",
          "text": [
            "Key provided doesn't exist.\n"
          ]
        }
      ]
    },
    {
      "cell_type": "code",
      "source": [
        "# Try updating a city not in the dataset\n",
        "result3 = modify_city_key_value(\"London\", \"total_population\", 9000000, cities)\n",
        "print(result3)"
      ],
      "metadata": {
        "colab": {
          "base_uri": "https://localhost:8080/"
        },
        "id": "SCon40MIruli",
        "outputId": "ce716046-b14e-4618-a757-6b66ef058183"
      },
      "execution_count": 27,
      "outputs": [
        {
          "output_type": "stream",
          "name": "stdout",
          "text": [
            "City doesn't exist or is not covered.\n"
          ]
        }
      ]
    },
    {
      "cell_type": "markdown",
      "source": [
        "## Search engine"
      ],
      "metadata": {
        "id": "YfHEZCpEFMi9"
      }
    },
    {
      "cell_type": "markdown",
      "source": [
        "It is quite common for customers to seek destinations that are not far from their current location in order to minimize transportation costs.\n",
        "\n",
        "\n",
        "The travel agency requires your assistance in developing a function that can provide a list of nearby cities."
      ],
      "metadata": {
        "id": "3pKSC0beFRch"
      }
    },
    {
      "cell_type": "markdown",
      "source": [
        "1) Execute the code provided below to see to observe how we can calculate the distance between two locations.\n",
        "\n",
        "Thanks to the [Geopy](https://geopy.readthedocs.io/en/stable/#) library,  this process is quite straightforward."
      ],
      "metadata": {
        "id": "8RKP69p-FrXb"
      }
    },
    {
      "cell_type": "code",
      "execution_count": 31,
      "metadata": {
        "id": "d9Y-n4mUlL2Q",
        "colab": {
          "base_uri": "https://localhost:8080/"
        },
        "outputId": "052d3ede-82d8-4023-c54b-c011fab68da8"
      },
      "outputs": [
        {
          "output_type": "stream",
          "name": "stdout",
          "text": [
            "866.4554329098685\n"
          ]
        }
      ],
      "source": [
        "from geopy import distance\n",
        "\n",
        "newport_ri = [41.49008, -71.312796]\n",
        "cleveland_oh = [41.499498, -81.695391]\n",
        "\n",
        "print(distance.distance(newport_ri, cleveland_oh).km)"
      ]
    },
    {
      "cell_type": "markdown",
      "source": [
        "2) What is the data type of `distance.distance(newport_ri, cleveland_oh)`? object\n",
        "\n",
        "What is \"km\" then ? attribute"
      ],
      "metadata": {
        "id": "jAqwumfvG97A"
      }
    },
    {
      "cell_type": "code",
      "source": [],
      "metadata": {
        "id": "AneA6YqQHXrF"
      },
      "execution_count": null,
      "outputs": []
    },
    {
      "cell_type": "markdown",
      "source": [
        "It's a geopy.distance.geodesic object.\n",
        "\n",
        "You can see it with the \"class\" displayed."
      ],
      "metadata": {
        "id": "OZtnw0L9HXNP"
      }
    },
    {
      "cell_type": "markdown",
      "source": [
        "3) Create a function `get_cities_near_by` that takes two arguments:\n",
        "- customer_location: a list [lat, long]\n",
        "- radius: threshold in km\n",
        "\n",
        "if no city has been found, please return an empty list."
      ],
      "metadata": {
        "id": "pk29PbbTO63S"
      }
    },
    {
      "cell_type": "markdown",
      "source": [
        "Note that you can use Guangyan city in China ([32.4355, 105.8436]) and a radius of 500km to test your function.\n",
        "\n",
        "Xi'an and Chengdu are not very far..."
      ],
      "metadata": {
        "id": "Lk7-sNiCIyWA"
      }
    },
    {
      "cell_type": "code",
      "source": [
        "cities = [\n",
        "    {\n",
        "        \"name\": \"Paris\",\n",
        "        \"total_population\": 2102650,\n",
        "        \"continent\": \"Europe\",\n",
        "        \"location\": [48.8566, 2.3522],\n",
        "        \"area\": {\n",
        "            \"prefecture_level\": 105.4\n",
        "        }\n",
        "    },\n",
        "    {\n",
        "        \"name\": \"Xi’an\",\n",
        "        \"total_population\": 12328000,\n",
        "        \"continent\": \"Asia\",\n",
        "        \"location\": [34.2667, 108.9000],\n",
        "        \"area\": {\n",
        "            \"prefecture_level\": 10762\n",
        "        }\n",
        "    },\n",
        "    {\n",
        "        \"name\": \"Chengdu\",\n",
        "        \"total_population\": 14645000,\n",
        "        \"continent\": \"Asia\",\n",
        "        \"location\": [30.6600, 104.0633],\n",
        "        \"area\": {\n",
        "            \"prefecture_level\": 14378\n",
        "        }\n",
        "    },\n",
        "    {\n",
        "        \"name\": \"Los Angeles\",\n",
        "        \"total_population\": 12121244,\n",
        "        \"continent\": \"North America\",\n",
        "        \"location\": [34.1141, -118.4068],\n",
        "        \"area\": {\n",
        "            \"prefecture_level\": 1299\n",
        "        }\n",
        "    },\n",
        "    {\n",
        "        \"name\": \"Brooklyn\",\n",
        "        \"total_population\": 2736074,\n",
        "        \"continent\": \"North America\",\n",
        "        \"location\": [40.6501, -73.9496],\n",
        "        \"area\": {\n",
        "            \"prefecture_level\": 180\n",
        "        }\n",
        "    }\n",
        "]"
      ],
      "metadata": {
        "id": "pcNqX2gc63Xr"
      },
      "execution_count": null,
      "outputs": []
    },
    {
      "cell_type": "code",
      "source": [
        "from geopy.distance import distance\n",
        "\n",
        "def get_cities_near_by(customer_location, radius, cities):\n",
        "    nearby_cities = []\n",
        "    for city in cities:\n",
        "        city_location = city.get(\"location\")\n",
        "        if city_location:\n",
        "            # Calculate the distance\n",
        "            dist = distance(customer_location, city_location).km\n",
        "            if dist <= radius:\n",
        "                nearby_cities.append(city[\"name\"])\n",
        "    return nearby_cities\n",
        "\n"
      ],
      "metadata": {
        "id": "7fLoyB9Y6qkU"
      },
      "execution_count": 39,
      "outputs": []
    },
    {
      "cell_type": "code",
      "source": [
        "# Testing the function with examples\n",
        "\n",
        "# Example 1: Customer near Paris\n",
        "customer_location1 = [48.8566, 2.3522]  # Paris location\n",
        "radius1 = 500  # 500 km radius\n",
        "nearby_cities1 = get_cities_near_by(customer_location1, radius1, cities)\n",
        "\n",
        "print(nearby_cities1)"
      ],
      "metadata": {
        "colab": {
          "base_uri": "https://localhost:8080/"
        },
        "id": "uE-gfcKQ7KhR",
        "outputId": "5c44b34a-b262-4d2d-8a82-ed4dc21ae269"
      },
      "execution_count": 41,
      "outputs": [
        {
          "output_type": "stream",
          "name": "stdout",
          "text": [
            "['Paris']\n"
          ]
        }
      ]
    },
    {
      "cell_type": "code",
      "source": [
        "\n",
        "# Example 2: Customer in Asia\n",
        "customer_location2 = [34.2667, 108.9000]  # Xi'an location\n",
        "radius2 = 2000  # 2000 km radius\n",
        "nearby_cities2 = get_cities_near_by(customer_location2, radius2, cities)\n",
        "\n",
        "print(nearby_cities2)"
      ],
      "metadata": {
        "colab": {
          "base_uri": "https://localhost:8080/"
        },
        "id": "PusN1ax47RP8",
        "outputId": "78dff82e-5a7a-47f6-847a-982e5c8b5fbc"
      },
      "execution_count": 42,
      "outputs": [
        {
          "output_type": "stream",
          "name": "stdout",
          "text": [
            "['Xi’an', 'Chengdu']\n"
          ]
        }
      ]
    },
    {
      "cell_type": "code",
      "source": [
        "# Example 3: Customer in North America\n",
        "customer_location3 = [34.1141, -118.4068]  # Los Angeles location\n",
        "radius3 = 3000  # 3000 km radius\n",
        "nearby_cities3 = get_cities_near_by(customer_location3, radius3, cities)\n",
        "\n",
        "print(nearby_cities3)"
      ],
      "metadata": {
        "colab": {
          "base_uri": "https://localhost:8080/"
        },
        "id": "tE_Hrwrw7U_A",
        "outputId": "0109c383-f7dc-4f55-f59d-f12054461101"
      },
      "execution_count": 43,
      "outputs": [
        {
          "output_type": "stream",
          "name": "stdout",
          "text": [
            "['Los Angeles']\n"
          ]
        }
      ]
    },
    {
      "cell_type": "markdown",
      "source": [
        "Congratulations ! You have now a search function ready for the travel agents to use !"
      ],
      "metadata": {
        "id": "iVqYzYlDJN9q"
      }
    }
  ]
}