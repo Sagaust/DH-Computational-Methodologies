{
  "nbformat": 4,
  "nbformat_minor": 0,
  "metadata": {
    "colab": {
      "provenance": [],
      "mount_file_id": "1uFOowFjIwOASriFaiEeWqy0q8gFUWTRN",
      "authorship_tag": "ABX9TyM/KJq11DRUEDjRdnvctl6I",
      "include_colab_link": true
    },
    "kernelspec": {
      "name": "python3",
      "display_name": "Python 3"
    },
    "language_info": {
      "name": "python"
    }
  },
  "cells": [
    {
      "cell_type": "markdown",
      "metadata": {
        "id": "view-in-github",
        "colab_type": "text"
      },
      "source": [
        "<a href=\"https://colab.research.google.com/github/Sagaust/DH-Computational-Methodologies/blob/main/Counting_Email_in_a_Database.ipynb\" target=\"_parent\"><img src=\"https://colab.research.google.com/assets/colab-badge.svg\" alt=\"Open In Colab\"/></a>"
      ]
    },
    {
      "cell_type": "markdown",
      "source": [
        "## **Import SQLite3 and Connect to Database:**\n",
        "These lines import the sqlite3 module and create a connection to an SQLite database file named 'emaildb.sqlite'. If this file doesn't exist, it will be created. A cursor object (cur) is created to execute SQL commands."
      ],
      "metadata": {
        "id": "1DIKvpT74bSs"
      }
    },
    {
      "cell_type": "code",
      "execution_count": 17,
      "metadata": {
        "id": "eEW1W1an32WH"
      },
      "outputs": [],
      "source": [
        "import sqlite3\n",
        "conn = sqlite3.connect('emaildb2.sqlite')\n",
        "cur = conn.cursor()\n"
      ]
    },
    {
      "cell_type": "markdown",
      "source": [
        "\n",
        "## **Create or Reset Table:**\n",
        "These commands drop (delete) the 'Counts' table if it already exists and then create a new 'Counts' table with two columns: 'email' (TEXT type) and 'count' (INTEGER type)"
      ],
      "metadata": {
        "id": "sFao57x44gEK"
      }
    },
    {
      "cell_type": "code",
      "source": [
        "cur.execute('DROP TABLE IF EXISTS Counts')\n",
        "cur.execute('''\n",
        "CREATE TABLE Counts (org TEXT, count INTEGER)''')\n"
      ],
      "metadata": {
        "colab": {
          "base_uri": "https://localhost:8080/"
        },
        "id": "km0b5BOH4lEV",
        "outputId": "a134af93-92f5-40b8-a0c0-bef9535930be"
      },
      "execution_count": 18,
      "outputs": [
        {
          "output_type": "execute_result",
          "data": {
            "text/plain": [
              "<sqlite3.Cursor at 0x7e2d4c1beac0>"
            ]
          },
          "metadata": {},
          "execution_count": 18
        }
      ]
    },
    {
      "cell_type": "markdown",
      "source": [
        "## **File Input and Processing:**\n",
        "The script prompts the user to enter a file name. If no name is entered, it defaults to 'mbox-short.txt'. It then opens this file for reading."
      ],
      "metadata": {
        "id": "EEqrI1aa5AAS"
      }
    },
    {
      "cell_type": "code",
      "source": [
        "import os\n",
        "print(\"Current working directory:\", os.getcwd())\n"
      ],
      "metadata": {
        "colab": {
          "base_uri": "https://localhost:8080/"
        },
        "id": "qEe9t7yz6Uf0",
        "outputId": "0c206a62-c7a6-4129-e730-a2d293c53f2c"
      },
      "execution_count": 19,
      "outputs": [
        {
          "output_type": "stream",
          "name": "stdout",
          "text": [
            "Current working directory: /content\n"
          ]
        }
      ]
    },
    {
      "cell_type": "code",
      "source": [
        "fname = input('Enter file name: ')\n",
        "if (len(fname) < 1): fname = '/content/drive/MyDrive/mbox.txt'\n",
        "fh = open(fname)\n"
      ],
      "metadata": {
        "colab": {
          "base_uri": "https://localhost:8080/"
        },
        "id": "twG_hlwF5HEa",
        "outputId": "848c1620-01b5-4c64-83c3-60eb3ecbe96d"
      },
      "execution_count": 20,
      "outputs": [
        {
          "name": "stdout",
          "output_type": "stream",
          "text": [
            "Enter file name: \n"
          ]
        }
      ]
    },
    {
      "cell_type": "code",
      "source": [
        "for line in fh:\n",
        "    if not line.startswith('From: '): continue\n",
        "    pieces = line.split()\n",
        "    email = pieces[1]\n",
        "    cur.execute('SELECT count FROM Counts WHERE org = ? ', (email,))\n",
        "    row = cur.fetchone()\n",
        "    if row is None:\n",
        "        cur.execute('''INSERT INTO Counts (org, count)\n",
        "                VALUES (?, 1)''', (email,))\n",
        "    else:\n",
        "        cur.execute('UPDATE Counts SET count = count + 1 WHERE org = ?',\n",
        "                    (email,))\n",
        "    conn.commit()"
      ],
      "metadata": {
        "id": "3SiitmTq7mPO"
      },
      "execution_count": 23,
      "outputs": []
    },
    {
      "cell_type": "markdown",
      "source": [
        "## **Parsing the File:**\n",
        "The script iterates over each line of the file. It looks for lines that start with 'From: '. For each such line, it splits the line into parts and extracts the email address (which is assumed to be the second word in the line).\n",
        "\n",
        "## **Database Interaction:**\n",
        "For each extracted email, the script checks if that email is already in the 'Counts' table:\n",
        "\n",
        "If not, it inserts the email with a count of 1.\n",
        "If the email is already there, it updates the count by incrementing it.\n",
        "This is done using SQL SELECT, INSERT, and UPDATE commands with parameters.\n",
        "\n",
        "## **Committing Changes:**\n",
        "After each insertion or update, the script commits the changes to the database using conn.commit(). This ensures that the changes are saved."
      ],
      "metadata": {
        "id": "byVxfd7v8d_R"
      }
    },
    {
      "cell_type": "code",
      "source": [
        "sqlstr = 'SELECT org, count FROM Counts ORDER BY count DESC LIMIT 10'"
      ],
      "metadata": {
        "id": "OYD_5Q-x8oet"
      },
      "execution_count": 24,
      "outputs": []
    },
    {
      "cell_type": "markdown",
      "source": [
        "## **Query and Display Top 10 Emails:**\n",
        "After processing the file, the script runs a SQL query to select the top 10 email addresses with the highest counts, ordered in descending order of count. It then prints out these email addresses and their counts."
      ],
      "metadata": {
        "id": "U58NqVks9XMi"
      }
    },
    {
      "cell_type": "code",
      "source": [
        "for row in cur.execute(sqlstr):\n",
        "    print(str(row[0]), row[1])"
      ],
      "metadata": {
        "colab": {
          "base_uri": "https://localhost:8080/"
        },
        "id": "LMWBYgpu9AG8",
        "outputId": "b476dc5a-8458-4444-f0c9-ecaccbb227e5"
      },
      "execution_count": 25,
      "outputs": [
        {
          "output_type": "stream",
          "name": "stdout",
          "text": [
            "zqian@umich.edu 194\n",
            "mmmay@indiana.edu 161\n",
            "cwen@iupui.edu 158\n",
            "chmaurer@iupui.edu 111\n",
            "aaronz@vt.edu 110\n",
            "ian@caret.cam.ac.uk 96\n",
            "jimeng@umich.edu 93\n",
            "rjlowe@iupui.edu 90\n",
            "dlhaines@umich.edu 84\n",
            "david.horwitz@uct.ac.za 67\n"
          ]
        }
      ]
    },
    {
      "cell_type": "markdown",
      "source": [
        " create a CSV file named email_counts.csv in the /content/ directory"
      ],
      "metadata": {
        "id": "nQ4ZSiwh90NJ"
      }
    },
    {
      "cell_type": "code",
      "source": [
        "import csv"
      ],
      "metadata": {
        "id": "ILvxSSdy-AsW"
      },
      "execution_count": 26,
      "outputs": []
    },
    {
      "cell_type": "code",
      "source": [
        "# Fetch all data from the database\n",
        "cur.execute('SELECT org, count FROM Counts')\n",
        "rows = cur.fetchall()"
      ],
      "metadata": {
        "id": "5R_2lwiV-G1q"
      },
      "execution_count": 27,
      "outputs": []
    },
    {
      "cell_type": "code",
      "source": [
        "# Write to a CSV file\n",
        "with open('/content/drive/MyDrive/email_counts2.csv', 'w', newline='') as csvfile:\n",
        "    csvwriter = csv.writer(csvfile)\n",
        "    csvwriter.writerow(['Org', 'Count'])  # Writing the headers\n",
        "    csvwriter.writerows(rows)  # Writing data rows"
      ],
      "metadata": {
        "id": "OVhtCnYv-UP7"
      },
      "execution_count": 28,
      "outputs": []
    },
    {
      "cell_type": "code",
      "source": [
        "# Close the cursor and connection\n",
        "cur.close()\n",
        "conn.close()"
      ],
      "metadata": {
        "colab": {
          "base_uri": "https://localhost:8080/",
          "height": 213
        },
        "id": "f7ySUYB7-vIq",
        "outputId": "92e5dfe7-30ff-4c9e-bd17-f6190b857ee3"
      },
      "execution_count": 30,
      "outputs": [
        {
          "output_type": "error",
          "ename": "ProgrammingError",
          "evalue": "Cannot operate on a closed database.",
          "traceback": [
            "\u001b[0;31m---------------------------------------------------------------------------\u001b[0m",
            "\u001b[0;31mProgrammingError\u001b[0m                          Traceback (most recent call last)",
            "\u001b[0;32m<ipython-input-30-e3623be0e3a7>\u001b[0m in \u001b[0;36m<cell line: 2>\u001b[0;34m()\u001b[0m\n\u001b[1;32m      1\u001b[0m \u001b[0;31m# Close the cursor and connection\u001b[0m\u001b[0;34m\u001b[0m\u001b[0;34m\u001b[0m\u001b[0m\n\u001b[0;32m----> 2\u001b[0;31m \u001b[0mcur\u001b[0m\u001b[0;34m.\u001b[0m\u001b[0mclose\u001b[0m\u001b[0;34m(\u001b[0m\u001b[0;34m)\u001b[0m\u001b[0;34m\u001b[0m\u001b[0;34m\u001b[0m\u001b[0m\n\u001b[0m\u001b[1;32m      3\u001b[0m \u001b[0mconn\u001b[0m\u001b[0;34m.\u001b[0m\u001b[0mclose\u001b[0m\u001b[0;34m(\u001b[0m\u001b[0;34m)\u001b[0m\u001b[0;34m\u001b[0m\u001b[0;34m\u001b[0m\u001b[0m\n",
            "\u001b[0;31mProgrammingError\u001b[0m: Cannot operate on a closed database."
          ]
        }
      ]
    }
  ]
}