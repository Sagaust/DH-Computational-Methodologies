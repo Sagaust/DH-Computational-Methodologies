{
  "nbformat": 4,
  "nbformat_minor": 0,
  "metadata": {
    "colab": {
      "provenance": [],
      "authorship_tag": "ABX9TyP7GxCjjQDFZpWW3x9c1afl",
      "include_colab_link": true
    },
    "kernelspec": {
      "name": "python3",
      "display_name": "Python 3"
    },
    "language_info": {
      "name": "python"
    }
  },
  "cells": [
    {
      "cell_type": "markdown",
      "metadata": {
        "id": "view-in-github",
        "colab_type": "text"
      },
      "source": [
        "<a href=\"https://colab.research.google.com/github/Sagaust/DH-Computational-Methodologies/blob/main/Exploring_iTune_Database_(_xml_db_file).ipynb\" target=\"_parent\"><img src=\"https://colab.research.google.com/assets/colab-badge.svg\" alt=\"Open In Colab\"/></a>"
      ]
    },
    {
      "cell_type": "markdown",
      "source": [
        "## **Step 1: Setup and XML Parsing**\n",
        "First, you'll need to upload the XML file to Google Colab and parse it."
      ],
      "metadata": {
        "id": "2dpyoIx-KtyG"
      }
    },
    {
      "cell_type": "code",
      "execution_count": 1,
      "metadata": {
        "id": "1XddKTIgKf-t"
      },
      "outputs": [],
      "source": [
        "import xml.etree.ElementTree as ET\n",
        "import sqlite3\n"
      ]
    },
    {
      "cell_type": "markdown",
      "source": [
        "## **Upload the XML File**\n",
        "In Google Colab, use the file upload feature to upload your XML file. You can do this by clicking on the folder icon on the left sidebar and then the upload button."
      ],
      "metadata": {
        "id": "U_VvZDArLAY1"
      }
    },
    {
      "cell_type": "markdown",
      "source": [
        "## **Parse the XML File**\n",
        "After uploading, parse the XML file to prepare for data extraction."
      ],
      "metadata": {
        "id": "9IeAAJq7LRJe"
      }
    },
    {
      "cell_type": "code",
      "source": [
        "# Replace 'yourfile.xml' with the actual file name you uploaded\n",
        "file_path = '/content/Library.xml'\n",
        "\n",
        "# Parse the XML file\n",
        "tree = ET.parse(file_path)\n",
        "root = tree.getroot()\n",
        "\n",
        "# Extract the third element (dict) which contains the actual data\n",
        "data = root.findall('dict/dict/dict')\n",
        "print(\"Number of entries in XML file:\", len(data))\n"
      ],
      "metadata": {
        "colab": {
          "base_uri": "https://localhost:8080/"
        },
        "id": "vvT30e6fLT2o",
        "outputId": "1a6f7a81-34cf-44a0-dddf-eb6e77be2e0f"
      },
      "execution_count": 2,
      "outputs": [
        {
          "output_type": "stream",
          "name": "stdout",
          "text": [
            "Number of entries in XML file: 404\n"
          ]
        }
      ]
    },
    {
      "cell_type": "markdown",
      "source": [
        "## **Database Creation and Schema Setup**\n",
        "Now, you'll create a SQLite database and define the schema."
      ],
      "metadata": {
        "id": "G6mmKSFMNVgO"
      }
    },
    {
      "cell_type": "code",
      "source": [
        "# Create or open a SQLite database\n",
        "conn = sqlite3.connect('music_library.db')\n",
        "cur = conn.cursor()\n",
        "\n",
        "# Define the schema for the database\n",
        "cur.executescript('''\n",
        "CREATE TABLE IF NOT EXISTS Artist (\n",
        "    id INTEGER NOT NULL PRIMARY KEY AUTOINCREMENT UNIQUE,\n",
        "    name TEXT UNIQUE\n",
        ");\n",
        "\n",
        "CREATE TABLE IF NOT EXISTS Genre (\n",
        "    id INTEGER NOT NULL PRIMARY KEY AUTOINCREMENT UNIQUE,\n",
        "    name TEXT UNIQUE\n",
        ");\n",
        "\n",
        "CREATE TABLE IF NOT EXISTS Album (\n",
        "    id INTEGER NOT NULL PRIMARY KEY AUTOINCREMENT UNIQUE,\n",
        "    artist_id INTEGER,\n",
        "    title TEXT UNIQUE\n",
        ");\n",
        "\n",
        "CREATE TABLE IF NOT EXISTS Track (\n",
        "    id INTEGER NOT NULL PRIMARY KEY AUTOINCREMENT UNIQUE,\n",
        "    title TEXT UNIQUE,\n",
        "    album_id INTEGER,\n",
        "    genre_id INTEGER,\n",
        "    len INTEGER, rating INTEGER, count INTEGER\n",
        ");\n",
        "''')\n"
      ],
      "metadata": {
        "colab": {
          "base_uri": "https://localhost:8080/"
        },
        "id": "Ke7C0UX3NZTM",
        "outputId": "9c49396f-5e44-4b0f-e574-2cec1d163e91"
      },
      "execution_count": 3,
      "outputs": [
        {
          "output_type": "execute_result",
          "data": {
            "text/plain": [
              "<sqlite3.Cursor at 0x7d9bfbd2d340>"
            ]
          },
          "metadata": {},
          "execution_count": 3
        }
      ]
    },
    {
      "cell_type": "markdown",
      "source": [
        "Data Extraction and Insertion\n",
        "Extract data from the XML and insert it into the database."
      ],
      "metadata": {
        "id": "Y-q6yF8s_PSj"
      }
    },
    {
      "cell_type": "code",
      "source": [
        "#Define Helper Function\n",
        "def lookup(d, key):\n",
        "    found = False\n",
        "    for child in d:\n",
        "        if found: return child.text\n",
        "        if child.tag == 'key' and child.text == key:\n",
        "            found = True\n",
        "    return None\n"
      ],
      "metadata": {
        "id": "3Z7DDFJ7_SvU"
      },
      "execution_count": 4,
      "outputs": []
    },
    {
      "cell_type": "code",
      "source": [
        "# Assuming 'conn' and 'cur' are already set up for database connection\n",
        "\n",
        "for entry in data:\n",
        "    try:\n",
        "        if (lookup(entry, 'Track ID') is None): continue\n",
        "\n",
        "        name = lookup(entry, 'Name')\n",
        "        artist = lookup(entry, 'Artist')\n",
        "        album = lookup(entry, 'Album')\n",
        "        genre = lookup(entry, 'Genre')\n",
        "        count = lookup(entry, 'Play Count')\n",
        "        rating = lookup(entry, 'Rating')\n",
        "        length = lookup(entry, 'Total Time')\n",
        "\n",
        "        if name is None or artist is None or album is None or genre is None:\n",
        "            continue\n",
        "\n",
        "        # Insert or ignore artist\n",
        "        cur.execute('INSERT OR IGNORE INTO Artist (name) VALUES ( ? )', (artist, ))\n",
        "        cur.execute('SELECT id FROM Artist WHERE name = ?', (artist, ))\n",
        "        artist_id = cur.fetchone()[0]\n",
        "\n",
        "        # Insert or ignore genre\n",
        "        cur.execute('INSERT OR IGNORE INTO Genre (name) VALUES ( ? )', (genre, ))\n",
        "        cur.execute('SELECT id FROM Genre WHERE name = ?', (genre, ))\n",
        "        genre_id = cur.fetchone()[0]\n",
        "\n",
        "        # Insert or ignore album\n",
        "        cur.execute('INSERT OR IGNORE INTO Album (title, artist_id) VALUES ( ?, ? )', (album, artist_id))\n",
        "        cur.execute('SELECT id FROM Album WHERE title = ?', (album, ))\n",
        "        album_id = cur.fetchone()[0]\n",
        "\n",
        "        # Insert or replace track\n",
        "        cur.execute('''\n",
        "            INSERT OR REPLACE INTO Track\n",
        "            (title, album_id, genre_id, len, rating, count)\n",
        "            VALUES ( ?, ?, ?, ?, ?, ? )''',\n",
        "            (name, album_id, genre_id, length, rating, count))\n",
        "\n",
        "        print(f\"Inserted track: {name}, Artist: {artist}, Album: {album}, Genre: {genre}\")\n",
        "\n",
        "    except sqlite3.Error as e:\n",
        "        print(f\"SQLite error: {e}\")\n",
        "        break\n",
        "\n",
        "conn.commit()\n",
        "\n"
      ],
      "metadata": {
        "colab": {
          "base_uri": "https://localhost:8080/"
        },
        "id": "j0wVB2GP_se2",
        "outputId": "bb08e62d-77ce-4d45-efc3-c3d72ef90071"
      },
      "execution_count": 14,
      "outputs": [
        {
          "output_type": "stream",
          "name": "stdout",
          "text": [
            "Inserted track: Another One Bites The Dust, Artist: Queen, Album: Greatest Hits, Genre: Rock\n",
            "Inserted track: Asche Zu Asche, Artist: Rammstein, Album: Herzeleid, Genre: Industrial\n",
            "Inserted track: Beauty School Dropout, Artist: Various, Album: Grease, Genre: Soundtrack\n",
            "Inserted track: Black Dog, Artist: Led Zeppelin, Album: IV, Genre: Rock\n",
            "Inserted track: Bring The Boys Back Home, Artist: Pink Floyd, Album: The Wall [Disc 2], Genre: Rock\n",
            "Inserted track: Circles, Artist: Bryan Lee, Album: Blues Is, Genre: Funk\n",
            "Inserted track: Comfortably Numb, Artist: Pink Floyd, Album: The Wall [Disc 2], Genre: Rock\n",
            "Inserted track: Crazy Little Thing Called Love, Artist: Queen, Album: Greatest Hits, Genre: Rock\n",
            "Inserted track: Electric Funeral, Artist: Black Sabbath, Album: Paranoid, Genre: Metal\n",
            "Inserted track: Fat Bottomed Girls, Artist: Queen, Album: Greatest Hits, Genre: Rock\n",
            "Inserted track: For Those About To Rock (We Salute You), Artist: AC/DC, Album: Who Made Who, Genre: Rock\n",
            "Inserted track: Four Sticks, Artist: Led Zeppelin, Album: IV, Genre: Rock\n",
            "Inserted track: Furious Angels, Artist: Rob Dougan, Album: The Matrix Reloaded, Genre: Soundtrack\n",
            "Inserted track: Gelle, Artist: Bryan Lee, Album: Blues Is, Genre: Blues/R&B\n",
            "Inserted track: Going To California, Artist: Led Zeppelin, Album: IV, Genre: Rock\n",
            "Inserted track: Grease, Artist: Various, Album: Grease, Genre: Soundtrack\n",
            "Inserted track: Hand of Doom, Artist: Black Sabbath, Album: Paranoid, Genre: Metal\n",
            "Inserted track: Hells Bells, Artist: AC/DC, Album: Who Made Who, Genre: Rock\n",
            "Inserted track: Hey You, Artist: Pink Floyd, Album: The Wall [Disc 2], Genre: Rock\n",
            "Inserted track: I Worry, Artist: Bryan Lee, Album: Blues Is, Genre: Blues/R&B\n",
            "Inserted track: Iron Man, Artist: Black Sabbath, Album: Paranoid, Genre: Metal\n",
            "Inserted track: Is There Anybody Out There?, Artist: Pink Floyd, Album: The Wall [Disc 2], Genre: Rock\n",
            "Inserted track: It was a Very Good Year, Artist: Frank Sinatra, Album: Greatest Hits, Genre: Easy Listening\n",
            "Inserted track: Its Your Move, Artist: Bryan Lee, Album: Blues Is, Genre: Blues/R&B\n",
            "Inserted track: Jack the Stripper/Fairies Wear Boots, Artist: Black Sabbath, Album: Paranoid, Genre: Metal\n",
            "Inserted track: Killer Queen, Artist: Queen, Album: Greatest Hits, Genre: Rock\n",
            "Inserted track: Laichzeit, Artist: Rammstein, Album: Herzeleid, Genre: Industrial\n",
            "Inserted track: Let me Down Easy, Artist: Bryan Lee, Album: Blues Is, Genre: Blues/R&B\n",
            "Inserted track: Misty Mountain Hop, Artist: Led Zeppelin, Album: IV, Genre: Rock\n",
            "Inserted track: No Low Down, Artist: Bryan Lee, Album: Blues Is, Genre: Blues/R&B\n",
            "Inserted track: Now You Are Gone, Artist: America, Album: Greatest Hits, Genre: Easy Listening\n",
            "Inserted track: Outside The Wall, Artist: Pink Floyd, Album: The Wall [Disc 2], Genre: Rock\n",
            "Inserted track: Paranoid, Artist: Black Sabbath, Album: Paranoid, Genre: Metal\n",
            "Inserted track: Planet Caravan, Artist: Black Sabbath, Album: Paranoid, Genre: Metal\n",
            "Inserted track: Pretty Jeanie, Artist: Bryan Lee, Album: Blues Is, Genre: Blues/R&B\n",
            "Inserted track: Rammstein, Artist: Rammstein, Album: Herzeleid, Genre: Industrial\n",
            "Inserted track: Rat Salad, Artist: Black Sabbath, Album: Paranoid, Genre: Metal\n",
            "Inserted track: Rock & Roll, Artist: Led Zeppelin, Album: IV, Genre: Rock\n",
            "Inserted track: Rode Across the Desert, Artist: America, Album: Greatest Hits, Genre: Easy Listening\n",
            "Inserted track: Sandy, Artist: Various, Album: Grease, Genre: Soundtrack\n",
            "Inserted track: Shake Your Foundations, Artist: AC/DC, Album: Who Made Who, Genre: Rock\n",
            "Inserted track: Sister Golden Hair, Artist: America, Album: Greatest Hits, Genre: Easy Listening\n",
            "Inserted track: Somebody To Love, Artist: Queen, Album: Greatest Hits, Genre: Rock\n",
            "Inserted track: Stairway To Heaven, Artist: Led Zeppelin, Album: IV, Genre: Rock\n",
            "Inserted track: Strangers in the Night, Artist: Frank Sinatra, Album: Greatest Hits, Genre: Easy Listening\n",
            "Inserted track: Summer Nights, Artist: Various, Album: Grease, Genre: Soundtrack\n",
            "Inserted track: Summer Wind, Artist: Frank Sinatra, Album: Greatest Hits, Genre: Easy Listening\n",
            "Inserted track: Thats Life, Artist: Frank Sinatra, Album: Greatest Hits, Genre: Easy Listening\n",
            "Inserted track: The Battle Of Evermore, Artist: Led Zeppelin, Album: IV, Genre: Rock\n",
            "Inserted track: The Blues \"Is\", Artist: Bryan Lee, Album: Blues Is, Genre: Blues/R&B\n",
            "Inserted track: There it Is, Artist: Bryan Lee, Album: Blues Is, Genre: Blues/R&B\n",
            "Inserted track: Think, Artist: Bryan Lee, Album: Blues Is, Genre: Blues/R&B\n",
            "Inserted track: This Town, Artist: Frank Sinatra, Album: Greatest Hits, Genre: Easy Listening\n",
            "Inserted track: Tin Man, Artist: America, Album: Greatest Hits, Genre: Easy Listening\n",
            "Inserted track: Track 01, Artist: Billy Price, Album: Danger Zone, Genre: Blues/R&B\n",
            "Inserted track: Track 02, Artist: Billy Price, Album: Danger Zone, Genre: Blues/R&B\n",
            "Inserted track: Track 03, Artist: Billy Price, Album: Danger Zone, Genre: Blues/R&B\n",
            "Inserted track: Messin with the Kid, Artist: The Canettes Blues Band, Album: Self Titled, Genre: Blues/R&B\n",
            "Inserted track: Track 04, Artist: Billy Price, Album: Danger Zone, Genre: Blues/R&B\n",
            "Inserted track: Stormy Monday, Artist: The Canettes Blues Band, Album: Self Titled, Genre: Blues/R&B\n",
            "Inserted track: Track 05, Artist: Billy Price, Album: Danger Zone, Genre: Blues/R&B\n",
            "Inserted track: Waiting on Ice, Artist: Bryan Lee, Album: Blues Is, Genre: Blues/R&B\n",
            "Inserted track: War Pigs/Luke's Wall, Artist: Black Sabbath, Album: Paranoid, Genre: Metal\n",
            "Inserted track: We Are The Champions, Artist: Queen, Album: Greatest Hits, Genre: Rock\n",
            "Inserted track: We Will Rock You, Artist: Queen, Album: Greatest Hits, Genre: Rock\n",
            "Inserted track: When Somebody Loves You, Artist: Frank Sinatra, Album: Greatest Hits, Genre: Easy Listening\n",
            "Inserted track: When The Levee Breaks, Artist: Led Zeppelin, Album: IV, Genre: Rock\n",
            "Inserted track: You are the One that I Want, Artist: Various, Album: Grease, Genre: Soundtrack\n",
            "Inserted track: You Done Me Wrong, Artist: Bryan Lee, Album: Blues Is, Genre: Blues/R&B\n",
            "Inserted track: You Shook Me All Night Long, Artist: AC/DC, Album: Who Made Who, Genre: Rock\n",
            "Inserted track: You're My Best Friend, Artist: Queen, Album: Greatest Hits, Genre: Rock\n",
            "Inserted track: Zion, Artist: Fluke, Album: The Matrix Reloaded, Genre: Soundtrack\n",
            "Inserted track: Who Made Who, Artist: AC/DC, Album: Who Made Who, Genre: Rock\n",
            "Inserted track: D.T., Artist: AC/DC, Album: Who Made Who, Genre: Rock\n",
            "Inserted track: Sink the Pink, Artist: AC/DC, Album: Who Made Who, Genre: Rock\n",
            "Inserted track: Ride On, Artist: AC/DC, Album: Who Made Who, Genre: Rock\n",
            "Inserted track: Chase the Ace, Artist: AC/DC, Album: Who Made Who, Genre: Rock\n",
            "Inserted track: Wollt Ihr Das Bett In Flammen Sehen, Artist: Rammstein, Album: Herzeleid, Genre: Industrial\n",
            "Inserted track: Der Meister, Artist: Rammstein, Album: Herzeleid, Genre: Industrial\n",
            "Inserted track: Weisses Fleisch, Artist: Rammstein, Album: Herzeleid, Genre: Industrial\n",
            "Inserted track: Seemann, Artist: Rammstein, Album: Herzeleid, Genre: Industrial\n",
            "Inserted track: Du Riechst So Gut, Artist: Rammstein, Album: Herzeleid, Genre: Industrial\n",
            "Inserted track: Das Alte Leid, Artist: Rammstein, Album: Herzeleid, Genre: Industrial\n",
            "Inserted track: Heirate Mich, Artist: Rammstein, Album: Herzeleid, Genre: Industrial\n",
            "Inserted track: Herzeleid, Artist: Rammstein, Album: Herzeleid, Genre: Industrial\n",
            "Inserted track: Baba O'Riley, Artist: The Who, Album: Who's Next, Genre: Rock\n",
            "Inserted track: Bargain, Artist: The Who, Album: Who's Next, Genre: Rock\n",
            "Inserted track: Love Ain't for Keeping, Artist: The Who, Album: Who's Next, Genre: Rock\n",
            "Inserted track: My Wife, Artist: The Who, Album: Who's Next, Genre: Rock\n",
            "Inserted track: The Song Is Over, Artist: The Who, Album: Who's Next, Genre: Rock\n",
            "Inserted track: Getting In Tune, Artist: The Who, Album: Who's Next, Genre: Rock\n",
            "Inserted track: Going Mobile, Artist: The Who, Album: Who's Next, Genre: Rock\n",
            "Inserted track: Behind Blue Eyes, Artist: The Who, Album: Who's Next, Genre: Rock\n",
            "Inserted track: Won't Get Fooled Again, Artist: The Who, Album: Who's Next, Genre: Rock\n",
            "Inserted track: Folsom Prison Blues, Artist: Johnny Cash, Album: The Legend Of Johnny Cash, Genre: Country\n",
            "Inserted track: I Walk The Line, Artist: Johnny Cash, Album: The Legend Of Johnny Cash, Genre: Country\n",
            "Inserted track: Get Rhythm, Artist: Johnny Cash, Album: The Legend Of Johnny Cash, Genre: Country\n",
            "Inserted track: Big River, Artist: Johnny Cash, Album: The Legend Of Johnny Cash, Genre: Country\n",
            "Inserted track: Guess Things Happen That Way, Artist: Johnny Cash, Album: The Legend Of Johnny Cash, Genre: Country\n",
            "Inserted track: Ring Of Fire, Artist: Johnny Cash, Album: The Legend Of Johnny Cash, Genre: Country\n",
            "Inserted track: Jackson, Artist: Johnny Cash, Album: The Legend Of Johnny Cash, Genre: Country\n",
            "Inserted track: A Boy Named Sue (live), Artist: Johnny Cash, Album: The Legend Of Johnny Cash, Genre: Country\n",
            "Inserted track: You Raise Me Up, Artist: Selah, Album: Hiding Place, Genre: Gospel & Religious\n",
            "Inserted track: Hold On, I'm Coming, Artist: The Canettes Blues Band, Album: On Tap & In the Can, Genre: Blues/R&B\n",
            "Inserted track: Got my Mojo Working, Artist: The Canettes Blues Band, Album: On Tap & In the Can, Genre: Blues/R&B\n",
            "Inserted track: Sweet Home Chicago, Artist: The Canettes Blues Band, Album: On Tap & In the Can, Genre: Blues/R&B\n",
            "Inserted track: Heavy Love, Artist: The Canettes Blues Band, Album: On Tap & In the Can, Genre: Blues/R&B\n",
            "Inserted track: Cold Cold Feeling, Artist: The Canettes Blues Band, Album: On Tap & In the Can, Genre: Blues/R&B\n",
            "Inserted track: Lonely Avenue, Artist: The Canettes Blues Band, Album: On Tap & In the Can, Genre: Blues/R&B\n",
            "Inserted track: Good Morning Little Schoolgirl, Artist: The Canettes Blues Band, Album: On Tap & In the Can, Genre: Blues/R&B\n",
            "Inserted track: Dust My Broom, Artist: The Canettes Blues Band, Album: On Tap & In the Can, Genre: Blues/R&B\n",
            "Inserted track: Gimme' Some Lovin, Artist: The Canettes Blues Band, Album: On Tap & In the Can, Genre: Blues/R&B\n",
            "Inserted track: Everybody Needs Somebody to Love, Artist: The Canettes Blues Band, Album: On Tap & In the Can, Genre: Blues/R&B\n",
            "Inserted track: Black Magic Woman, Artist: The Canettes Blues Band, Album: On Tap & In the Can, Genre: Blues/R&B\n",
            "Inserted track: Steppin' Rooster, Artist: The Canettes Blues Band, Album: On Tap & In the Can, Genre: Blues/R&B\n",
            "Inserted track: Our Love is Drifting, Artist: The Canettes Blues Band, Album: On Tap & In the Can, Genre: Blues/R&B\n",
            "Inserted track: Doin' 100, Artist: The Canettes Blues Band, Album: On Tap & In the Can, Genre: Blues/R&B\n",
            "Inserted track: Mother Joy, Artist: Matt Ender, Album: Natural Wonders Music Sampler 1999, Genre: New Age\n",
            "Inserted track: Soldier's Lament, Artist: Steve McDonald, Album: Natural Wonders Music Sampler 1999, Genre: New Age\n",
            "Inserted track: Dulaman, Artist: Altan, Album: Natural Wonders Music Sampler 1999, Genre: New Age\n",
            "Inserted track: The Arrow, Artist: Chris Spheeris, Album: Natural Wonders Music Sampler 1999, Genre: New Age\n",
            "Inserted track: Spanish Eyes, Artist: La Esperanza, Album: Natural Wonders Music Sampler 1999, Genre: New Age\n",
            "Inserted track: Banana Bay, Artist: Luis Villegas, Album: Natural Wonders Music Sampler 1999, Genre: New Age\n",
            "Inserted track: Aguas De Marco, Artist: Rosa Passos, Album: Natural Wonders Music Sampler 1999, Genre: New Age\n",
            "Inserted track: Tamborea, Artist: Energipsy, Album: Natural Wonders Music Sampler 1999, Genre: New Age\n",
            "Inserted track: Gone, Artist: Hollie Smith, Album: Natural Wonders Music Sampler 1999, Genre: New Age\n",
            "Inserted track: The Immigrant, Artist: Joanie Madden, Album: Natural Wonders Music Sampler 1999, Genre: New Age\n",
            "Inserted track: Pahrump-Big Water, Artist: Cusco, Album: Natural Wonders Music Sampler 1999, Genre: New Age\n",
            "Inserted track: Seeker's Quest, Artist: Cheryl Gunn, Album: Natural Wonders Music Sampler 1999, Genre: New Age\n",
            "Inserted track: Floating To Forever, Artist: Dean Everson, Album: Natural Wonders Music Sampler 1999, Genre: New Age\n",
            "Inserted track: Open Road, Artist: Jeff Bailey, Album: Relaxing Jazz, Genre: Jazz\n",
            "Inserted track: Ruby, Artist: Kaiser Chiefs, Album: Yours Truly, Angry Mob, Genre: Alternative & Punk\n",
            "Inserted track: The Angry Mob, Artist: Kaiser Chiefs, Album: Yours Truly, Angry Mob, Genre: Alternative & Punk\n",
            "Inserted track: Heat Dies Down, Artist: Kaiser Chiefs, Album: Yours Truly, Angry Mob, Genre: Alternative & Punk\n",
            "Inserted track: Highroyds, Artist: Kaiser Chiefs, Album: Yours Truly, Angry Mob, Genre: Alternative & Punk\n",
            "Inserted track: Love's Not A Competition (But I'm Winning), Artist: Kaiser Chiefs, Album: Yours Truly, Angry Mob, Genre: Alternative & Punk\n",
            "Inserted track: Thank You Very Much, Artist: Kaiser Chiefs, Album: Yours Truly, Angry Mob, Genre: Alternative & Punk\n",
            "Inserted track: I Can Do It Without You, Artist: Kaiser Chiefs, Album: Yours Truly, Angry Mob, Genre: Alternative & Punk\n",
            "Inserted track: My Kind Of Guy, Artist: Kaiser Chiefs, Album: Yours Truly, Angry Mob, Genre: Alternative & Punk\n",
            "Inserted track: Everything Is Average Nowadays, Artist: Kaiser Chiefs, Album: Yours Truly, Angry Mob, Genre: Alternative & Punk\n",
            "Inserted track: Learnt My Lesson Well, Artist: Kaiser Chiefs, Album: Yours Truly, Angry Mob, Genre: Alternative & Punk\n",
            "Inserted track: Try Your Best, Artist: Kaiser Chiefs, Album: Yours Truly, Angry Mob, Genre: Alternative & Punk\n",
            "Inserted track: Retirement, Artist: Kaiser Chiefs, Album: Yours Truly, Angry Mob, Genre: Alternative & Punk\n",
            "Inserted track: The Angry Mob [Live From Berlin], Artist: Kaiser Chiefs, Album: Yours Truly, Angry Mob, Genre: Alternative & Punk\n",
            "Inserted track: I Like To Fight, Artist: Kaiser Chiefs, Album: Yours Truly, Angry Mob, Genre: Alternative & Punk\n",
            "Inserted track: From The Neck Down, Artist: Kaiser Chiefs, Album: Yours Truly, Angry Mob, Genre: Alternative & Punk\n",
            "Inserted track: The Wisdom of Crowds: Why the Many Are Smarter than the Few Part 1 of 3, Artist: James Surowiecki, Album: The Wisdom of Crowds: Why the Many Are Smarter than the Few (Abridged Nonfiction), Genre: Business\n",
            "Inserted track: The Wisdom of Crowds: Why the Many Are Smarter than the Few Part 2 of 3, Artist: James Surowiecki, Album: The Wisdom of Crowds: Why the Many Are Smarter than the Few (Abridged Nonfiction), Genre: Business\n",
            "Inserted track: The Wisdom of Crowds: Why the Many Are Smarter than the Few Part 3 of 3, Artist: James Surowiecki, Album: The Wisdom of Crowds: Why the Many Are Smarter than the Few (Abridged Nonfiction), Genre: Business\n",
            "Inserted track: The Wisdom of Crowds: Why the Many Are Smarter Than the Few (Unabridged) Part 1 of 5, Artist: James Surowiecki, Album: The Wisdom of Crowds: Why the Many Are Smarter Than the Few (Unabridged), Genre: Nonfiction\n",
            "Inserted track: The Wisdom of Crowds: Why the Many Are Smarter Than the Few (Unabridged) Part 2 of 5, Artist: James Surowiecki, Album: The Wisdom of Crowds: Why the Many Are Smarter Than the Few (Unabridged), Genre: Nonfiction\n",
            "Inserted track: The Wisdom of Crowds: Why the Many Are Smarter Than the Few (Unabridged) Part 3 of 5, Artist: James Surowiecki, Album: The Wisdom of Crowds: Why the Many Are Smarter Than the Few (Unabridged), Genre: Nonfiction\n",
            "Inserted track: The Wisdom of Crowds: Why the Many Are Smarter Than the Few (Unabridged) Part 4 of 5, Artist: James Surowiecki, Album: The Wisdom of Crowds: Why the Many Are Smarter Than the Few (Unabridged), Genre: Nonfiction\n",
            "Inserted track: The Wisdom of Crowds: Why the Many Are Smarter Than the Few (Unabridged) Part 5 of 5, Artist: James Surowiecki, Album: The Wisdom of Crowds: Why the Many Are Smarter Than the Few (Unabridged), Genre: Nonfiction\n",
            "Inserted track: Misty, Artist: David Osborne, Album: Moonlight And Love Songs, Genre: Classical\n",
            "Inserted track: My Funny Valentine, Artist: David Osborne, Album: Moonlight And Love Songs, Genre: Classical\n",
            "Inserted track: Since I Don't Have You, Artist: David Osborne, Album: Moonlight And Love Songs, Genre: Classical\n",
            "Inserted track: Tenderly, Artist: David Osborne, Album: Moonlight And Love Songs, Genre: Classical\n",
            "Inserted track: When I Fall In Love, Artist: David Osborne, Album: Moonlight And Love Songs, Genre: Classical\n",
            "Inserted track: Unforgettable, Artist: David Osborne, Album: Moonlight And Love Songs, Genre: Classical\n",
            "Inserted track: The Way You Look Tonight, Artist: David Osborne, Album: Moonlight And Love Songs, Genre: Classical\n",
            "Inserted track: I've Grown Accustomed To Your Face, Artist: David Osborne, Album: Moonlight And Love Songs, Genre: Classical\n",
            "Inserted track: Smoke Gets In Your Eyes, Artist: David Osborne, Album: Moonlight And Love Songs, Genre: Classical\n",
            "Inserted track: Fly Me To The Moon, Artist: David Osborne, Album: Moonlight And Love Songs, Genre: Classical\n",
            "Inserted track: Unchained Melody, Artist: David Osborne, Album: Moonlight And Love Songs, Genre: Classical\n",
            "Inserted track: These Foolish Things Remind Me Of You, Artist: David Osborne, Album: Moonlight And Love Songs, Genre: Classical\n",
            "Inserted track: La Vie En Rose, Artist: David Osborne, Album: Moonlight And Love Songs, Genre: Classical\n",
            "Inserted track: As Time Goes By, Artist: David Osborne, Album: Moonlight And Love Songs, Genre: Classical\n",
            "Inserted track: Pilot, Artist: Fairly Legal, Album: Fairly Legal, Season 1, Genre: Drama\n",
            "Inserted track: hte postal service - the impor, Artist: The Postal Service, Album: unreleased demo, Genre: Electronic\n",
            "Inserted track: Winter Wonderland, Artist: Bing Crosby, Album: Seasons Greatings, Genre: Holiday\n",
            "Inserted track: Jingle Bells, Artist: Frank Sinatra, Album: Seasons Greatings, Genre: Holiday\n",
            "Inserted track: White Christmas, Artist: Bing Crosby, Album: Seasons Greatings, Genre: Holiday\n",
            "Inserted track: The Christmas Song, Artist: Frank Sinatra, Album: Seasons Greatings, Genre: Holiday\n",
            "Inserted track: Little Drummer Boy, Artist: Bing Crosby, Album: Seasons Greatings, Genre: Holiday\n",
            "Inserted track: Silent Night, Artist: Frank Sinatra, Album: Seasons Greatings, Genre: Holiday\n",
            "Inserted track: Let It Snow, Artist: Bing Crosby, Album: Seasons Greatings, Genre: Holiday\n",
            "Inserted track: Mistletoe And Holly, Artist: Frank Sinatra, Album: Seasons Greatings, Genre: Holiday\n",
            "Inserted track: O Holy Night, Artist: Bing Crosby, Album: Seasons Greatings, Genre: Holiday\n",
            "Inserted track: Have Yourself A Merry Little Christmas, Artist: Frank Sinatra, Album: Seasons Greatings, Genre: Holiday\n",
            "Inserted track: Do You Hear What I Hear, Artist: Bing Crosby, Album: Seasons Greatings, Genre: Holiday\n",
            "Inserted track: I'll Be Home For Christmas, Artist: Frank Sinatra, Album: Seasons Greatings, Genre: Holiday\n",
            "Inserted track: Voices, Artist: Disturbed, Album: The Sickness, Genre: Alternative\n",
            "Inserted track: The Game, Artist: Disturbed, Album: The Sickness, Genre: Alternative\n",
            "Inserted track: Stupify, Artist: Disturbed, Album: The Sickness, Genre: Alternative\n",
            "Inserted track: Down With The Sickness, Artist: Disturbed, Album: The Sickness, Genre: Alternative\n",
            "Inserted track: Violence Fetish, Artist: Disturbed, Album: The Sickness, Genre: Alternative\n",
            "Inserted track: Fear, Artist: Disturbed, Album: The Sickness, Genre: Alternative\n",
            "Inserted track: Numb, Artist: Disturbed, Album: The Sickness, Genre: Alternative\n",
            "Inserted track: Want, Artist: Disturbed, Album: The Sickness, Genre: Alternative\n",
            "Inserted track: Conflict, Artist: Disturbed, Album: The Sickness, Genre: Alternative\n",
            "Inserted track: Shout 2000, Artist: Disturbed, Album: The Sickness, Genre: Alternative\n",
            "Inserted track: Droppin' Plates, Artist: Disturbed, Album: The Sickness, Genre: Alternative\n",
            "Inserted track: Meaning Of Life, Artist: Disturbed, Album: The Sickness, Genre: Alternative\n",
            "Inserted track: PY4INF-01-Intro.mp3, Artist: Recording by Dr. Chuck, Album: Python for Informatics's official Podcast., Genre: Podcast\n",
            "Inserted track: Eben Upton: Raspberry Pi, Artist: IEEE Computer Society, Album: Computing Conversations, Genre: Podcast\n",
            "Inserted track: Andrew Tanenbaum: Writing the Book on Networks, Artist: IEEE Computer Society, Album: Computing Conversations, Genre: Podcast\n",
            "Inserted track: Massimo Banzi: Building Arduino, Artist: IEEE Computer Society, Album: Computing Conversations, Genre: Podcast\n",
            "Inserted track: PY4INF-04-Functions.mp3, Artist: Recording by Dr. Chuck, Album: Python for Informatics's official Podcast., Genre: Podcast\n",
            "Inserted track: PY4INF-02-Expressions.mp3, Artist: Recording by Dr. Chuck, Album: Python for Informatics's official Podcast., Genre: Podcast\n",
            "Inserted track: PY4INF-03-Conditional.mp3, Artist: Recording by Dr. Chuck, Album: Python for Informatics's official Podcast., Genre: Podcast\n",
            "Inserted track: PY4INF-05-Iterations.mp3, Artist: Recording by Dr. Chuck, Album: Python for Informatics's official Podcast., Genre: Podcast\n",
            "Inserted track: PY4INF-06-Strings.mp3, Artist: Recording by Dr. Chuck, Album: Python for Informatics's official Podcast., Genre: Podcast\n",
            "Inserted track: PY4INF-07-Files.mp3, Artist: Recording by Dr. Chuck, Album: Python for Informatics's official Podcast., Genre: Podcast\n",
            "Inserted track: PY4INF-08-Lists.mp3, Artist: Recording by Dr. Chuck, Album: Python for Informatics's official Podcast., Genre: Podcast\n",
            "Inserted track: PY4INF-09-Dictionaries.mp3, Artist: Recording by Dr. Chuck, Album: Python for Informatics's official Podcast., Genre: Podcast\n",
            "Inserted track: PY4INF-10-Tuples.mp3, Artist: Recording by Dr. Chuck, Album: Python for Informatics's official Podcast., Genre: Podcast\n",
            "Inserted track: PY4INF-11-Regex.mp3, Artist: Recording by Dr. Chuck, Album: Python for Informatics's official Podcast., Genre: Podcast\n",
            "Inserted track: John C. Hollar: History of Computing, Artist: IEEE Computer Society, Album: Computing Conversations, Genre: Podcast\n",
            "Inserted track: Bob Metcalfe: Ethernet at Forty, Artist: IEEE Computer Society, Album: Computing Conversations, Genre: Podcast\n",
            "Inserted track: Gordon Bell: Building Blocks of Computing, Artist: IEEE Computer Society, Album: Computing Conversations, Genre: Podcast\n",
            "Inserted track: Ian Horrocks: Standardizing OWL, Artist: IEEE Computer Society, Album: Computing Conversations, Genre: Podcast\n",
            "Inserted track: Katie Hafner: The Origins of the Internet, Artist: IEEE Computer Society, Album: Computing Conversations, Genre: Podcast\n",
            "Inserted track: Larry Smarr: Building Mosaic, Artist: IEEE Computer Society, Album: Computing Conversations, Genre: Podcast\n",
            "Inserted track: Len Kleinrock: The Theory of Packets, Artist: IEEE Computer Society, Album: Computing Conversations, Genre: Podcast\n",
            "Inserted track: Mitchell Baker: The Mozilla Foundation, Artist: IEEE Computer Society, Album: Computing Conversations, Genre: Podcast\n",
            "Inserted track: Pooja Sankar: Building the Piazza Collaboration System, Artist: IEEE Computer Society, Album: Computing Conversations, Genre: Podcast\n",
            "Inserted track: Van Jacobson: Content-Centric Networking, Artist: IEEE Computer Society, Album: Computing Conversations, Genre: Podcast\n",
            "Inserted track: The Apache Software Foundation, Artist: IEEE Computer Society, Album: Computing Conversations, Genre: Podcast\n",
            "Inserted track: A Brief History of Packets, Artist: IEEE Computer Society, Album: Computing Conversations, Genre: Podcast\n",
            "Inserted track: Discovering JavaScript Object Notation, Artist: IEEE Computer Society, Album: Computing Conversations, Genre: Podcast\n",
            "Inserted track: Inventing PHP, Artist: IEEE Computer Society, Album: Computing Conversations, Genre: Podcast\n",
            "Inserted track: Monash Museum of Computing History, Artist: IEEE Computer Society, Album: Computing Conversations, Genre: Podcast\n",
            "Inserted track: The Rise of JavaScript, Artist: IEEE Computer Society, Album: Computing Conversations, Genre: Podcast\n",
            "Inserted track: Joseph Hardin: NCSA Mosaic, Artist: IEEE Computer Society, Album: Computing Conversations, Genre: Podcast\n",
            "Inserted track: Len Kleinrock on the Internet's First Two Packets, Artist: IEEE Computer Society, Album: Computing Conversations, Genre: Podcast\n",
            "Inserted track: Doug Van Houweling on Building the NSFNet, Artist: IEEE Computer Society, Album: Computing Conversations, Genre: Podcast\n",
            "Inserted track: Computing Conversations: Nathaniel Borenstein on MIME, Artist: IEEE Computer Society, Album: Computing Conversations, Genre: Podcast\n",
            "Inserted track: You Don't Mess Around With Jim, Artist: Jim Croce, Album: Classic Hits, Genre: Folk\n",
            "Inserted track: Andrew S. Tanenbaum on MINIX, Artist: IEEE Computer Society, Album: Computing Conversations, Genre: Podcast\n",
            "Inserted track: Computing Conversations: Elizabeth Fong on SQL Standards, Artist: IEEE Computer Society, Album: Computing Conversations, Genre: Podcast\n",
            "Inserted track: Nii Quaynor on Bringing the Internet to Africa, Artist: IEEE Computer Society, Album: Computing Conversations, Genre: Podcast\n",
            "Inserted track: PHP-09-Transactions.mp3, Artist: Created by Sakai, Album: SI 664 W14's official Podcast., Genre: Podcast\n",
            "Inserted track: PHP-01-Intro.mp3, Artist: Created by Sakai, Album: SI 664 W14's official Podcast., Genre: Podcast\n",
            "Inserted track: PHP-02-Install.mp3, Artist: Created by Sakai, Album: SI 664 W14's official Podcast., Genre: Podcast\n",
            "Inserted track: PHP-04-Expressions.mp3, Artist: Created by Sakai, Album: SI 664 W14's official Podcast., Genre: Podcast\n",
            "Inserted track: PHP-05-Functions.mp3, Artist: Created by Sakai, Album: SI 664 W14's official Podcast., Genre: Podcast\n",
            "Inserted track: PHP-06-Strings.mp3, Artist: Created by Sakai, Album: SI 664 W14's official Podcast., Genre: Podcast\n",
            "Inserted track: PHP-12-Sessions.mp3, Artist: Created by Sakai, Album: SI 664 W14's official Podcast., Genre: Podcast\n",
            "Inserted track: PHP-06-Objects.mp3, Artist: Created by Sakai, Album: SI 664 W14's official Podcast., Genre: Podcast\n",
            "Inserted track: SI664-13-JSON-A.mp3, Artist: Created by Sakai, Album: SI 664 W14's official Podcast., Genre: Podcast\n",
            "Inserted track: PHP-13-JavaScript.mp3, Artist: Created by Sakai, Album: SI 664 W14's official Podcast., Genre: Podcast\n",
            "Inserted track: PHP-09-Database-Design.mp3, Artist: Created by Sakai, Album: SI 664 W14's official Podcast., Genre: Podcast\n",
            "Inserted track: PHP-Tsugi-Install.mp3, Artist: Created by Sakai, Album: SI 664 W14's official Podcast., Genre: Podcast\n",
            "Inserted track: PHP-10-MySQL-PDO.mp3, Artist: Created by Sakai, Album: SI 664 W14's official Podcast., Genre: Podcast\n",
            "Inserted track: PHP-08-MySQL.mp3, Artist: Created by Sakai, Album: SI 664 W14's official Podcast., Genre: Podcast\n",
            "Inserted track: SI664-13-JSON-B.mp3, Artist: Created by Sakai, Album: SI 664 W14's official Podcast., Genre: Podcast\n",
            "Inserted track: IMS-Learning-Tools-Interoperability.mp3, Artist: Created by Sakai, Album: SI 664 W14's official Podcast., Genre: Podcast\n",
            "Inserted track: An Interview with Don Waters, Artist: Matt Pasiewicz, Album: CNI Event Coverage, Genre: Speech\n",
            "Inserted track: PY4INF-11-Regex.mp3, Artist: Recording by Dr. Chuck, Album: Python for Informatics's official Podcast., Genre: Podcast\n",
            "Inserted track: PY4INF-10-Tuples.mp3, Artist: Recording by Dr. Chuck, Album: Python for Informatics's official Podcast., Genre: Podcast\n",
            "Inserted track: PY4INF-09-Dictionaries.mp3, Artist: Recording by Dr. Chuck, Album: Python for Informatics's official Podcast., Genre: Podcast\n",
            "Inserted track: PY4INF-08-Lists.mp3, Artist: Recording by Dr. Chuck, Album: Python for Informatics's official Podcast., Genre: Podcast\n",
            "Inserted track: PY4INF-07-Files.mp3, Artist: Recording by Dr. Chuck, Album: Python for Informatics's official Podcast., Genre: Podcast\n",
            "Inserted track: PY4INF-06-Strings.mp3, Artist: Recording by Dr. Chuck, Album: Python for Informatics's official Podcast., Genre: Podcast\n",
            "Inserted track: PY4INF-05-Iterations.mp3, Artist: Recording by Dr. Chuck, Album: Python for Informatics's official Podcast., Genre: Podcast\n",
            "Inserted track: PY4INF-04-Functions.mp3, Artist: Recording by Dr. Chuck, Album: Python for Informatics's official Podcast., Genre: Podcast\n",
            "Inserted track: PY4INF-03-Conditional.mp3, Artist: Recording by Dr. Chuck, Album: Python for Informatics's official Podcast., Genre: Podcast\n",
            "Inserted track: PY4INF-02-Expressions.mp3, Artist: Recording by Dr. Chuck, Album: Python for Informatics's official Podcast., Genre: Podcast\n",
            "Inserted track: PY4INF-01-Intro.mp3, Artist: Recording by Dr. Chuck, Album: Python for Informatics's official Podcast., Genre: Podcast\n",
            "Inserted track: Py4Inf-11-Regex.mp3, Artist: Recording by Dr. Chuck, Album: Python for Informatics's official Podcast., Genre: Podcast\n",
            "Inserted track: Py4Inf-10-Tuples.mp3, Artist: Recording by Dr. Chuck, Album: Python for Informatics's official Podcast., Genre: Podcast\n",
            "Inserted track: Py4Inf-09-Dictionaries.mp3, Artist: Recording by Dr. Chuck, Album: Python for Informatics's official Podcast., Genre: Podcast\n",
            "Inserted track: Py4Inf-08-Lists.mp3, Artist: Recording by Dr. Chuck, Album: Python for Informatics's official Podcast., Genre: Podcast\n",
            "Inserted track: Py4Inf-07-Files.mp3, Artist: Recording by Dr. Chuck, Album: Python for Informatics's official Podcast., Genre: Podcast\n",
            "Inserted track: Py4Inf-06-Strings.mp3, Artist: Recording by Dr. Chuck, Album: Python for Informatics's official Podcast., Genre: Podcast\n",
            "Inserted track: Py4Inf-05-Iterations.mp3, Artist: Recording by Dr. Chuck, Album: Python for Informatics's official Podcast., Genre: Podcast\n",
            "Inserted track: Py4Inf-04-Functions.mp3, Artist: Recording by Dr. Chuck, Album: Python for Informatics's official Podcast., Genre: Podcast\n",
            "Inserted track: Py4Inf-03-Conditional.mp3, Artist: Recording by Dr. Chuck, Album: Python for Informatics's official Podcast., Genre: Podcast\n",
            "Inserted track: Py4Inf-02-Expressions.mp3, Artist: Recording by Dr. Chuck, Album: Python for Informatics's official Podcast., Genre: Podcast\n",
            "Inserted track: Py4Inf-01-Intro.mp3, Artist: Recording by Dr. Chuck, Album: Python for Informatics's official Podcast., Genre: Podcast\n",
            "Inserted track: Ian Foster on the Globus Project, Artist: IEEE Computer Society, Album: Computing Conversations, Genre: Podcast\n",
            "Inserted track: Khan Academy and Computer Science, Artist: IEEE Computer Society, Album: Computing Conversations, Genre: Podcast\n",
            "Inserted track: Guido van Rossumon the Early Years of Python, Artist: IEEE Computer Society, Album: Computing Conversations, Genre: Podcast\n",
            "Inserted track: Guido van Rossum on the Modern Era of Python, Artist: IEEE Computer Society, Album: Computing Conversations, Genre: Podcast\n",
            "Inserted track: John Resig on Building jQuery, Artist: IEEE Computer Society, Album: Computing Conversations, Genre: Podcast\n",
            "Inserted track: Roy T. Fielding on Understanding the REST Style, Artist: IEEE Computer Society, Album: Computing Conversations, Genre: Podcast\n",
            "Inserted track: Anil Jain: 25 Years of Biometric Recognition, Artist: IEEE Computer Society, Album: Computing Conversations, Genre: Podcast\n",
            "Inserted track: Waste Management, Artist: Undercover Boss, Album: Undercover Boss, Season 1, Genre: Reality TV\n",
            "Inserted track: Sleep Like a Baby Tonight, Artist: U2, Album: Songs of Innocence, Genre: Rock\n",
            "Inserted track: Evergreen, Artist: The Black Crowes, Album: Warpaint, Genre: Rock\n",
            "Inserted track: Oh Josephine, Artist: The Black Crowes, Album: Warpaint, Genre: Rock\n",
            "Inserted track: Movin' On Down the Line, Artist: The Black Crowes, Album: Warpaint, Genre: Rock\n",
            "Inserted track: Wounded Bird, Artist: The Black Crowes, Album: Warpaint, Genre: Rock\n",
            "Inserted track: Volcano, Artist: U2, Album: Songs of Innocence, Genre: Rock\n",
            "Inserted track: Wee Who See the Deep, Artist: The Black Crowes, Album: Warpaint, Genre: Rock\n",
            "Inserted track: Cedarwood Road, Artist: U2, Album: Songs of Innocence, Genre: Rock\n",
            "Inserted track: Locust Street, Artist: The Black Crowes, Album: Warpaint, Genre: Rock\n",
            "Inserted track: Raised By Wolves, Artist: U2, Album: Songs of Innocence, Genre: Rock\n",
            "Inserted track: The Troubles, Artist: U2, Album: Songs of Innocence, Genre: Rock\n",
            "Inserted track: This Is Where You Can Reach Me Now, Artist: U2, Album: Songs of Innocence, Genre: Rock\n",
            "Inserted track: God's Got It, Artist: The Black Crowes, Album: Warpaint, Genre: Rock\n",
            "Inserted track: California (There Is No End to Love), Artist: U2, Album: Songs of Innocence, Genre: Rock\n",
            "Inserted track: Every Breaking Wave, Artist: U2, Album: Songs of Innocence, Genre: Rock\n",
            "Inserted track: Interview With the Onion News Network, Artist: Onion News Network, Album: Onion News Network, Season 1, Genre: Comedy\n",
            "Inserted track: Song for Someone, Artist: U2, Album: Songs of Innocence, Genre: Rock\n",
            "Inserted track: The Miracle (Of Joey Ramone), Artist: U2, Album: Songs of Innocence, Genre: Rock\n",
            "Inserted track: Iris (Hold Me Close), Artist: U2, Album: Songs of Innocence, Genre: Rock\n",
            "Inserted track: Goodbye Daughters of the Revolution, Artist: The Black Crowes, Album: Warpaint, Genre: Rock\n",
            "Inserted track: Walk Believer Walk, Artist: The Black Crowes, Album: Warpaint, Genre: Rock\n",
            "Inserted track: Choice Hotels International, Artist: Undercover Boss, Album: Undercover Boss, Season 2, Genre: Reality TV\n",
            "Inserted track: Microchip, Artist: Jason Farnham, Album: YouTube Audio Library, Genre: Dance & Electronic\n",
            "Inserted track: Anant Agarwal, Artist: IEEE Computer Society, Album: Computing Conversations, Genre: Podcast\n"
          ]
        }
      ]
    },
    {
      "cell_type": "code",
      "source": [
        "cur= conn.cursor()"
      ],
      "metadata": {
        "id": "BKMNxO5qAjhy"
      },
      "execution_count": 15,
      "outputs": []
    },
    {
      "cell_type": "code",
      "source": [
        "# Connect to SQLite database\n",
        "conn = sqlite3.connect('/content/music_library.db')\n",
        "cur = conn.cursor()"
      ],
      "metadata": {
        "id": "qr0PDDRqBoLt"
      },
      "execution_count": 10,
      "outputs": []
    },
    {
      "cell_type": "code",
      "source": [
        "# Query the sqlite_master table to view the schema\n",
        "cur.execute(\"SELECT type, name, sql FROM sqlite_master WHERE type='table'\")\n",
        "schema = cur.fetchall()\n",
        "\n",
        "for table_type, table_name, sql in schema:\n",
        "    print(f\"Table: {table_name}\\nCreation SQL:\\n{sql}\\n\")"
      ],
      "metadata": {
        "colab": {
          "base_uri": "https://localhost:8080/"
        },
        "id": "hiAF8kblGzf9",
        "outputId": "294ab755-47c8-44c9-d853-c622b2cde64a"
      },
      "execution_count": 20,
      "outputs": [
        {
          "output_type": "stream",
          "name": "stdout",
          "text": [
            "Table: Artist\n",
            "Creation SQL:\n",
            "CREATE TABLE Artist (\n",
            "    id INTEGER NOT NULL PRIMARY KEY AUTOINCREMENT UNIQUE,\n",
            "    name TEXT UNIQUE\n",
            ")\n",
            "\n",
            "Table: sqlite_sequence\n",
            "Creation SQL:\n",
            "CREATE TABLE sqlite_sequence(name,seq)\n",
            "\n",
            "Table: Genre\n",
            "Creation SQL:\n",
            "CREATE TABLE Genre (\n",
            "    id INTEGER NOT NULL PRIMARY KEY AUTOINCREMENT UNIQUE,\n",
            "    name TEXT UNIQUE\n",
            ")\n",
            "\n",
            "Table: Album\n",
            "Creation SQL:\n",
            "CREATE TABLE Album (\n",
            "    id INTEGER NOT NULL PRIMARY KEY AUTOINCREMENT UNIQUE,\n",
            "    artist_id INTEGER,\n",
            "    title TEXT UNIQUE\n",
            ")\n",
            "\n",
            "Table: Track\n",
            "Creation SQL:\n",
            "CREATE TABLE Track (\n",
            "    id INTEGER NOT NULL PRIMARY KEY AUTOINCREMENT UNIQUE,\n",
            "    title TEXT UNIQUE,\n",
            "    album_id INTEGER,\n",
            "    genre_id INTEGER,\n",
            "    len INTEGER, rating INTEGER, count INTEGER\n",
            ")\n",
            "\n"
          ]
        }
      ]
    },
    {
      "cell_type": "code",
      "source": [
        "#To understand the relationships, you can look for foreign key constraints in the table creation SQL.\n",
        "for table_type, table_name, sql in schema:\n",
        "    print(f\"Table: {table_name}\")\n",
        "    if \"FOREIGN KEY\" in sql:\n",
        "        print(\"Foreign Key Constraints:\")\n",
        "        for line in sql.split(\"\\n\"):\n",
        "            if \"FOREIGN KEY\" in line:\n",
        "                print(line.strip())\n",
        "    else:\n",
        "        print(\"No foreign key constraints.\")\n",
        "    print(\"\\n\")\n"
      ],
      "metadata": {
        "colab": {
          "base_uri": "https://localhost:8080/"
        },
        "id": "W3AAs45sHssX",
        "outputId": "432ff4d9-4822-449f-9659-3de90db7959b"
      },
      "execution_count": 21,
      "outputs": [
        {
          "output_type": "stream",
          "name": "stdout",
          "text": [
            "Table: Artist\n",
            "No foreign key constraints.\n",
            "\n",
            "\n",
            "Table: sqlite_sequence\n",
            "No foreign key constraints.\n",
            "\n",
            "\n",
            "Table: Genre\n",
            "No foreign key constraints.\n",
            "\n",
            "\n",
            "Table: Album\n",
            "No foreign key constraints.\n",
            "\n",
            "\n",
            "Table: Track\n",
            "No foreign key constraints.\n",
            "\n",
            "\n"
          ]
        }
      ]
    },
    {
      "cell_type": "markdown",
      "source": [
        "## **Querying Data**\n",
        "To retrieve data from the database, you can use SELECT statements."
      ],
      "metadata": {
        "id": "ko0SyrPGAvhV"
      }
    },
    {
      "cell_type": "code",
      "source": [
        "cur.execute(\"SELECT name FROM sqlite_master WHERE type='table'\")\n",
        "tables = cur.fetchall()\n",
        "for table in tables:\n",
        "    print(table[0])\n"
      ],
      "metadata": {
        "colab": {
          "base_uri": "https://localhost:8080/"
        },
        "id": "nGcAfla5Bt7J",
        "outputId": "216e5171-8b12-4716-bfca-04865048d075"
      },
      "execution_count": 16,
      "outputs": [
        {
          "output_type": "stream",
          "name": "stdout",
          "text": [
            "Artist\n",
            "sqlite_sequence\n",
            "Genre\n",
            "Album\n",
            "Track\n"
          ]
        }
      ]
    },
    {
      "cell_type": "code",
      "source": [
        "cur.execute('SELECT COUNT(*) FROM Track')\n",
        "count = cur.fetchone()[0]\n",
        "print(\"Number of Track:\", count)\n"
      ],
      "metadata": {
        "colab": {
          "base_uri": "https://localhost:8080/"
        },
        "id": "6zH_l16QBJiu",
        "outputId": "124e5295-21eb-463d-e4a0-5d79a880af52"
      },
      "execution_count": 17,
      "outputs": [
        {
          "output_type": "stream",
          "name": "stdout",
          "text": [
            "Number of Track: 292\n"
          ]
        }
      ]
    },
    {
      "cell_type": "markdown",
      "source": [
        "## **Print Debug Statements**\n",
        "Add print statements in your code to check if the loop is being entered"
      ],
      "metadata": {
        "id": "pFevjrVLEVfK"
      }
    },
    {
      "cell_type": "code",
      "source": [
        "cur.execute('SELECT * FROM Artist')\n",
        "artists = cur.fetchall()\n",
        "print(\"Fetching artists...\")\n",
        "for artist in artists:\n",
        "    print(artist)\n",
        "print(\"Done.\")\n"
      ],
      "metadata": {
        "colab": {
          "base_uri": "https://localhost:8080/"
        },
        "id": "hFvLl85pEWIM",
        "outputId": "68eee035-301e-43b3-fda5-98684ae6511a"
      },
      "execution_count": 19,
      "outputs": [
        {
          "output_type": "stream",
          "name": "stdout",
          "text": [
            "Fetching artists...\n",
            "(1, 'Queen')\n",
            "(2, 'Rammstein')\n",
            "(3, 'Various')\n",
            "(4, 'Led Zeppelin')\n",
            "(5, 'Pink Floyd')\n",
            "(6, 'Bryan Lee')\n",
            "(9, 'Black Sabbath')\n",
            "(11, 'AC/DC')\n",
            "(13, 'Rob Dougan')\n",
            "(23, 'Frank Sinatra')\n",
            "(31, 'America')\n",
            "(55, 'Billy Price')\n",
            "(58, 'The Canettes Blues Band')\n",
            "(72, 'Fluke')\n",
            "(86, 'The Who')\n",
            "(95, 'Johnny Cash')\n",
            "(103, 'Selah')\n",
            "(118, 'Matt Ender')\n",
            "(119, 'Steve McDonald')\n",
            "(120, 'Altan')\n",
            "(121, 'Chris Spheeris')\n",
            "(122, 'La Esperanza')\n",
            "(123, 'Luis Villegas')\n",
            "(124, 'Rosa Passos')\n",
            "(125, 'Energipsy')\n",
            "(126, 'Hollie Smith')\n",
            "(127, 'Joanie Madden')\n",
            "(128, 'Cusco')\n",
            "(129, 'Cheryl Gunn')\n",
            "(130, 'Dean Everson')\n",
            "(131, 'Jeff Bailey')\n",
            "(132, 'Kaiser Chiefs')\n",
            "(147, 'James Surowiecki')\n",
            "(155, 'David Osborne')\n",
            "(169, 'Fairly Legal')\n",
            "(170, 'The Postal Service')\n",
            "(171, 'Bing Crosby')\n",
            "(183, 'Disturbed')\n",
            "(195, 'Recording by Dr. Chuck')\n",
            "(196, 'IEEE Computer Society')\n",
            "(229, 'Jim Croce')\n",
            "(233, 'Created by Sakai')\n",
            "(249, 'Matt Pasiewicz')\n",
            "(279, 'Undercover Boss')\n",
            "(280, 'U2')\n",
            "(281, 'The Black Crowes')\n",
            "(295, 'Onion News Network')\n",
            "(302, 'Jason Farnham')\n",
            "Done.\n"
          ]
        }
      ]
    },
    {
      "cell_type": "markdown",
      "source": [
        "## **Complex Queries with JOIN:**"
      ],
      "metadata": {
        "id": "WHMXGbDHGJyX"
      }
    },
    {
      "cell_type": "code",
      "source": [
        "cur.execute('''\n",
        "SELECT Artist.name, Album.title, Track.title\n",
        "FROM Track\n",
        "JOIN Album ON Track.album_id = Album.id\n",
        "JOIN Artist ON Album.artist_id = Artist.id\n",
        "ORDER BY Artist.name LIMIT 10\n",
        "''')\n",
        "for row in cur.fetchall():\n",
        "    print(row)\n"
      ],
      "metadata": {
        "colab": {
          "base_uri": "https://localhost:8080/"
        },
        "id": "TsjaTBOAGNI0",
        "outputId": "605c2ce7-2251-4e41-8c3a-4750b1b51984"
      },
      "execution_count": 23,
      "outputs": [
        {
          "output_type": "stream",
          "name": "stdout",
          "text": [
            "('AC/DC', 'Who Made Who', 'For Those About To Rock (We Salute You)')\n",
            "('AC/DC', 'Who Made Who', 'Hells Bells')\n",
            "('AC/DC', 'Who Made Who', 'Shake Your Foundations')\n",
            "('AC/DC', 'Who Made Who', 'You Shook Me All Night Long')\n",
            "('AC/DC', 'Who Made Who', 'Who Made Who')\n",
            "('AC/DC', 'Who Made Who', 'D.T.')\n",
            "('AC/DC', 'Who Made Who', 'Sink the Pink')\n",
            "('AC/DC', 'Who Made Who', 'Ride On')\n",
            "('AC/DC', 'Who Made Who', 'Chase the Ace')\n",
            "('Billy Price', 'Danger Zone', 'Track 01')\n"
          ]
        }
      ]
    },
    {
      "cell_type": "markdown",
      "source": [],
      "metadata": {
        "id": "q9y8-n7kJTa-"
      }
    },
    {
      "cell_type": "code",
      "source": [
        "cur.execute('SELECT * FROM Album LIMIT 5')\n",
        "print(cur.fetchall())\n",
        "\n",
        "cur.execute('SELECT * FROM Track LIMIT 5')\n",
        "print(cur.fetchall())\n"
      ],
      "metadata": {
        "colab": {
          "base_uri": "https://localhost:8080/"
        },
        "id": "E5weUMmYJTy4",
        "outputId": "ca4bdfcb-3344-4e7f-e5bd-375789a21f9e"
      },
      "execution_count": 24,
      "outputs": [
        {
          "output_type": "stream",
          "name": "stdout",
          "text": [
            "[(1, 1, 'Greatest Hits'), (2, 2, 'Herzeleid'), (3, 3, 'Grease'), (4, 4, 'IV'), (5, 5, 'The Wall [Disc 2]')]\n",
            "[(1, 'Another One Bites The Dust', 1, 1, 217103, 100, 55), (2, 'Asche Zu Asche', 2, 2, 231810, 100, 79), (3, 'Beauty School Dropout', 3, 3, 239960, 100, 48), (4, 'Black Dog', 4, 1, 296620, 100, 109), (5, 'Bring The Boys Back Home', 5, 1, 87118, 100, 33)]\n"
          ]
        }
      ]
    },
    {
      "cell_type": "markdown",
      "source": [
        "## **Aggregate Functions**"
      ],
      "metadata": {
        "id": "aLcT0qqNKbCV"
      }
    },
    {
      "cell_type": "code",
      "source": [
        "cur.execute('''\n",
        "SELECT Artist.name, COUNT(Track.id) as TrackCount\n",
        "FROM Track\n",
        "JOIN Album ON Track.album_id = Album.id\n",
        "JOIN Artist ON Album.artist_id = Artist.id\n",
        "GROUP BY Artist.name\n",
        "ORDER BY TrackCount DESC\n",
        "LIMIT 10\n",
        "''')\n",
        "for row in cur.fetchall():\n",
        "    print(row)\n"
      ],
      "metadata": {
        "colab": {
          "base_uri": "https://localhost:8080/"
        },
        "id": "8D32NynrKb-2",
        "outputId": "c8f0b365-ef25-4bd9-e000-bca3e7aaf4f8"
      },
      "execution_count": 25,
      "outputs": [
        {
          "output_type": "stream",
          "name": "stdout",
          "text": [
            "('IEEE Computer Society', 34)\n",
            "('Recording by Dr. Chuck', 22)\n",
            "('Queen', 18)\n",
            "('The Canettes Blues Band', 16)\n",
            "('Created by Sakai', 16)\n",
            "('Kaiser Chiefs', 15)\n",
            "('David Osborne', 14)\n",
            "('Matt Ender', 13)\n",
            "('Disturbed', 12)\n",
            "('Bryan Lee', 12)\n"
          ]
        }
      ]
    },
    {
      "cell_type": "markdown",
      "source": [
        "## **Explore Relationships and Joins**\n",
        "Perform LEFT JOIN:"
      ],
      "metadata": {
        "id": "ZrJiRtcWLGs1"
      }
    },
    {
      "cell_type": "code",
      "source": [
        "cur.execute('''\n",
        "SELECT Artist.name, Album.title\n",
        "FROM Artist\n",
        "LEFT JOIN Album ON Artist.id = Album.artist_id\n",
        "LIMIT 10\n",
        "''')\n",
        "for row in cur.fetchall():\n",
        "    print(row)\n"
      ],
      "metadata": {
        "colab": {
          "base_uri": "https://localhost:8080/"
        },
        "id": "_fF5TtHiLKaN",
        "outputId": "e5ddcbd6-ef3e-4d4f-bee1-c4f339f8c81a"
      },
      "execution_count": 26,
      "outputs": [
        {
          "output_type": "stream",
          "name": "stdout",
          "text": [
            "('Queen', 'Greatest Hits')\n",
            "('Rammstein', 'Herzeleid')\n",
            "('Various', 'Grease')\n",
            "('Led Zeppelin', 'IV')\n",
            "('Pink Floyd', 'The Wall [Disc 2]')\n",
            "('Bryan Lee', 'Blues Is')\n",
            "('Black Sabbath', 'Paranoid')\n",
            "('AC/DC', 'Who Made Who')\n",
            "('Rob Dougan', 'The Matrix Reloaded')\n",
            "('Frank Sinatra', None)\n"
          ]
        }
      ]
    },
    {
      "cell_type": "markdown",
      "source": [
        "## **Advanced SQL Features**\n",
        "Creating Views:"
      ],
      "metadata": {
        "id": "iXFhsDinLYQz"
      }
    },
    {
      "cell_type": "code",
      "source": [
        "cur.execute('''\n",
        "CREATE VIEW popular_tracks AS\n",
        "SELECT Track.title, Artist.name, COUNT(Track.id) as TrackCount\n",
        "FROM Track\n",
        "JOIN Album ON Track.album_id = Album.id\n",
        "JOIN Artist ON Album.artist_id = Artist.id\n",
        "GROUP BY Track.title\n",
        "HAVING TrackCount > 10\n",
        "''')\n",
        "conn.commit()\n"
      ],
      "metadata": {
        "id": "SntXZ7lILau2"
      },
      "execution_count": 27,
      "outputs": []
    },
    {
      "cell_type": "markdown",
      "source": [
        "Use the View:"
      ],
      "metadata": {
        "id": "bRJIruk3LmSh"
      }
    },
    {
      "cell_type": "code",
      "source": [
        "cur.execute('SELECT * FROM popular_tracks LIMIT 10')\n",
        "for row in cur.fetchall():\n",
        "    print(row)\n"
      ],
      "metadata": {
        "id": "TOW6Apa8LnKP"
      },
      "execution_count": 28,
      "outputs": []
    },
    {
      "cell_type": "markdown",
      "source": [
        "## **Data Visualization**"
      ],
      "metadata": {
        "id": "foDpeksBLsel"
      }
    },
    {
      "cell_type": "code",
      "source": [
        "import pandas as pd\n",
        "import matplotlib.pyplot as plt\n",
        "\n",
        "cur.execute('''\n",
        "SELECT Artist.name, COUNT(Track.id) as TrackCount\n",
        "FROM Track\n",
        "JOIN Album ON Track.album_id = Album.id\n",
        "JOIN Artist ON Album.artist_id = Artist.id\n",
        "GROUP BY Artist.name\n",
        "ORDER BY TrackCount DESC\n",
        "LIMIT 10\n",
        "''')\n",
        "artists = cur.fetchall()\n",
        "\n",
        "df = pd.DataFrame(artists, columns=['Artist', 'TrackCount'])\n",
        "df.plot(kind='bar', x='Artist', y='TrackCount')\n",
        "plt.show()\n"
      ],
      "metadata": {
        "colab": {
          "base_uri": "https://localhost:8080/",
          "height": 610
        },
        "id": "7FA8l6rOLtoP",
        "outputId": "7161892a-31dc-4e24-ada0-784091b38bc7"
      },
      "execution_count": 29,
      "outputs": [
        {
          "output_type": "display_data",
          "data": {
            "text/plain": [
              "<Figure size 640x480 with 1 Axes>"
            ],
            "image/png": "[encoded data removed]"
          },
          "metadata": {}
        }
      ]
    },
    {
      "cell_type": "markdown",
      "source": [
        "# **Export Data from SQLite**\n",
        "## Export Tables as CSV Files:\n",
        " Use Python or a SQLite tool to export each table from your SQLite database to a CSV file. In Python, you can use the pandas library to do this:"
      ],
      "metadata": {
        "id": "DBfZtLorL_lf"
      }
    },
    {
      "cell_type": "code",
      "source": [
        "import pandas as pd"
      ],
      "metadata": {
        "id": "5TrfgPCGMUOB"
      },
      "execution_count": 32,
      "outputs": []
    },
    {
      "cell_type": "code",
      "source": [
        "# Export each table to a CSV file\n",
        "tables = ['Artist', 'Genre', 'Album', 'Track']\n",
        "for table in tables:\n",
        "    df = pd.read_sql_query(f\"SELECT * FROM {table}\", conn)\n",
        "    df.to_csv(f\"{table}.csv\", index=False)\n"
      ],
      "metadata": {
        "id": "Bs1wyXQdMWSv"
      },
      "execution_count": 33,
      "outputs": []
    }
  ]
}