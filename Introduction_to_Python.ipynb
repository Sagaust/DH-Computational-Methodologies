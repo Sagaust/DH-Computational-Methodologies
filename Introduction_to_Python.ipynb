{
  "metadata": {
    "language_info": {
      "name": "python",
      "version": "3.8.5"
    },
    "colab": {
      "provenance": [],
      "include_colab_link": true
    }
  },
  "nbformat": 4,
  "nbformat_minor": 0,
  "cells": [
    {
      "cell_type": "markdown",
      "metadata": {
        "id": "view-in-github",
        "colab_type": "text"
      },
      "source": [
        "<a href=\"https://colab.research.google.com/github/Sagaust/DH-Computational-Methodologies/blob/main/Introduction_to_Python.ipynb\" target=\"_parent\"><img src=\"https://colab.research.google.com/assets/colab-badge.svg\" alt=\"Open In Colab\"/></a>"
      ]
    },
    {
      "cell_type": "markdown",
      "metadata": {
        "id": "WSHUIDU11XbR"
      },
      "source": [
        "# Introduction to Python\n",
        "## What is coding?\n",
        "If you want to conduct more specific analyses, in the sense that it goes beyond the traditional scope of tools like Excel or other BI tools, you will need to learn to code. This will also allow you to add statistical analyses, develop predictive algorithms or perform more advanced data cleaning.\n",
        "A code is simply a series of instructions that are requested from the computer. It’s something you’ve always done using a calculator. In effect, you are asking it to perform calculations in a certain order to obtain a final result. A code is like a text file in which each line is an instruction.\n",
        "Like our writing, the computer will read from top to bottom and from left to right all the instructions one after the other. So, provided you know how to write code, you can ask it very precisely what you want to do.\n",
        "As with humans, there are several possible languages for writing code. The computer, by default, cannot read all the languages, you have to tell it how to do it. This is why, for a given language, you install an interpreter for this language on your computer, which is software that will be responsible for translating your code into machine language.\n",
        "Machine language is, by default, understood by all computers and their processors, it can be directly executed.\n",
        "Now when you hear someone say “I am installing python on the computer” you will know that they are installing the interpreter along with other components which will be discussed later.\n",
        "There are a multitude of possible languages for writing code. One might wonder why not just use one? Why reproduce the Tower of Babel in the computer world?\n",
        "The answer is that from diversity comes wealth. Some languages are specific to certain types of tasks, others are quite general but all have their specificities and their uses. You may have already written code by doing SQL for example! Each of the clauses was a statement perfectly suited to querying relational databases.\n",
        "Among the most widely used computer languages in the world are:\n",
        "- **C**: to be the fastest, he is very close to the machine. That is to say that there are not too many intermediaries between your code and the machine language. It is used in all embedded software and more generally everywhere when looking for speed of calculation.\n",
        "- **Java**: Widely used for software development.\n",
        "- **Javascript**: widely used in web development (Front-End side) for the development of websites for example.\n",
        "- **Php**: widely used in web development (Back-End side) for the development of websites for example.\n",
        "- **Python**: widely used for data analysis and the development of predictive algorithms using artificial intelligence.\n",
        "- **R**: Widely used in statistical research labs.\n",
        "- **Swift**: reference in the development of applications under IOS.\n",
        "- **Kotlin**: reference in the development of applications under Android.\n",
        "There is a phenomenal amount of possible languages, some of which you can find [here](#). In this training, we will focus on data analysis and therefore on Python."
      ]
    },
    {
      "cell_type": "code",
      "metadata": {
        "id": "O5MXUWz21XbX"
      },
      "execution_count": null,
      "source": [
        "# Practice Code Cell\n",
        "# This is a Python cell. You can run python code here.\n",
        "# Try printing a simple statement to see the output.\n",
        "print(\"Welcome to Python!\")"
      ],
      "outputs": []
    },
    {
      "cell_type": "markdown",
      "metadata": {
        "id": "l9idUL7T1XbY"
      },
      "source": [
        "# Variables & Types\n",
        "First of all, as on any calculator, we can perform elementary arithmetic operations. The `print` function displays a result. All you have to do is indicate in parentheses the result to display. Consider the following example:"
      ]
    },
    {
      "cell_type": "code",
      "metadata": {
        "id": "owz2-fGG1XbZ"
      },
      "execution_count": null,
      "source": [
        "print(3 + 4)"
      ],
      "outputs": []
    },
    {
      "cell_type": "markdown",
      "metadata": {
        "id": "bK9ydW4Q1XbZ"
      },
      "source": [
        "To be able to reuse intermediate results, we need to introduce variables. Variables are objects that hold values. The name of a variable must not contain spaces and must not start with a number.\n",
        "Going back to the previous example, we could decide to store the result of the `3 + 4` operation in a variable and then display it:"
      ]
    },
    {
      "cell_type": "code",
      "metadata": {
        "id": "aqp40M2y1XbZ"
      },
      "execution_count": null,
      "source": [
        "result = 3 + 4\n",
        "print(result)"
      ],
      "outputs": []
    },
    {
      "cell_type": "markdown",
      "metadata": {
        "id": "ZcW2pC-b1XbZ"
      },
      "source": [
        "You can change the value of a variable by simply changing the value at its memory address. To do this, nothing could be easier, just make a new assignment:"
      ]
    },
    {
      "cell_type": "code",
      "metadata": {
        "id": "HHg_VZEU1XbZ"
      },
      "execution_count": null,
      "source": [
        "result = 3 + 4\n",
        "result = 12\n",
        "print(result)"
      ],
      "outputs": []
    },
    {
      "cell_type": "markdown",
      "metadata": {
        "id": "QQzidthN1Xba"
      },
      "source": [
        "You can also reuse the previous value of the variable. For example, if we wanted to multiply the value of `result` by 2, we could write:"
      ]
    },
    {
      "cell_type": "code",
      "metadata": {
        "id": "dPXrr6TY1Xba"
      },
      "execution_count": null,
      "source": [
        "result = 3 + 4\n",
        "result = result * 2\n",
        "print(result)"
      ],
      "outputs": []
    },
    {
      "cell_type": "markdown",
      "metadata": {
        "id": "c-POW_YT1Xba"
      },
      "source": [
        "As in SQL, there are several types of data that a variable can contain:\n",
        "- **int**: denotes positive or negative integers\n",
        "- **float**: denotes all positive or negative decimal digits\n",
        "- **str**: denotes text (always shown in quotes)\n",
        "\n",
        "The `type()` function is very useful, because it lets you know the type of a variable:"
      ]
    },
    {
      "cell_type": "code",
      "metadata": {
        "id": "90f6h0q-1Xba"
      },
      "execution_count": null,
      "source": [
        "result = 3.23\n",
        "print(type(result))\n",
        "result = -8\n",
        "print(type(result))\n",
        "result = \"my first sentence in python\"\n",
        "print(type(result))"
      ],
      "outputs": []
    },
    {
      "cell_type": "markdown",
      "metadata": {
        "id": "gujfchJH1Xbb"
      },
      "source": [
        "Through this example, we observe that we can change the value of a variable by what we want even if it is not of the same type.\n",
        "For your information, this is not at all the case for all the languages and in particular for those that are said to be “typed”. Indeed, for these, you must associate a type with your variable and stick to it. Python has what is called dynamic typing, because the type of a variable can be changed at any time.\n",
        "The variables can also contain not only one value, but a collection of values, we will then speak of data structure."
      ]
    }
  ]
}