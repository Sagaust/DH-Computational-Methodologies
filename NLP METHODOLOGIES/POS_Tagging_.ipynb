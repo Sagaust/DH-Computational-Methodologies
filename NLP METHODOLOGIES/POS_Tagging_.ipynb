{
  "nbformat": 4,
  "nbformat_minor": 0,
  "metadata": {
    "colab": {
      "provenance": [],
      "authorship_tag": "ABX9TyMYq4fTQuwYvN4q/q8zA+EN",
      "include_colab_link": true
    },
    "kernelspec": {
      "name": "python3",
      "display_name": "Python 3"
    },
    "language_info": {
      "name": "python"
    }
  },
  "cells": [
    {
      "cell_type": "markdown",
      "metadata": {
        "id": "view-in-github",
        "colab_type": "text"
      },
      "source": [
        "<a href=\"https://colab.research.google.com/github/Sagaust/DH-Computational-Methodologies/blob/main/POS_Tagging_.ipynb\" target=\"_parent\"><img src=\"https://colab.research.google.com/assets/colab-badge.svg\" alt=\"Open In Colab\"/></a>"
      ]
    },
    {
      "cell_type": "markdown",
      "source": [
        "# Part-of-Speech (POS) Tagging\n",
        "\n",
        "---\n",
        "\n",
        "**Definition:**  \n",
        "Part-of-Speech (POS) Tagging is the process of marking each word in a text (corpus) with its corresponding part of speech. This means labeling words as nouns, verbs, adjectives, adverbs, etc. based on both its definition and its context within the sentence.\n",
        "\n",
        "---\n",
        "\n",
        "## 📌 **Why is POS Tagging Important?**\n",
        "\n",
        "1. **Grammar Analysis**: Helps in understanding the grammatical structure of sentences.\n",
        "2. **Context Understanding**: Some words can play multiple roles depending on their usage in sentences. POS tagging provides clarity.\n",
        "3. **Linguistic Analysis**: Essential for researchers studying language patterns.\n",
        "4. **Pre-processing Step**: Often used in NLP pipelines, like in Named Entity Recognition, dependency parsing, and more.\n",
        "\n",
        "---\n",
        "\n",
        "## 🛠 **How Does POS Tagging Work?**\n",
        "\n",
        "While there are rule-based approaches, modern POS tagging primarily uses statistical algorithms and machine learning models. These models are trained on annotated corpora and then used to predict POS tags for unannotated texts.\n",
        "\n",
        "---\n",
        "\n",
        "## 🌐 **Approaches to POS Tagging**:\n",
        "\n",
        "- **Rule-Based Tagging**: Uses hand-written rules. For instance, words ending with \"ing\" might be labeled as verbs.\n",
        "- **Probabilistic Tagging**: Uses models like Hidden Markov Models (HMMs) and considers the probability of a given tag sequence for observed words.\n",
        "- **Machine Learning-Based Tagging**: Uses algorithms like Decision Trees, CRFs, and neural networks trained on annotated corpora.\n",
        "\n",
        "---\n",
        "\n",
        "## 📚 **Applications of POS Tagging**:\n",
        "\n",
        "1. **Text-to-Speech Systems**: Helps in correct pronunciation of words based on their usage.\n",
        "2. **Information Retrieval**: Enhances search results by considering the grammatical role of words.\n",
        "3. **Sentiment Analysis**: Adjectives play a crucial role; POS tagging helps identify them.\n",
        "4. **Machine Translation**: Helps in structuring translated sentences.\n",
        "\n",
        "---\n",
        "\n",
        "## 💡 **Insights from POS Tagging**:\n",
        "\n",
        "1. **Language Patterns**: Different languages have different grammatical structures. POS tagging helps in highlighting these patterns.\n",
        "2. **Ambiguity Resolution**: Words like \"lead\" can be a verb or a noun. POS tagging helps in distinguishing between these usages.\n",
        "3. **Text Complexity**: The distribution of parts of speech can give insights into the complexity or style of a text.\n",
        "\n",
        "---\n",
        "\n",
        "## 🛑 **Challenges with POS Tagging**:\n",
        "\n",
        "1. **Ambiguity**: Many words can be tagged with multiple parts of speech.\n",
        "2. **Out-of-Vocabulary Words**: Handling words that were not present in the training data.\n",
        "3. **Language Variations**: Slang, regional dialects, and evolving language usage can pose challenges.\n",
        "\n",
        "---\n",
        "\n",
        "## 🧪 **POS Tagging in Python**:\n",
        "\n",
        "Python's Natural Language Toolkit (NLTK) provides easy-to-use tools for POS tagging:\n",
        "\n",
        "```python\n",
        "import nltk\n",
        "nltk.download('averaged_perceptron_tagger')\n",
        "\n",
        "text = \"The quick brown fox jumps over the lazy dog.\"\n",
        "tokens = nltk.word_tokenize(text)\n",
        "pos_tags = nltk.pos_tag(tokens)\n",
        "\n",
        "print(pos_tags)\n"
      ],
      "metadata": {
        "id": "MHQy6ZOGmIo3"
      }
    },
    {
      "cell_type": "code",
      "execution_count": null,
      "metadata": {
        "id": "zFUvN3BMmBdp"
      },
      "outputs": [],
      "source": []
    }
  ]
}