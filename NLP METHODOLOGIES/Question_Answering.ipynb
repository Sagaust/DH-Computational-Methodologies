{
  "nbformat": 4,
  "nbformat_minor": 0,
  "metadata": {
    "colab": {
      "provenance": [],
      "authorship_tag": "ABX9TyNp29MzJTHBW5K0lLFyrvlQ",
      "include_colab_link": true
    },
    "kernelspec": {
      "name": "python3",
      "display_name": "Python 3"
    },
    "language_info": {
      "name": "python"
    }
  },
  "cells": [
    {
      "cell_type": "markdown",
      "metadata": {
        "id": "view-in-github",
        "colab_type": "text"
      },
      "source": [
        "<a href=\"https://colab.research.google.com/github/Sagaust/DH-Computational-Methodologies/blob/main/Question_Answering.ipynb\" target=\"_parent\"><img src=\"https://colab.research.google.com/assets/colab-badge.svg\" alt=\"Open In Colab\"/></a>"
      ]
    },
    {
      "cell_type": "markdown",
      "source": [
        "# Question Answering (QA)\n",
        "\n",
        "---\n",
        "\n",
        "**Definition:**  \n",
        "Question Answering is a field within Natural Language Processing (NLP) that focuses on building systems capable of answering questions posed by humans. The questions can be in natural language, and the answers can be extracted from a given text or knowledge base.\n",
        "\n",
        "---\n",
        "\n",
        "## 📌 **Why is Question Answering Important?**\n",
        "\n",
        "1. **Information Retrieval**: Quickly extract precise information from vast amounts of text.\n",
        "2. **User Interaction**: Enhance user interactions with systems, as seen with chatbots and virtual assistants.\n",
        "3. **Knowledge Verification**: Check the understanding or existence of specific information in a text.\n",
        "4. **Research and Education**: Assist in academic research and facilitate learning through interactive Q&A platforms.\n",
        "\n",
        "---\n",
        "\n",
        "## 🛠 **How Does Question Answering Work?**\n",
        "\n",
        "At a high level, a QA system takes a question and a source of information (like a text document) as inputs and returns an answer. The complexity lies in understanding the question and finding the most relevant and accurate answer in the source.\n",
        "\n",
        "---\n",
        "\n",
        "## 🌐 **Approaches to Question Answering**:\n",
        "\n",
        "- **Rule-Based QA**: Uses manually crafted rules and heuristics to find answers. Often relies on keyword matching.\n",
        "- **Retrieval-Based QA**: Searches for the best answer from a predefined set of answers.\n",
        "- **Generative QA**: Uses models to generate answers in natural language, especially effective with open-ended questions.\n",
        "- **Neural QA**: Uses deep learning models, especially transformer-based architectures like BERT, to understand the context and semantics of questions and potential answers.\n",
        "\n",
        "---\n",
        "\n",
        "## 📚 **Applications of Question Answering**:\n",
        "\n",
        "1. **Virtual Assistants**: Siri, Alexa, and Google Assistant employ QA to respond to user queries.\n",
        "2. **Customer Support**: Chatbots use QA to provide instant answers to customer queries.\n",
        "3. **Educational Tools**: Platforms that help students find answers to their academic questions.\n",
        "4. **Research**: Tools like Semantic Scholar use QA to help researchers find relevant information in academic papers.\n",
        "\n",
        "---\n",
        "\n",
        "## 💡 **Insights from Question Answering**:\n",
        "\n",
        "1. **Complexity of Language**: QA showcases the intricacies of human language, such as ambiguity, context dependence, and the need for world knowledge.\n",
        "2. **Contextual Understanding**: Effective QA requires understanding the broader context, not just the immediate content around keywords.\n",
        "3. **Interactivity**: QA systems provide an interactive way to engage with information, making them more user-friendly than traditional search systems.\n",
        "\n",
        "---\n",
        "\n",
        "## 🛑 **Challenges with Question Answering**:\n",
        "\n",
        "1. **Ambiguity**: Some questions can be ambiguous, requiring clarification.\n",
        "2. **Long Contexts**: Finding answers in long documents can be computationally challenging.\n",
        "3. **Answer Veracity**: Ensuring the accuracy and truthfulness of extracted answers.\n",
        "4. **Diverse Question Forms**: The same question can be posed in many different ways.\n",
        "\n",
        "---\n",
        "\n",
        "## 🧪 **Question Answering in Python**:\n",
        "\n",
        "HuggingFace's Transformers library offers state-of-the-art models for question answering tasks:\n",
        "\n",
        "```python\n",
        "from transformers import BertTokenizer, BertForQuestionAnswering\n",
        "\n",
        "# Load pre-trained model and tokenizer\n",
        "model = BertForQuestionAnswering.from_pretrained('bert-large-uncased-whole-word-masking-finetuned-squad')\n",
        "tokenizer = BertTokenizer.from_pretrained('bert-large-uncased-whole-word-masking-finetuned-squad')\n",
        "\n",
        "# Define the question and context\n",
        "question = \"Who wrote the Iliad?\"\n",
        "context = \"The Iliad is an ancient Greek epic poem attributed to Homer.\"\n",
        "\n",
        "# Encode the question and context\n",
        "inputs = tokenizer.encode_plus(question, context, return_tensors=\"pt\")\n",
        "\n",
        "# Get the answer span\n",
        "answer_start_scores, answer_end_scores = model(**inputs)\n",
        "answer_start = answer_start_scores.argmax().item()\n",
        "answer_end = answer_end_scores.argmax().item() + 1\n",
        "\n",
        "# Decode the answer\n",
        "answer = tokenizer.decode(inputs[\"input_ids\"][0][answer_start:answer_end])\n",
        "\n",
        "print(f\"Answer: {answer}\")\n"
      ],
      "metadata": {
        "id": "6FTfABy-lwap"
      }
    },
    {
      "cell_type": "code",
      "execution_count": null,
      "metadata": {
        "id": "ogu1eTGjllsH"
      },
      "outputs": [],
      "source": []
    }
  ]
}