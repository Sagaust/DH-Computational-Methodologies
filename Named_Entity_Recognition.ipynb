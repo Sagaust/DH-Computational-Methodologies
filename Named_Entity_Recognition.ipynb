{
  "nbformat": 4,
  "nbformat_minor": 0,
  "metadata": {
    "colab": {
      "provenance": [],
      "authorship_tag": "ABX9TyOEUuvdAemmoIjBvXrXh7sf",
      "include_colab_link": true
    },
    "kernelspec": {
      "name": "python3",
      "display_name": "Python 3"
    },
    "language_info": {
      "name": "python"
    }
  },
  "cells": [
    {
      "cell_type": "markdown",
      "metadata": {
        "id": "view-in-github",
        "colab_type": "text"
      },
      "source": [
        "<a href=\"https://colab.research.google.com/github/Sagaust/DH-Computational-Methodologies/blob/main/Named_Entity_Recognition.ipynb\" target=\"_parent\"><img src=\"https://colab.research.google.com/assets/colab-badge.svg\" alt=\"Open In Colab\"/></a>"
      ]
    },
    {
      "cell_type": "markdown",
      "source": [
        "# Named Entity Recognition (NER)\n",
        "\n",
        "---\n",
        "\n",
        "**Definition:**  \n",
        "Named Entity Recognition (NER) is a subtask of information extraction that classifies named entities into predefined categories such as names of persons, organizations, locations, expressions of times, quantities, monetary values, percentages, and more.\n",
        "\n",
        "---\n",
        "\n",
        "## 📌 **Why is NER important?**\n",
        "\n",
        "1. **Information Retrieval**: Enhance search algorithms by focusing on main entities.\n",
        "2. **Content Recommendation**: Recommend articles or news items that mention specific entities.\n",
        "3. **Data Organization**: Organize content by categorizing based on entities for better content management.\n",
        "4. **Research & Analysis**: Analyze texts to extract key information points swiftly.\n",
        "\n",
        "---\n",
        "\n",
        "## 🛠 **How Does NER Work?**\n",
        "\n",
        "NER typically involves two main steps:\n",
        "1. **Entity Identification**: Recognize words or sequences of words that correspond to proper nouns.\n",
        "2. **Entity Classification**: Categorize the identified entities into predefined categories.\n",
        "\n",
        "---\n",
        "\n",
        "## 🌐 **Common Entity Categories**:\n",
        "\n",
        "- **Persons**: Names of individuals.\n",
        "- **Organizations**: Names of companies, institutions, etc.\n",
        "- **Locations**: Names of countries, cities, landmarks, etc.\n",
        "- **Dates**: Days, months, years, etc.\n",
        "- **Time**: Hours, minutes, etc.\n",
        "- **Monetary Values**: Money values along with currency types.\n",
        "- **Percentages**: Recognition of percentage values.\n",
        "\n",
        "And many more depending on the specificity of the task.\n",
        "\n",
        "---\n",
        "\n",
        "## 📚 **Applications of NER**:\n",
        "\n",
        "1. **News & Media**: Tagging articles with relevant entities for better content discoverability.\n",
        "2. **Research**: Swift extraction of key information points from large texts.\n",
        "3. **Chatbots & Virtual Assistants**: Understand specific entities users refer to.\n",
        "4. **Content Filtering**: Identify and possibly filter out content based on certain entities.\n",
        "\n",
        "---\n",
        "\n",
        "## 💡 **Insights from NER**:\n",
        "\n",
        "By identifying and categorizing named entities in texts, NER can provide insights into:\n",
        "- **Main Subjects**: Understand key focuses of the text.\n",
        "- **Contexts**: Grasp the contexts in which the text operates.\n",
        "- **Temporal Aspects**: Understand time-based contexts if dates and times are frequently mentioned.\n",
        "- **Geographical Aspects**: If locations are frequently mentioned, get insights into the geographical contexts of the text.\n",
        "\n",
        "---\n",
        "\n",
        "## 🛑 **Challenges in NER**:\n",
        "\n",
        "1. **Ambiguity**: Words with multiple meanings based on context (e.g., \"Apple\" as a fruit or the company).\n",
        "2. **Variability**: Different ways to express the same entity (e.g., \"USA\", \"U.S.A.\", \"United States\").\n",
        "3. **New Entities**: New or lesser-known entities that may not be in the training data.\n",
        "\n",
        "---\n",
        "\n",
        "## 🧪 **NER in spaCy**:\n",
        "\n",
        "[spaCy](https://spacy.io/), a popular NLP library, provides out-of-the-box support for NER. Here's a simple example:\n",
        "\n",
        "```python\n",
        "import spacy\n",
        "nlp = spacy.load('en_core_web_sm')\n",
        "doc = nlp(\"Apple Inc. is planning to open a new store in San Francisco by 2023.\")\n",
        "for ent in doc.ents:\n",
        "    print(ent.text, ent.label_)\n"
      ],
      "metadata": {
        "id": "UEAcLb6kdnaM"
      }
    },
    {
      "cell_type": "code",
      "source": [],
      "metadata": {
        "id": "9hXFiqjkdqR0"
      },
      "execution_count": null,
      "outputs": []
    }
  ]
}