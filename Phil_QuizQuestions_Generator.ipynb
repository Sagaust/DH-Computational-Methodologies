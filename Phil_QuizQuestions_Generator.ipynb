{
  "nbformat": 4,
  "nbformat_minor": 0,
  "metadata": {
    "colab": {
      "private_outputs": true,
      "provenance": [],
      "authorship_tag": "ABX9TyNqRzdXWmAW1Ra1a8WhwNhd",
      "include_colab_link": true
    },
    "kernelspec": {
      "name": "python3",
      "display_name": "Python 3"
    },
    "language_info": {
      "name": "python"
    }
  },
  "cells": [
    {
      "cell_type": "markdown",
      "metadata": {
        "id": "view-in-github",
        "colab_type": "text"
      },
      "source": [
        "<a href=\"https://colab.research.google.com/github/Sagaust/DH-Computational-Methodologies/blob/main/Phil_QuizQuestions_Generator.ipynb\" target=\"_parent\"><img src=\"https://colab.research.google.com/assets/colab-badge.svg\" alt=\"Open In Colab\"/></a>"
      ]
    },
    {
      "cell_type": "code",
      "execution_count": null,
      "metadata": {
        "id": "z1OtGeYvRuLx"
      },
      "outputs": [],
      "source": [
        "questions = [\n",
        "    [\"What is the Gettier problem primarily concerned with?\", \"Demonstrating the existence of innate knowledge\", \"Challenging the definition of knowledge as justified true belief\", \"Establishing the limits of empirical evidence\", \"Arguing against the possibility of skepticism\", \"B\"],\n",
        "    [\"In the context of epistemology, what is 'foundationalism' best described as?\", \"A theory that all knowledge is ultimately based on self-evident truths\", \"The view that knowledge can only be justified by inference from other knowledge\", \"The belief that all knowledge is derived from experience\", \"The idea that knowledge is primarily linguistic in nature\", \"A\"],\n",
        "    [\"What does 'coherentism' in epistemology argue?\", \"Knowledge is justified if it fits within a coherent system of beliefs\", \"Truth is fundamentally subjective and varies from person to person\", \"Sensory experience is the sole source of knowledge\", \"Knowledge is justified solely through empirical evidence\", \"A\"],\n",
        "    [\"Which philosopher is most closely associated with the development of 'pragmatism'?\", \"Immanuel Kant\", \"John Dewey\", \"René Descartes\", \"Ludwig Wittgenstein\", \"B\"],\n",
        "    [\"The 'Münchhausen Trilemma' challenges the notion of:\", \"The impossibility of total knowledge\", \"The problem of induction\", \"The justification of knowledge claims\", \"The reliability of sensory perception\", \"C\"],\n",
        "    [\"What is 'contextualism' in epistemology primarily concerned with?\", \"The role of social context in knowledge acquisition\", \"How the context of inquiry affects the truth-value of statements\", \"The historical development of epistemic concepts\", \"The linguistic analysis of knowledge claims\", \"B\"],\n",
        "    [\"'Reliabilism' proposes that the justification of a belief depends on:\", \"The internal coherence of the belief system\", \"The reliability of the process that produced it\", \"The belief's correspondence to an external reality\", \"The degree of certainty associated with the belief\", \"B\"],\n",
        "    [\"In 'virtue epistemology', what is considered central to acquiring knowledge?\", \"The reliability of the senses\", \"The intellectual virtues of the knower\", \"The empirical evidence supporting the belief\", \"The logical consistency of the belief system\", \"B\"],\n",
        "    [\"What challenge does the 'brain in a vat' scenario pose for epistemology?\", \"The reliability of empirical evidence\", \"The possibility of distinguishing reality from illusion\", \"The justification of moral beliefs\", \"The role of language in knowledge\", \"B\"],\n",
        "    [\"Which of the following best describes 'externalism' in epistemology?\", \"Knowledge justification lies outside the individual's mental states\", \"Knowledge is exclusively derived from external sources\", \"The mind is the sole source of knowledge\", \"Knowledge depends entirely on linguistic conventions\", \"A\"],\n",
        "    [\"'Empiricism' asserts that knowledge is derived from:\", \"Innate ideas\", \"Sensory experience\", \"Logical deduction\", \"Conceptual analysis\", \"B\"],\n",
        "    [\"The 'No Miracles Argument' is primarily used in support of:\", \"Scientific realism\", \"Skepticism\", \"Idealism\", \"Rationalism\", \"A\"],\n",
        "    [\"What does 'epistemic injustice' refer to?\", \"The injustice of unequal access to education\", \"Wronging someone specifically in their capacity as a knower\", \"The inherent biases in the scientific method\", \"The exclusion of certain groups from philosophical discourse\", \"B\"],\n",
        "    [\"'Rationalism' is the view that:\", \"Knowledge is primarily derived from reason and innate ideas\", \"Sensory experience is the ultimate source of all knowledge\", \"Language plays a central role in knowledge\", \"All knowledge is justified true belief\", \"A\"],\n",
        "    [\"What is 'epistemic relativism'?\", \"The view that knowledge is relative to each culture or society\", \"The belief that some knowledge is innate\", \"The theory that knowledge can only be understood through empirical methods\", \"The stance that knowledge is primarily linguistic\", \"A\"],\n",
        "    [\"The 'problem of induction' was prominently discussed by which philosopher?\", \"David Hume\", \"John Locke\", \"Bertrand Russell\", \"Socrates\", \"A\"],\n",
        "    [\"'Internalism' in epistemology holds that:\", \"Justification of a belief must be accessible to the believer's consciousness\", \"Knowledge depends on factors external to the believer's mental states\", \"All knowledge is ultimately derived from sensory experience\", \"Beliefs are justified only if they cohere with other beliefs\", \"A\"],\n",
        "    [\"What role does 'skepticism' play in epistemology?\", \"It serves as a method to definitively prove knowledge claims\", \"It questions the possibility of having any certain knowledge\", \"It argues for the primacy of empirical evidence in knowledge acquisition\", \"It emphasizes the importance of innate ideas in knowledge\", \"B\"],\n",
        "    [\"How does 'fallibilism' contrast with absolute certainty in knowledge claims?\", \"By asserting that knowledge is always certain\", \"By suggesting that all beliefs are equally valid\", \"By recognizing that knowledge can be true even if not absolutely certain\", \"By denying the possibility of having any knowledge at all\", \"C\"],\n",
        "    [\"Which concept is central to 'Bayesian epistemology'?\", \"The analysis of language in knowledge\", \"The role of experience in forming knowledge\", \"The use of probability to assess the strength of beliefs\", \"The rejection of empirical evidence in knowledge formation\", \"C\"]\n",
        "]\n"
      ]
    },
    {
      "cell_type": "code",
      "source": [
        "import pandas as pd\n",
        "from google.colab import files\n",
        "\n",
        "def questions_to_csv(questions):\n",
        "    # Convert the questions list to a pandas DataFrame\n",
        "    columns = [\"Questions\", \"Option A\", \"Option B\", \"Option C\", \"Option D\", \"Correct Option\"]\n",
        "    df = pd.DataFrame(questions, columns=columns)\n",
        "    df.insert(0, \"Question No\", range(1, len(df) + 1))\n",
        "\n",
        "    # Save the DataFrame to a CSV file\n",
        "    csv_filename = \"epistemology_questions.csv\"\n",
        "    df.to_csv(csv_filename, index=False)\n",
        "\n",
        "    # Download the file to the default directory\n",
        "    files.download(csv_filename)\n",
        "\n",
        "# Example usage with the 'questions' array\n",
        "new_questions = [\n",
        "    [\"Empiricism vs. Rationalism: Which statement aligns with an empiricist viewpoint?\",\n",
        "     \"The senses are our primary source of knowledge.\",\n",
        "     \"The mind possesses innate concepts.\",\n",
        "     \"Knowledge is justified solely through coherence with other beliefs.\",\n",
        "     \"Metaphysical knowledge is impossible to attain.\",\n",
        "     \"A\"],\n",
        "\n",
        "    [\"The Role of Perception: How does perception raise challenges in epistemology?\",\n",
        "     \"Perceptions can be unreliable or subject to illusion.\",\n",
        "     \"Perception is always direct and does not require interpretation.\",\n",
        "     \"All knowledge ultimately derives from perceptual experiences.\",\n",
        "     \"Perceptions are infallible representations of reality.\",\n",
        "     \"A\"],\n",
        "\n",
        "    [\"Synthetic vs. Analytic Propositions: Which of the following is an example of a synthetic proposition?\",\n",
        "     \"All bachelors are unmarried.\",\n",
        "     \"Triangles have three sides.\",\n",
        "     \"2 + 2 = 4\",\n",
        "     \"All swans are white.\",\n",
        "     \"D\"],\n",
        "\n",
        "    [\"A Priori vs. A Posteriori Knowledge: The statement 'All squares have four sides' is considered:\",\n",
        "     \"A priori knowledge\",\n",
        "     \"A posteriori knowledge\",\n",
        "     \"Neither a priori nor a posteriori\",\n",
        "     \"Dependent on sense experience\",\n",
        "     \"A\"],\n",
        "\n",
        "    [\"Pragmatism: A pragmatist philosopher is likely to emphasize which aspect of knowledge?\",\n",
        "     \"Its correspondence with an objective reality\",\n",
        "     \"Its usefulness in achieving practical goals\",\n",
        "     \"Its foundation on self-evident truths\",\n",
        "     \"Its coherence with other beliefs\",\n",
        "     \"B\"],\n",
        "\n",
        "    [\"The Problem of Other Minds: Which epistemological issue does the problem of other minds grapple with?\",\n",
        "     \"The difficulty of justifying beliefs about the mental states of others.\",\n",
        "     \"The possibility that we are all living in a simulated reality.\",\n",
        "     \"The limits of our ability to know the future.\",\n",
        "     \"The fundamental nature of free will.\",\n",
        "     \"A\"],\n",
        "\n",
        "    [\"Knowledge and Power: How have some feminist epistemologists critiqued traditional views of knowledge?\",\n",
        "     \"They argue it reinforces existing power structures and marginalizes certain perspectives.\",\n",
        "     \"They claim it is too focused on abstract concepts and not relevant to lived experiences.\",\n",
        "     \"They suggest it should rely more heavily on faith-based reasoning.\",\n",
        "     \"They promote the idea that certainty in knowledge is essential.\",\n",
        "     \"A\"],\n",
        "\n",
        "    [\"Social Epistemology: Which question would likely be most interesting to a social epistemologist?\",\n",
        "     \"How does testimony from others contribute to our knowledge?\",\n",
        "     \"What are the logical structures of justification?\",\n",
        "     \"Are basic beliefs always self-evident?\",\n",
        "     \"Are the senses a reliable source of evidence?\",\n",
        "     \"A\"],\n",
        "\n",
        "    [\"Naturalized Epistemology: A naturalized epistemology approach would likely view knowledge as:\",\n",
        "     \"A product of cognitive processes that can be studied scientifically.\",\n",
        "     \"Soley derived from divine revelation.\",\n",
        "     \"Unchanging and eternally true.\",\n",
        "     \"Inaccessible to empirical investigation.\",\n",
        "     \"A\"],\n",
        "\n",
        "    [\"The Value of Knowledge: Aside from its truth, what other quality might make knowledge valuable?\",\n",
        "     \"Its potential to solve practical problems.\",\n",
        "     \"Its ability to bring about social change.\",\n",
        "     \"Its role in personal growth and understanding.\",\n",
        "     \"All of the above.\",\n",
        "     \"D\"]\n",
        "]\n",
        "\n",
        "\n",
        "\n",
        "\n",
        "# Call the function\n",
        "# questions_to_csv(questions)\n",
        "\n"
      ],
      "metadata": {
        "id": "i8Pd6xVzigO0"
      },
      "execution_count": null,
      "outputs": []
    },
    {
      "cell_type": "code",
      "source": [
        "questions_to_csv(new_questions)"
      ],
      "metadata": {
        "id": "fDzqzD76jFKE"
      },
      "execution_count": null,
      "outputs": []
    }
  ]
}