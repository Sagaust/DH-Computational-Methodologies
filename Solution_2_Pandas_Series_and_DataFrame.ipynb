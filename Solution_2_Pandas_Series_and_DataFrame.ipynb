{
  "cells": [
    {
      "cell_type": "markdown",
      "metadata": {
        "id": "view-in-github",
        "colab_type": "text"
      },
      "source": [
        "<a href=\"https://colab.research.google.com/github/Sagaust/DH-Computational-Methodologies/blob/main/Solution_2_Pandas_Series_and_DataFrame.ipynb\" target=\"_parent\"><img src=\"https://colab.research.google.com/assets/colab-badge.svg\" alt=\"Open In Colab\"/></a>"
      ]
    },
    {
      "cell_type": "markdown",
      "metadata": {
        "id": "q-aqh9QcCTLZ"
      },
      "source": [
        "### <b> Course: Machine Learning for Absolute Beginners - Level 2\n",
        "#### By: Idan Gabrieli\n",
        "####  Exercise #2 – Pandas Series and DataFrame\n",
        "*****************************"
      ]
    },
    {
      "cell_type": "markdown",
      "metadata": {
        "id": "tC9bOYDGCTLd"
      },
      "source": [
        "### Step 1 - Series Data Structure (1D)"
      ]
    },
    {
      "cell_type": "markdown",
      "metadata": {
        "id": "5kng0smyCTLf"
      },
      "source": [
        "Create a series data structure called s1 with the following values [10,20,30,40,50,60] and then print it."
      ]
    },
    {
      "cell_type": "code",
      "execution_count": 1,
      "metadata": {
        "colab": {
          "base_uri": "https://localhost:8080/"
        },
        "id": "ONiOVsz2CTLg",
        "outputId": "cb23694f-ed17-4ef0-f1ef-a9733b2ecf66"
      },
      "outputs": [
        {
          "output_type": "execute_result",
          "data": {
            "text/plain": [
              "0    10\n",
              "1    20\n",
              "2    30\n",
              "3    40\n",
              "4    50\n",
              "5    60\n",
              "dtype: int64"
            ]
          },
          "metadata": {},
          "execution_count": 1
        }
      ],
      "source": [
        "import pandas as pd\n",
        "s1 = pd.Series([10,20,30,40,50,60])\n",
        "s1"
      ]
    },
    {
      "cell_type": "markdown",
      "metadata": {
        "id": "Q1rxK6GmCTLj"
      },
      "source": [
        "Print the left column which is the index."
      ]
    },
    {
      "cell_type": "code",
      "execution_count": 2,
      "metadata": {
        "colab": {
          "base_uri": "https://localhost:8080/"
        },
        "id": "9ILyPwJRCTLj",
        "outputId": "98e692cc-4aa2-4afb-fb18-141db6428456"
      },
      "outputs": [
        {
          "output_type": "execute_result",
          "data": {
            "text/plain": [
              "RangeIndex(start=0, stop=6, step=1)"
            ]
          },
          "metadata": {},
          "execution_count": 2
        }
      ],
      "source": [
        "s1.index"
      ]
    },
    {
      "cell_type": "markdown",
      "metadata": {
        "id": "d8mJOa62CTLk"
      },
      "source": [
        "Print the type of the second column which is the actual data."
      ]
    },
    {
      "cell_type": "code",
      "execution_count": null,
      "metadata": {
        "id": "seeaJOBHCTLk",
        "outputId": "76560a2a-0372-4093-e55e-2c8403b87bea"
      },
      "outputs": [
        {
          "data": {
            "text/plain": [
              "dtype('int64')"
            ]
          },
          "execution_count": 34,
          "metadata": {},
          "output_type": "execute_result"
        }
      ],
      "source": [
        "s1.dtype"
      ]
    },
    {
      "cell_type": "markdown",
      "metadata": {
        "id": "8xq1pylfCTLk"
      },
      "source": [
        "Print the values in index location 3."
      ]
    },
    {
      "cell_type": "code",
      "execution_count": null,
      "metadata": {
        "id": "z2buMeWqCTLl",
        "outputId": "6cd33942-aea4-4ac1-c4a7-a3e29c631995"
      },
      "outputs": [
        {
          "data": {
            "text/plain": [
              "40"
            ]
          },
          "execution_count": 35,
          "metadata": {},
          "output_type": "execute_result"
        }
      ],
      "source": [
        "s1[3]"
      ]
    },
    {
      "cell_type": "markdown",
      "metadata": {
        "id": "m2GhrVOBCTLl"
      },
      "source": [
        "Create a series data structure called s2 with the following values [10,20,30,40,50,60] and with index ['a', 'b', 'c', 'd', 'e', 'f'] then print it."
      ]
    },
    {
      "cell_type": "code",
      "execution_count": null,
      "metadata": {
        "id": "Zgaf761gCTLm",
        "outputId": "740b93ee-49cb-48a2-f1a4-e4be55d9e85e"
      },
      "outputs": [
        {
          "data": {
            "text/plain": [
              "a    10\n",
              "b    20\n",
              "c    30\n",
              "d    40\n",
              "e    50\n",
              "f    60\n",
              "dtype: int64"
            ]
          },
          "execution_count": 36,
          "metadata": {},
          "output_type": "execute_result"
        }
      ],
      "source": [
        "s2 = pd.Series([10,20,30,40,50,60], index=['a','b','c','d','e','f'])\n",
        "s2"
      ]
    },
    {
      "cell_type": "markdown",
      "metadata": {
        "id": "p1qiZOfvCTLm"
      },
      "source": [
        "Print the value in row with the index label 'e'."
      ]
    },
    {
      "cell_type": "code",
      "execution_count": null,
      "metadata": {
        "id": "AtzuILEWCTLn",
        "outputId": "8a070557-4e60-469f-e8bd-34a2094917bb"
      },
      "outputs": [
        {
          "data": {
            "text/plain": [
              "50"
            ]
          },
          "execution_count": 37,
          "metadata": {},
          "output_type": "execute_result"
        }
      ],
      "source": [
        "s2['e']"
      ]
    },
    {
      "cell_type": "markdown",
      "metadata": {
        "id": "Ca1FdawZCTLn"
      },
      "source": [
        "Change the value of row with the index label 'e' into 51."
      ]
    },
    {
      "cell_type": "code",
      "execution_count": null,
      "metadata": {
        "id": "hKYgq1OvCTLo"
      },
      "outputs": [],
      "source": [
        "s2['e']=51"
      ]
    },
    {
      "cell_type": "markdown",
      "metadata": {
        "id": "_39wbpZ0CTLo"
      },
      "source": [
        "Print all rows between labels 'b' and 'e' using the slice notation."
      ]
    },
    {
      "cell_type": "code",
      "execution_count": null,
      "metadata": {
        "id": "efrUgts0CTLo",
        "outputId": "ebf9aa40-9d7a-4db0-862c-33d2c6bf83e7"
      },
      "outputs": [
        {
          "data": {
            "text/plain": [
              "b    20\n",
              "c    30\n",
              "d    40\n",
              "e    51\n",
              "dtype: int64"
            ]
          },
          "execution_count": 39,
          "metadata": {},
          "output_type": "execute_result"
        }
      ],
      "source": [
        "s2['b':'e']"
      ]
    },
    {
      "cell_type": "markdown",
      "metadata": {
        "id": "E2a5FAslCTLp"
      },
      "source": [
        "Print all rows between labels 'b' until the end using the slice notation."
      ]
    },
    {
      "cell_type": "code",
      "execution_count": null,
      "metadata": {
        "id": "2jObFMaeCTLp",
        "outputId": "5f468907-f85e-46ba-e089-305e6c5213ff"
      },
      "outputs": [
        {
          "data": {
            "text/plain": [
              "b    20\n",
              "c    30\n",
              "d    40\n",
              "e    51\n",
              "f    60\n",
              "dtype: int64"
            ]
          },
          "execution_count": 40,
          "metadata": {},
          "output_type": "execute_result"
        }
      ],
      "source": [
        "s2['b':]"
      ]
    },
    {
      "cell_type": "markdown",
      "metadata": {
        "id": "-uq_DGyoCTLq"
      },
      "source": [
        "Add the number 3 to all rows in s2 without using a for-loop."
      ]
    },
    {
      "cell_type": "code",
      "execution_count": null,
      "metadata": {
        "id": "Swv_LuiZCTLq",
        "outputId": "c0cfca02-2974-4f19-fb37-301a534f213c"
      },
      "outputs": [
        {
          "data": {
            "text/plain": [
              "a    13\n",
              "b    23\n",
              "c    33\n",
              "d    43\n",
              "e    54\n",
              "f    63\n",
              "dtype: int64"
            ]
          },
          "execution_count": 41,
          "metadata": {},
          "output_type": "execute_result"
        }
      ],
      "source": [
        "s2 = s2 + 3\n",
        "s2"
      ]
    },
    {
      "cell_type": "markdown",
      "metadata": {
        "id": "XBOZ7uLaCTLr"
      },
      "source": [
        "Check if the value 54 is in s2 without using a for-loop."
      ]
    },
    {
      "cell_type": "code",
      "execution_count": null,
      "metadata": {
        "id": "IQmXJlZfCTLr",
        "outputId": "2a14fedb-2223-4f5c-ea25-aaf41ac5540b"
      },
      "outputs": [
        {
          "data": {
            "text/plain": [
              "True"
            ]
          },
          "execution_count": 42,
          "metadata": {},
          "output_type": "execute_result"
        }
      ],
      "source": [
        "54 in s2.values"
      ]
    },
    {
      "cell_type": "markdown",
      "metadata": {
        "id": "s-oQXSaVCTLr"
      },
      "source": [
        "Check which values in s2 are greater than 30."
      ]
    },
    {
      "cell_type": "code",
      "execution_count": null,
      "metadata": {
        "id": "UWjcYaW3CTLs",
        "outputId": "7a092b3b-a1d7-4661-8900-7e2bf23f139b"
      },
      "outputs": [
        {
          "data": {
            "text/plain": [
              "a    False\n",
              "b    False\n",
              "c     True\n",
              "d     True\n",
              "e     True\n",
              "f     True\n",
              "dtype: bool"
            ]
          },
          "execution_count": 44,
          "metadata": {},
          "output_type": "execute_result"
        }
      ],
      "source": [
        "s2 > 30"
      ]
    },
    {
      "cell_type": "markdown",
      "metadata": {
        "id": "WmNRtexmCTLs"
      },
      "source": [
        "Print the values in s2 that are greater than 30."
      ]
    },
    {
      "cell_type": "code",
      "execution_count": null,
      "metadata": {
        "id": "74xmsiEECTLs",
        "outputId": "5687c389-d06d-42bb-a9c8-99ecaf230a98"
      },
      "outputs": [
        {
          "data": {
            "text/plain": [
              "c    33\n",
              "d    43\n",
              "e    54\n",
              "f    63\n",
              "dtype: int64"
            ]
          },
          "execution_count": 46,
          "metadata": {},
          "output_type": "execute_result"
        }
      ],
      "source": [
        "s2[s2>30]"
      ]
    },
    {
      "cell_type": "markdown",
      "metadata": {
        "id": "AoGvt7nCCTLt"
      },
      "source": [
        "print all values in s2 that are greater than the mean value."
      ]
    },
    {
      "cell_type": "code",
      "execution_count": null,
      "metadata": {
        "id": "gVlOCirCCTLt",
        "outputId": "4b4c91a5-3d71-45a8-be9f-b2010b97c7a9"
      },
      "outputs": [
        {
          "data": {
            "text/plain": [
              "d    43\n",
              "e    54\n",
              "f    63\n",
              "dtype: int64"
            ]
          },
          "execution_count": 47,
          "metadata": {},
          "output_type": "execute_result"
        }
      ],
      "source": [
        "s2[s2>s2.mean()]"
      ]
    },
    {
      "cell_type": "markdown",
      "metadata": {
        "id": "ISpcLY0_CTLt"
      },
      "source": [
        "### Step 2 - DataFrame Data Structure (2D)"
      ]
    },
    {
      "cell_type": "markdown",
      "metadata": {
        "id": "KCRFVfDICTLt"
      },
      "source": [
        "Create a dictionary called dic1 with the following data: {'Name':[ 'David', 'John', 'Marta', 'Dianna'], 'Age':[41,19,33,24],'Weight':[85,76,67,56]} and then create create a dataframe called df from dic1. Print df dataframe."
      ]
    },
    {
      "cell_type": "code",
      "execution_count": null,
      "metadata": {
        "id": "pSgU90tPCTLu",
        "outputId": "b832dde3-f724-4954-d9f1-b2d6f5f44826"
      },
      "outputs": [
        {
          "data": {
            "text/html": [
              "<div>\n",
              "<style scoped>\n",
              "    .dataframe tbody tr th:only-of-type {\n",
              "        vertical-align: middle;\n",
              "    }\n",
              "\n",
              "    .dataframe tbody tr th {\n",
              "        vertical-align: top;\n",
              "    }\n",
              "\n",
              "    .dataframe thead th {\n",
              "        text-align: right;\n",
              "    }\n",
              "</style>\n",
              "<table border=\"1\" class=\"dataframe\">\n",
              "  <thead>\n",
              "    <tr style=\"text-align: right;\">\n",
              "      <th></th>\n",
              "      <th>Name</th>\n",
              "      <th>Age</th>\n",
              "      <th>Weight</th>\n",
              "    </tr>\n",
              "  </thead>\n",
              "  <tbody>\n",
              "    <tr>\n",
              "      <th>0</th>\n",
              "      <td>David</td>\n",
              "      <td>41</td>\n",
              "      <td>85</td>\n",
              "    </tr>\n",
              "    <tr>\n",
              "      <th>1</th>\n",
              "      <td>John</td>\n",
              "      <td>19</td>\n",
              "      <td>76</td>\n",
              "    </tr>\n",
              "    <tr>\n",
              "      <th>2</th>\n",
              "      <td>Marta</td>\n",
              "      <td>33</td>\n",
              "      <td>67</td>\n",
              "    </tr>\n",
              "    <tr>\n",
              "      <th>3</th>\n",
              "      <td>Dianna</td>\n",
              "      <td>24</td>\n",
              "      <td>56</td>\n",
              "    </tr>\n",
              "  </tbody>\n",
              "</table>\n",
              "</div>"
            ],
            "text/plain": [
              "     Name  Age  Weight\n",
              "0   David   41      85\n",
              "1    John   19      76\n",
              "2   Marta   33      67\n",
              "3  Dianna   24      56"
            ]
          },
          "execution_count": 48,
          "metadata": {},
          "output_type": "execute_result"
        }
      ],
      "source": [
        "import pandas as pd\n",
        "dic1 = {'Name':[ 'David', 'John', 'Marta', 'Dianna'], 'Age':[41,19,33,24],'Weight':[85,76,67,56]}\n",
        "df = pd.DataFrame(dic1)\n",
        "df"
      ]
    },
    {
      "cell_type": "markdown",
      "metadata": {
        "id": "emxyTOpwCTLu"
      },
      "source": [
        "Print the rows index attribute of df dataframe."
      ]
    },
    {
      "cell_type": "code",
      "execution_count": null,
      "metadata": {
        "id": "BPSMwP80CTLv",
        "outputId": "53e078d0-4d6b-411e-84f8-7833dc2b465f"
      },
      "outputs": [
        {
          "name": "stdout",
          "output_type": "stream",
          "text": [
            "RangeIndex(start=0, stop=4, step=1)\n"
          ]
        }
      ],
      "source": [
        "print(df.index)"
      ]
    },
    {
      "cell_type": "markdown",
      "metadata": {
        "id": "qeE5CRYQCTLv"
      },
      "source": [
        "Print the columns attribute of df dataframe."
      ]
    },
    {
      "cell_type": "code",
      "execution_count": null,
      "metadata": {
        "id": "MEHup08pCTLw",
        "outputId": "fae87c47-34a0-4f93-9087-042326d0a1cc"
      },
      "outputs": [
        {
          "name": "stdout",
          "output_type": "stream",
          "text": [
            "Index(['Name', 'Age', 'Weight'], dtype='object')\n"
          ]
        }
      ],
      "source": [
        "print(df.columns)"
      ]
    },
    {
      "cell_type": "markdown",
      "metadata": {
        "id": "nFDzKOw7CTLw"
      },
      "source": [
        "Print the values attribute of df dataframe."
      ]
    },
    {
      "cell_type": "code",
      "execution_count": null,
      "metadata": {
        "id": "UuhCcPZzCTLw",
        "outputId": "e50e975c-7205-4f64-f9d9-c9cf35ef778d"
      },
      "outputs": [
        {
          "name": "stdout",
          "output_type": "stream",
          "text": [
            "[['David' 41 85]\n",
            " ['John' 19 76]\n",
            " ['Marta' 33 67]\n",
            " ['Dianna' 24 56]]\n"
          ]
        }
      ],
      "source": [
        "print(df.values)"
      ]
    },
    {
      "cell_type": "markdown",
      "metadata": {
        "id": "qIQzr72OCTMC"
      },
      "source": [
        "Bonus step - can you change the rows index attribute to the following labels: 'R1', 'R2', 'R3', 'R4' and print the df dataframe? (tip - create a list with those new labels and then copy the list into the relevant dataframe attribute)."
      ]
    },
    {
      "cell_type": "code",
      "execution_count": null,
      "metadata": {
        "id": "CR2OmBA4CTMD",
        "outputId": "8dc9ce2b-2359-43fa-cd59-467a923e7f72"
      },
      "outputs": [
        {
          "data": {
            "text/html": [
              "<div>\n",
              "<style scoped>\n",
              "    .dataframe tbody tr th:only-of-type {\n",
              "        vertical-align: middle;\n",
              "    }\n",
              "\n",
              "    .dataframe tbody tr th {\n",
              "        vertical-align: top;\n",
              "    }\n",
              "\n",
              "    .dataframe thead th {\n",
              "        text-align: right;\n",
              "    }\n",
              "</style>\n",
              "<table border=\"1\" class=\"dataframe\">\n",
              "  <thead>\n",
              "    <tr style=\"text-align: right;\">\n",
              "      <th></th>\n",
              "      <th>Name</th>\n",
              "      <th>Age</th>\n",
              "      <th>Weight</th>\n",
              "    </tr>\n",
              "  </thead>\n",
              "  <tbody>\n",
              "    <tr>\n",
              "      <th>R1</th>\n",
              "      <td>David</td>\n",
              "      <td>41</td>\n",
              "      <td>85</td>\n",
              "    </tr>\n",
              "    <tr>\n",
              "      <th>R2</th>\n",
              "      <td>John</td>\n",
              "      <td>19</td>\n",
              "      <td>76</td>\n",
              "    </tr>\n",
              "    <tr>\n",
              "      <th>R3</th>\n",
              "      <td>Marta</td>\n",
              "      <td>33</td>\n",
              "      <td>67</td>\n",
              "    </tr>\n",
              "    <tr>\n",
              "      <th>R4</th>\n",
              "      <td>Dianna</td>\n",
              "      <td>24</td>\n",
              "      <td>56</td>\n",
              "    </tr>\n",
              "  </tbody>\n",
              "</table>\n",
              "</div>"
            ],
            "text/plain": [
              "      Name  Age  Weight\n",
              "R1   David   41      85\n",
              "R2    John   19      76\n",
              "R3   Marta   33      67\n",
              "R4  Dianna   24      56"
            ]
          },
          "execution_count": 58,
          "metadata": {},
          "output_type": "execute_result"
        }
      ],
      "source": [
        "new_label=['R1', 'R2', 'R3', 'R4']\n",
        "df.index=new_label[:]\n",
        "df"
      ]
    },
    {
      "cell_type": "markdown",
      "metadata": {
        "id": "HOjueJomCTMD"
      },
      "source": [
        "### Step 3 - Data Selection in a DataFrame"
      ]
    },
    {
      "cell_type": "markdown",
      "metadata": {
        "id": "q-3wkJYsCTME"
      },
      "source": [
        "Create a dictionary called dic1 with the following data: {'Name':[ 'David', 'John', 'Marta', 'Dianna'], 'Age':[41,19,33,24],'Weight':[85,76,67,56]} and then create create a dataframe called df from dic1 with the following rows index ['a','b','c','d']. Print the dataframe."
      ]
    },
    {
      "cell_type": "code",
      "execution_count": null,
      "metadata": {
        "id": "YaLJ6pWCCTME",
        "outputId": "565c2fdf-bb15-4927-9e3e-be74ebf50ac6"
      },
      "outputs": [
        {
          "data": {
            "text/html": [
              "<div>\n",
              "<style scoped>\n",
              "    .dataframe tbody tr th:only-of-type {\n",
              "        vertical-align: middle;\n",
              "    }\n",
              "\n",
              "    .dataframe tbody tr th {\n",
              "        vertical-align: top;\n",
              "    }\n",
              "\n",
              "    .dataframe thead th {\n",
              "        text-align: right;\n",
              "    }\n",
              "</style>\n",
              "<table border=\"1\" class=\"dataframe\">\n",
              "  <thead>\n",
              "    <tr style=\"text-align: right;\">\n",
              "      <th></th>\n",
              "      <th>Name</th>\n",
              "      <th>Age</th>\n",
              "      <th>Weight</th>\n",
              "    </tr>\n",
              "  </thead>\n",
              "  <tbody>\n",
              "    <tr>\n",
              "      <th>a</th>\n",
              "      <td>David</td>\n",
              "      <td>41</td>\n",
              "      <td>85</td>\n",
              "    </tr>\n",
              "    <tr>\n",
              "      <th>b</th>\n",
              "      <td>John</td>\n",
              "      <td>19</td>\n",
              "      <td>76</td>\n",
              "    </tr>\n",
              "    <tr>\n",
              "      <th>c</th>\n",
              "      <td>Marta</td>\n",
              "      <td>33</td>\n",
              "      <td>67</td>\n",
              "    </tr>\n",
              "    <tr>\n",
              "      <th>d</th>\n",
              "      <td>Dianna</td>\n",
              "      <td>24</td>\n",
              "      <td>56</td>\n",
              "    </tr>\n",
              "  </tbody>\n",
              "</table>\n",
              "</div>"
            ],
            "text/plain": [
              "     Name  Age  Weight\n",
              "a   David   41      85\n",
              "b    John   19      76\n",
              "c   Marta   33      67\n",
              "d  Dianna   24      56"
            ]
          },
          "execution_count": 73,
          "metadata": {},
          "output_type": "execute_result"
        }
      ],
      "source": [
        "dic1 = {'Name':[ 'David', 'John', 'Marta', 'Dianna'], 'Age':[41,19,33,24],'Weight':[85,76,67,56]}\n",
        "df = pd.DataFrame(dic1, index=['a','b','c','d'])\n",
        "df"
      ]
    },
    {
      "cell_type": "markdown",
      "metadata": {
        "id": "JF6ahjR5CTME"
      },
      "source": [
        "Print the 'Name' column using the dot notation."
      ]
    },
    {
      "cell_type": "code",
      "execution_count": null,
      "metadata": {
        "id": "YT5RsQwBCTME",
        "outputId": "f6203032-160a-46c9-a417-f5da4e8924a7"
      },
      "outputs": [
        {
          "data": {
            "text/plain": [
              "a     David\n",
              "b      John\n",
              "c     Marta\n",
              "d    Dianna\n",
              "Name: Name, dtype: object"
            ]
          },
          "execution_count": 74,
          "metadata": {},
          "output_type": "execute_result"
        }
      ],
      "source": [
        "df.Name"
      ]
    },
    {
      "cell_type": "markdown",
      "metadata": {
        "id": "XvqeC8mUCTMF"
      },
      "source": [
        "Print the 'Name' and 'Age' columns using square brackets."
      ]
    },
    {
      "cell_type": "code",
      "execution_count": null,
      "metadata": {
        "id": "HGzElY43CTMF",
        "outputId": "b9eeb6de-ae79-4663-a30b-221d3a849334"
      },
      "outputs": [
        {
          "data": {
            "text/html": [
              "<div>\n",
              "<style scoped>\n",
              "    .dataframe tbody tr th:only-of-type {\n",
              "        vertical-align: middle;\n",
              "    }\n",
              "\n",
              "    .dataframe tbody tr th {\n",
              "        vertical-align: top;\n",
              "    }\n",
              "\n",
              "    .dataframe thead th {\n",
              "        text-align: right;\n",
              "    }\n",
              "</style>\n",
              "<table border=\"1\" class=\"dataframe\">\n",
              "  <thead>\n",
              "    <tr style=\"text-align: right;\">\n",
              "      <th></th>\n",
              "      <th>Name</th>\n",
              "      <th>Age</th>\n",
              "    </tr>\n",
              "  </thead>\n",
              "  <tbody>\n",
              "    <tr>\n",
              "      <th>a</th>\n",
              "      <td>David</td>\n",
              "      <td>41</td>\n",
              "    </tr>\n",
              "    <tr>\n",
              "      <th>b</th>\n",
              "      <td>John</td>\n",
              "      <td>19</td>\n",
              "    </tr>\n",
              "    <tr>\n",
              "      <th>c</th>\n",
              "      <td>Marta</td>\n",
              "      <td>33</td>\n",
              "    </tr>\n",
              "    <tr>\n",
              "      <th>d</th>\n",
              "      <td>Dianna</td>\n",
              "      <td>24</td>\n",
              "    </tr>\n",
              "  </tbody>\n",
              "</table>\n",
              "</div>"
            ],
            "text/plain": [
              "     Name  Age\n",
              "a   David   41\n",
              "b    John   19\n",
              "c   Marta   33\n",
              "d  Dianna   24"
            ]
          },
          "execution_count": 75,
          "metadata": {},
          "output_type": "execute_result"
        }
      ],
      "source": [
        "df[['Name', 'Age']]"
      ]
    },
    {
      "cell_type": "markdown",
      "metadata": {
        "id": "NjLtiwU_CTMG"
      },
      "source": [
        "Print the type of object returned by selecting the 'Name' column using square brackets."
      ]
    },
    {
      "cell_type": "code",
      "execution_count": null,
      "metadata": {
        "id": "mNr5xapqCTMG",
        "outputId": "34399186-3698-4299-e384-e2b43a9e6df5"
      },
      "outputs": [
        {
          "data": {
            "text/plain": [
              "pandas.core.series.Series"
            ]
          },
          "execution_count": 78,
          "metadata": {},
          "output_type": "execute_result"
        }
      ],
      "source": [
        "type(df['Name'])"
      ]
    },
    {
      "cell_type": "markdown",
      "metadata": {
        "id": "hWk1wyF2CTMH"
      },
      "source": [
        "Print the type of object returned by selecting the 'Name' and 'Age' columns using square brackets."
      ]
    },
    {
      "cell_type": "code",
      "execution_count": null,
      "metadata": {
        "id": "Sgjpo8TwCTMH",
        "outputId": "61682806-6dc8-4539-fc2b-a9bb11872d3d"
      },
      "outputs": [
        {
          "data": {
            "text/plain": [
              "pandas.core.frame.DataFrame"
            ]
          },
          "execution_count": 76,
          "metadata": {},
          "output_type": "execute_result"
        }
      ],
      "source": [
        "type(df[['Name', 'Age']])"
      ]
    },
    {
      "cell_type": "markdown",
      "metadata": {
        "id": "BFy2iOD6CTMH"
      },
      "source": [
        "Print the rows starting in index location 0 and ending in index location 2."
      ]
    },
    {
      "cell_type": "code",
      "execution_count": null,
      "metadata": {
        "id": "zsn7Ef6YCTMI",
        "outputId": "2180a549-6744-4ae7-8a98-dad20ac2f094"
      },
      "outputs": [
        {
          "data": {
            "text/html": [
              "<div>\n",
              "<style scoped>\n",
              "    .dataframe tbody tr th:only-of-type {\n",
              "        vertical-align: middle;\n",
              "    }\n",
              "\n",
              "    .dataframe tbody tr th {\n",
              "        vertical-align: top;\n",
              "    }\n",
              "\n",
              "    .dataframe thead th {\n",
              "        text-align: right;\n",
              "    }\n",
              "</style>\n",
              "<table border=\"1\" class=\"dataframe\">\n",
              "  <thead>\n",
              "    <tr style=\"text-align: right;\">\n",
              "      <th></th>\n",
              "      <th>Name</th>\n",
              "      <th>Age</th>\n",
              "      <th>Weight</th>\n",
              "    </tr>\n",
              "  </thead>\n",
              "  <tbody>\n",
              "    <tr>\n",
              "      <th>a</th>\n",
              "      <td>David</td>\n",
              "      <td>41</td>\n",
              "      <td>85</td>\n",
              "    </tr>\n",
              "    <tr>\n",
              "      <th>b</th>\n",
              "      <td>John</td>\n",
              "      <td>19</td>\n",
              "      <td>76</td>\n",
              "    </tr>\n",
              "    <tr>\n",
              "      <th>c</th>\n",
              "      <td>Marta</td>\n",
              "      <td>33</td>\n",
              "      <td>67</td>\n",
              "    </tr>\n",
              "  </tbody>\n",
              "</table>\n",
              "</div>"
            ],
            "text/plain": [
              "    Name  Age  Weight\n",
              "a  David   41      85\n",
              "b   John   19      76\n",
              "c  Marta   33      67"
            ]
          },
          "execution_count": 77,
          "metadata": {},
          "output_type": "execute_result"
        }
      ],
      "source": [
        "df[:3]"
      ]
    },
    {
      "cell_type": "markdown",
      "metadata": {
        "id": "PBfnEEAECTMJ"
      },
      "source": [
        "Print all rows with columns 'Name' and 'Age' while using the loc method."
      ]
    },
    {
      "cell_type": "code",
      "execution_count": null,
      "metadata": {
        "id": "2eBq37oNCTMJ",
        "outputId": "7cde538c-86dd-4927-d0d5-c3f17f475540"
      },
      "outputs": [
        {
          "data": {
            "text/html": [
              "<div>\n",
              "<style scoped>\n",
              "    .dataframe tbody tr th:only-of-type {\n",
              "        vertical-align: middle;\n",
              "    }\n",
              "\n",
              "    .dataframe tbody tr th {\n",
              "        vertical-align: top;\n",
              "    }\n",
              "\n",
              "    .dataframe thead th {\n",
              "        text-align: right;\n",
              "    }\n",
              "</style>\n",
              "<table border=\"1\" class=\"dataframe\">\n",
              "  <thead>\n",
              "    <tr style=\"text-align: right;\">\n",
              "      <th></th>\n",
              "      <th>Name</th>\n",
              "      <th>Age</th>\n",
              "    </tr>\n",
              "  </thead>\n",
              "  <tbody>\n",
              "    <tr>\n",
              "      <th>a</th>\n",
              "      <td>David</td>\n",
              "      <td>41</td>\n",
              "    </tr>\n",
              "    <tr>\n",
              "      <th>b</th>\n",
              "      <td>John</td>\n",
              "      <td>19</td>\n",
              "    </tr>\n",
              "    <tr>\n",
              "      <th>c</th>\n",
              "      <td>Marta</td>\n",
              "      <td>33</td>\n",
              "    </tr>\n",
              "    <tr>\n",
              "      <th>d</th>\n",
              "      <td>Dianna</td>\n",
              "      <td>24</td>\n",
              "    </tr>\n",
              "  </tbody>\n",
              "</table>\n",
              "</div>"
            ],
            "text/plain": [
              "     Name  Age\n",
              "a   David   41\n",
              "b    John   19\n",
              "c   Marta   33\n",
              "d  Dianna   24"
            ]
          },
          "execution_count": 79,
          "metadata": {},
          "output_type": "execute_result"
        }
      ],
      "source": [
        "df.loc[: , ['Name', 'Age']]"
      ]
    },
    {
      "cell_type": "markdown",
      "metadata": {
        "id": "c1Zq-_CpCTMK"
      },
      "source": [
        "Print rows  with labels 'a' and 'd' with columns 'Name' and 'Age' while using the loc method."
      ]
    },
    {
      "cell_type": "code",
      "execution_count": null,
      "metadata": {
        "id": "Ytp-ltj3CTMK",
        "outputId": "9ebf7c4d-dcb1-48ff-8d43-8c17dae479ab"
      },
      "outputs": [
        {
          "data": {
            "text/html": [
              "<div>\n",
              "<style scoped>\n",
              "    .dataframe tbody tr th:only-of-type {\n",
              "        vertical-align: middle;\n",
              "    }\n",
              "\n",
              "    .dataframe tbody tr th {\n",
              "        vertical-align: top;\n",
              "    }\n",
              "\n",
              "    .dataframe thead th {\n",
              "        text-align: right;\n",
              "    }\n",
              "</style>\n",
              "<table border=\"1\" class=\"dataframe\">\n",
              "  <thead>\n",
              "    <tr style=\"text-align: right;\">\n",
              "      <th></th>\n",
              "      <th>Name</th>\n",
              "      <th>Age</th>\n",
              "    </tr>\n",
              "  </thead>\n",
              "  <tbody>\n",
              "    <tr>\n",
              "      <th>a</th>\n",
              "      <td>David</td>\n",
              "      <td>41</td>\n",
              "    </tr>\n",
              "    <tr>\n",
              "      <th>d</th>\n",
              "      <td>Dianna</td>\n",
              "      <td>24</td>\n",
              "    </tr>\n",
              "  </tbody>\n",
              "</table>\n",
              "</div>"
            ],
            "text/plain": [
              "     Name  Age\n",
              "a   David   41\n",
              "d  Dianna   24"
            ]
          },
          "execution_count": 80,
          "metadata": {},
          "output_type": "execute_result"
        }
      ],
      "source": [
        "df.loc[['a', 'd'], ['Name', 'Age']]"
      ]
    },
    {
      "cell_type": "markdown",
      "metadata": {
        "id": "5TRZck4nCTML"
      },
      "source": [
        "Print the row in index location 2 using the iloc method."
      ]
    },
    {
      "cell_type": "code",
      "execution_count": null,
      "metadata": {
        "id": "oVzkGWBZCTML",
        "outputId": "3540340d-6367-4784-f548-ffd0743662cb"
      },
      "outputs": [
        {
          "data": {
            "text/plain": [
              "Name      John\n",
              "Age         19\n",
              "Weight      76\n",
              "Name: b, dtype: object"
            ]
          },
          "execution_count": 81,
          "metadata": {},
          "output_type": "execute_result"
        }
      ],
      "source": [
        "df.iloc[1, :]"
      ]
    },
    {
      "cell_type": "markdown",
      "metadata": {
        "id": "Zy8mlZA0CTML"
      },
      "source": [
        "Print the rows in index locations 1,2 and 3 using the iloc method."
      ]
    },
    {
      "cell_type": "code",
      "execution_count": null,
      "metadata": {
        "id": "-H-2ptXkCTMM",
        "outputId": "56658426-cf4a-4a45-901e-37999818316b"
      },
      "outputs": [
        {
          "data": {
            "text/html": [
              "<div>\n",
              "<style scoped>\n",
              "    .dataframe tbody tr th:only-of-type {\n",
              "        vertical-align: middle;\n",
              "    }\n",
              "\n",
              "    .dataframe tbody tr th {\n",
              "        vertical-align: top;\n",
              "    }\n",
              "\n",
              "    .dataframe thead th {\n",
              "        text-align: right;\n",
              "    }\n",
              "</style>\n",
              "<table border=\"1\" class=\"dataframe\">\n",
              "  <thead>\n",
              "    <tr style=\"text-align: right;\">\n",
              "      <th></th>\n",
              "      <th>Name</th>\n",
              "      <th>Age</th>\n",
              "      <th>Weight</th>\n",
              "    </tr>\n",
              "  </thead>\n",
              "  <tbody>\n",
              "    <tr>\n",
              "      <th>b</th>\n",
              "      <td>John</td>\n",
              "      <td>19</td>\n",
              "      <td>76</td>\n",
              "    </tr>\n",
              "    <tr>\n",
              "      <th>c</th>\n",
              "      <td>Marta</td>\n",
              "      <td>33</td>\n",
              "      <td>67</td>\n",
              "    </tr>\n",
              "    <tr>\n",
              "      <th>d</th>\n",
              "      <td>Dianna</td>\n",
              "      <td>24</td>\n",
              "      <td>56</td>\n",
              "    </tr>\n",
              "  </tbody>\n",
              "</table>\n",
              "</div>"
            ],
            "text/plain": [
              "     Name  Age  Weight\n",
              "b    John   19      76\n",
              "c   Marta   33      67\n",
              "d  Dianna   24      56"
            ]
          },
          "execution_count": 82,
          "metadata": {},
          "output_type": "execute_result"
        }
      ],
      "source": [
        "df.iloc[[1,2,3], :]"
      ]
    },
    {
      "cell_type": "markdown",
      "metadata": {
        "id": "uoQCIPgrCTMM"
      },
      "source": [
        "Print the rows in index locations 1,2 and 3 and columns in index locations 0 to 1 using the iloc method."
      ]
    },
    {
      "cell_type": "code",
      "execution_count": null,
      "metadata": {
        "id": "2QtLf-8KCTMN",
        "outputId": "ff5051b1-9545-44ec-f34f-8f326f33f71a"
      },
      "outputs": [
        {
          "data": {
            "text/html": [
              "<div>\n",
              "<style scoped>\n",
              "    .dataframe tbody tr th:only-of-type {\n",
              "        vertical-align: middle;\n",
              "    }\n",
              "\n",
              "    .dataframe tbody tr th {\n",
              "        vertical-align: top;\n",
              "    }\n",
              "\n",
              "    .dataframe thead th {\n",
              "        text-align: right;\n",
              "    }\n",
              "</style>\n",
              "<table border=\"1\" class=\"dataframe\">\n",
              "  <thead>\n",
              "    <tr style=\"text-align: right;\">\n",
              "      <th></th>\n",
              "      <th>Name</th>\n",
              "      <th>Age</th>\n",
              "    </tr>\n",
              "  </thead>\n",
              "  <tbody>\n",
              "    <tr>\n",
              "      <th>b</th>\n",
              "      <td>John</td>\n",
              "      <td>19</td>\n",
              "    </tr>\n",
              "    <tr>\n",
              "      <th>c</th>\n",
              "      <td>Marta</td>\n",
              "      <td>33</td>\n",
              "    </tr>\n",
              "    <tr>\n",
              "      <th>d</th>\n",
              "      <td>Dianna</td>\n",
              "      <td>24</td>\n",
              "    </tr>\n",
              "  </tbody>\n",
              "</table>\n",
              "</div>"
            ],
            "text/plain": [
              "     Name  Age\n",
              "b    John   19\n",
              "c   Marta   33\n",
              "d  Dianna   24"
            ]
          },
          "execution_count": 84,
          "metadata": {},
          "output_type": "execute_result"
        }
      ],
      "source": [
        "df.iloc[[1,2,3], [0,1]]"
      ]
    },
    {
      "cell_type": "markdown",
      "metadata": {
        "id": "nn7zo5QHCTMN"
      },
      "source": [
        "### End of document\n",
        "************************"
      ]
    }
  ],
  "metadata": {
    "kernelspec": {
      "display_name": "Python 3",
      "language": "python",
      "name": "python3"
    },
    "language_info": {
      "codemirror_mode": {
        "name": "ipython",
        "version": 3
      },
      "file_extension": ".py",
      "mimetype": "text/x-python",
      "name": "python",
      "nbconvert_exporter": "python",
      "pygments_lexer": "ipython3",
      "version": "3.7.6"
    },
    "colab": {
      "provenance": [],
      "include_colab_link": true
    }
  },
  "nbformat": 4,
  "nbformat_minor": 0
}