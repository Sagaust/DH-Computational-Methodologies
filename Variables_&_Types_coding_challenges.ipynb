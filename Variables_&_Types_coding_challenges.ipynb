{
  "nbformat": 4,
  "nbformat_minor": 0,
  "metadata": {
    "kernelspec": {
      "display_name": "Python 3",
      "language": "python",
      "name": "python3"
    },
    "language_info": {
      "name": "python",
      "version": "3.8.5"
    },
    "colab": {
      "provenance": [],
      "include_colab_link": true
    }
  },
  "cells": [
    {
      "cell_type": "markdown",
      "metadata": {
        "id": "view-in-github",
        "colab_type": "text"
      },
      "source": [
        "<a href=\"https://colab.research.google.com/github/Sagaust/DH-Computational-Methodologies/blob/main/Variables_%26_Types_coding_challenges.ipynb\" target=\"_parent\"><img src=\"https://colab.research.google.com/assets/colab-badge.svg\" alt=\"Open In Colab\"/></a>"
      ]
    },
    {
      "cell_type": "markdown",
      "metadata": {
        "id": "BVEFL20zIPo7"
      },
      "source": [
        "# Problem Statement 1: Variables & Types\n",
        "Given a list called `my_list`. Using this list, create a tuple called `my_tuple`. The tuple will contain the list’s first element, last element, and the length of the list, in that same order.\n",
        "**Sample Input**:\n",
        "```python\n",
        "my_list = [34, 82.6, \"Darth Vader\", 17, \"Hannibal\"]\n",
        "```\n",
        "**Sample Output**:\n",
        "```python\n",
        "my_tuple = (34, \"Hannibal\", 5)\n",
        "```"
      ]
    },
    {
      "cell_type": "code",
      "metadata": {
        "id": "MsrpuhKvIPo_",
        "outputId": "f62f5782-6b20-4ac9-dbdc-6171df6051b5"
      },
      "execution_count": null,
      "source": [
        "# Given sample input\n",
        "my_list = [34, 82.6, \"Darth Vader\", 17, \"Hannibal\"]\n",
        "\n",
        "# Creating the tuple\n",
        "my_tuple = (my_list[0], my_list[-1], len(my_list))\n",
        "\n",
        "my_tuple"
      ],
      "outputs": [
        {
          "output_type": "execute_result",
          "data": {
            "text/plain": [
              "(34, 'Hannibal', 5)"
            ]
          },
          "execution_count": 1
        }
      ]
    },
    {
      "cell_type": "markdown",
      "metadata": {
        "id": "CFcAvsagIPpB"
      },
      "source": [
        "# Problem Statement 2: Finding kth largest integer in a list\n",
        "Given a list of integers and a number k, find the kth largest integer in the list. The integer will be stored in the `kth_max` variable.\n",
        "**Sample Code**:\n",
        "```python\n",
        "test_list.sort()\n",
        "kth_max = test_list[-k]\n",
        "```"
      ]
    },
    {
      "cell_type": "code",
      "metadata": {
        "id": "cgHKiSo3IPpB",
        "outputId": "d93824da-5914-40ef-827c-f8d2a19c2be2"
      },
      "execution_count": null,
      "source": [
        "# Sample list for testing and sample code\n",
        "test_list = [34, 82, 55, 89, 12, 3, 56]\n",
        "k = 3  # Let's assume k = 3 for this test\n",
        "\n",
        "# Sorting the list in ascending order\n",
        "test_list.sort()\n",
        "\n",
        "# Extracting the kth largest integer\n",
        "kth_max = test_list[-k]\n",
        "\n",
        "kth_max"
      ],
      "outputs": [
        {
          "output_type": "execute_result",
          "data": {
            "text/plain": [
              "55"
            ]
          },
          "execution_count": 2
        }
      ]
    }
  ]
}