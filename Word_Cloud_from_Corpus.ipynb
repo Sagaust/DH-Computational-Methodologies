{
  "nbformat": 4,
  "nbformat_minor": 0,
  "metadata": {
    "colab": {
      "private_outputs": true,
      "provenance": [],
      "machine_shape": "hm",
      "mount_file_id": "1TSSYflc1YH6l3X9CMvXVw19vnXK2HPGa",
      "authorship_tag": "ABX9TyN4E3ADdfQbNbeqfwcH+s1m",
      "include_colab_link": true
    },
    "kernelspec": {
      "name": "python3",
      "display_name": "Python 3"
    },
    "language_info": {
      "name": "python"
    },
    "accelerator": "TPU"
  },
  "cells": [
    {
      "cell_type": "markdown",
      "metadata": {
        "id": "view-in-github",
        "colab_type": "text"
      },
      "source": [
        "<a href=\"https://colab.research.google.com/github/Sagaust/DH-Computational-Methodologies/blob/main/Word_Cloud_from_Corpus.ipynb\" target=\"_parent\"><img src=\"https://colab.research.google.com/assets/colab-badge.svg\" alt=\"Open In Colab\"/></a>"
      ]
    },
    {
      "cell_type": "code",
      "execution_count": null,
      "metadata": {
        "id": "5HZ1tlrV11-f"
      },
      "outputs": [],
      "source": [
        "# Step 1: Mount Google Drive to access files\n",
        "from google.colab import drive\n",
        "drive.mount('/content/drive')"
      ]
    },
    {
      "cell_type": "code",
      "source": [
        "# @title Default title text\n",
        "# Step 1: Mount Google Drive to access files\n",
        "# from google.colab import drive\n",
        "# drive.mount('/content/drive')\n",
        "\n",
        "# Step 2: Set the path to the folder containing the text files\n",
        "folder_path = '/content/drive/MyDrive/Colab Notebooks/Corpus of African Literature/Chinua Achebe'  # Change 'YourFolderName' to your actual folder name\n",
        "\n",
        "# Step 3: List all text files in the folder\n",
        "import os\n",
        "text_files = [f for f in os.listdir(folder_path) if f.endswith('.txt')]\n",
        "\n",
        "# Step 4: Merge the content of all text files into a single string\n",
        "merged_content = \"\"\n",
        "for file_name in text_files:\n",
        "    with open(os.path.join(folder_path, file_name), 'r') as file:\n",
        "        merged_content += file.read() + \"\\n\\n\"  # Adding two newlines to separate content of different files\n",
        "\n",
        "# Step 5: Write the merged content to a new .txt file\n",
        "output_file_path = '/content/drive/MyDrive/Colab Notebooks/Corpus of African Literature/Achebe_merged_file.txt'\n",
        "with open(output_file_path, 'w') as output_file:\n",
        "    output_file.write(merged_content)\n",
        "\n",
        "print(f\"Merged content written to {output_file_path}\")"
      ],
      "metadata": {
        "id": "7FGPdxpt2cpD"
      },
      "execution_count": null,
      "outputs": []
    },
    {
      "cell_type": "markdown",
      "source": [
        "### To generate a word cloud from a text file in Google Colab, you would first need to install the wordcloud package and then use its functionalities to generate and visualize the word cloud.\n",
        "\n",
        "#### Here's a step-by-step guide:\n",
        "\n",
        "   1.  Install the necessary packages.\n",
        "   2. Upload the file to Google Colab.\n",
        "   3.  Read the file.\n",
        "   4. Generate and display the word cloud."
      ],
      "metadata": {
        "id": "FSdYHZtX5GPx"
      }
    },
    {
      "cell_type": "code",
      "source": [
        "!pip install wordcloud\n",
        "\n",
        "import matplotlib.pyplot as plt\n",
        "from wordcloud import WordCloud\n",
        "\n"
      ],
      "metadata": {
        "id": "0WncA2D45gcK"
      },
      "execution_count": null,
      "outputs": []
    },
    {
      "cell_type": "code",
      "source": [
        "# Read the content of the file\n",
        "with open('/content/drive/MyDrive/Colab Notebooks/Corpus of African Literature/Achebe_merged_file.txt', 'r') as file:\n",
        "    text = file.read()\n",
        "\n"
      ],
      "metadata": {
        "id": "ImwUinZF52Gw"
      },
      "execution_count": null,
      "outputs": []
    },
    {
      "cell_type": "code",
      "source": [
        "\n",
        "# Generate the word cloud\n",
        "wordcloud = WordCloud(background_color='white').generate(text)\n",
        "\n",
        "# Display the word cloud\n",
        "plt.figure(figsize=(10, 8))\n",
        "plt.imshow(wordcloud, interpolation='bilinear')\n",
        "plt.axis('off')\n",
        "plt.show()"
      ],
      "metadata": {
        "id": "pqrL0IwN540w"
      },
      "execution_count": null,
      "outputs": []
    },
    {
      "cell_type": "code",
      "source": [
        "# Generate the word cloud with enhanced settings\n",
        "wordcloud = WordCloud(\n",
        "    background_color='white',\n",
        "    width=800,\n",
        "    height=800,\n",
        "    max_words=200,\n",
        "    min_font_size=10,\n",
        "    max_font_size=150\n",
        ").generate(text)\n",
        "\n",
        "# Display the word cloud\n",
        "plt.figure(figsize=(10, 8))\n",
        "plt.imshow(wordcloud, interpolation='bilinear')\n",
        "plt.axis('off')\n",
        "plt.show()\n"
      ],
      "metadata": {
        "id": "lz8Namrs7gGB"
      },
      "execution_count": null,
      "outputs": []
    },
    {
      "cell_type": "markdown",
      "source": [
        "### Colored Word Cloud:"
      ],
      "metadata": {
        "id": "hoFfgK9b7yrQ"
      }
    },
    {
      "cell_type": "code",
      "source": [
        "wordcloud = WordCloud(background_color='white', colormap='viridis').generate(text)\n",
        "\n",
        "plt.figure(figsize=(10, 8))\n",
        "plt.imshow(wordcloud, interpolation='bilinear')\n",
        "plt.axis('off')\n",
        "plt.show()\n"
      ],
      "metadata": {
        "id": "CW83RKd74ItK"
      },
      "execution_count": null,
      "outputs": []
    },
    {
      "cell_type": "markdown",
      "source": [
        "### Masked Word Cloud:"
      ],
      "metadata": {
        "id": "lzP4A1_P8G2K"
      }
    },
    {
      "cell_type": "code",
      "source": [
        "import numpy as np\n",
        "from PIL import Image\n",
        "\n",
        "mask = np.array(Image.open('/content/drive/MyDrive/Colab Notebooks/Corpus of African Literature/Chinua Achebe/Chinua-Achebe.jpg'))\n",
        "wordcloud = WordCloud( mask=mask).generate(text)\n",
        "\n",
        "plt.figure(figsize=(10, 8))\n",
        "plt.imshow(wordcloud, interpolation='bilinear')\n",
        "plt.axis('off')\n",
        "plt.show()\n"
      ],
      "metadata": {
        "id": "jCRDDSa48NPI"
      },
      "execution_count": null,
      "outputs": []
    },
    {
      "cell_type": "markdown",
      "source": [
        "### To overlay the word cloud on your image, you'll need to follow these steps:\n",
        "\n",
        "\n",
        "1.   Open the image using PIL.\n",
        "2.   Generate the word cloud using the mask and make sure that the background color of the word cloud is transparent.\n",
        "3.  Overlay the word cloud on the image.\n",
        "\n"
      ],
      "metadata": {
        "id": "rpaCLujl-GJ-"
      }
    },
    {
      "cell_type": "code",
      "source": [
        "import numpy as np\n",
        "from PIL import Image\n",
        "from wordcloud import WordCloud\n",
        "import matplotlib.pyplot as plt\n",
        "\n",
        "# Open the image and create a mask\n",
        "image_path = '/content/drive/MyDrive/Colab Notebooks/Corpus of African Literature/Chinua Achebe/Chinua-Achebe.jpg'\n",
        "image = Image.open(image_path)\n",
        "mask = np.array(image)\n",
        "\n",
        "# Generate the word cloud with a transparent background\n",
        "wordcloud = WordCloud(background_color=\"rgba(255, 255, 255, 0)\", mode=\"RGBA\", mask=mask).generate(text)\n",
        "\n",
        "# Overlay the word cloud on the image\n",
        "image_overlay = Image.alpha_composite(image.convert('RGBA'), wordcloud.to_image())\n",
        "\n",
        "# Display the result\n",
        "plt.figure(figsize=(10, 8))\n",
        "plt.imshow(image_overlay, interpolation='bilinear')\n",
        "plt.axis('off')\n",
        "plt.show()\n"
      ],
      "metadata": {
        "id": "XvvLsp2R9wRq"
      },
      "execution_count": null,
      "outputs": []
    },
    {
      "cell_type": "markdown",
      "source": [
        "NOw, let's make the word cloud the background and overlay the image (with some level of transparency) on top of it.\n",
        "\n",
        "Here's the process:\n",
        "\n",
        "    Generate the word cloud.\n",
        "    Resize the image to fit the dimensions of the word cloud.\n",
        "    Overlay the resized image on the word cloud."
      ],
      "metadata": {
        "id": "5JwpC4Kv-kRM"
      }
    },
    {
      "cell_type": "code",
      "source": [
        "import numpy as np\n",
        "from PIL import Image, ImageChops, ImageEnhance\n",
        "from wordcloud import WordCloud\n",
        "import matplotlib.pyplot as plt\n",
        "\n",
        "# Open the image\n",
        "image_path = '/content/drive/MyDrive/Colab Notebooks/Corpus of African Literature/Chinua Achebe/Chinua-Achebe.jpg'\n",
        "image = Image.open(image_path).convert(\"RGBA\")\n",
        "\n",
        "# Create an inverse mask from the image: White areas will be filled with words\n",
        "inverse_mask = ImageChops.invert(image.convert(\"L\"))\n",
        "mask = np.array(inverse_mask)\n",
        "\n",
        "# Generate the word cloud using the inverse mask, and match the dimensions to the original image\n",
        "wordcloud = WordCloud(background_color=\"white\", mask=mask, contour_width=0, width=image.width, height=image.height).generate(text)\n",
        "wordcloud_img = wordcloud.to_image().convert(\"RGBA\")\n",
        "\n",
        "# Enhance the brightness of the word cloud to make it more visible when blended\n",
        "enhancer = ImageEnhance.Brightness(wordcloud_img)\n",
        "brightened_wordcloud = enhancer.enhance(1.2)\n",
        "\n",
        "# Blend the word cloud image and the original image\n",
        "blended = Image.blend(brightened_wordcloud, image, alpha=0.5)\n",
        "\n",
        "# Display the result\n",
        "plt.figure(figsize=(10, 8))\n",
        "plt.imshow(blended, interpolation='bilinear')\n",
        "plt.axis('off')\n",
        "plt.show()\n"
      ],
      "metadata": {
        "id": "qrsQBNQm-p0f"
      },
      "execution_count": null,
      "outputs": []
    }
  ]
}