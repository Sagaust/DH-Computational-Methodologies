{
  "nbformat": 4,
  "nbformat_minor": 0,
  "metadata": {
    "colab": {
      "private_outputs": true,
      "provenance": [],
      "machine_shape": "hm",
      "authorship_tag": "ABX9TyO4LkoLoIu2qqEq3kl5uact",
      "include_colab_link": true
    },
    "kernelspec": {
      "name": "python3",
      "display_name": "Python 3"
    },
    "language_info": {
      "name": "python"
    },
    "accelerator": "TPU"
  },
  "cells": [
    {
      "cell_type": "markdown",
      "metadata": {
        "id": "view-in-github",
        "colab_type": "text"
      },
      "source": [
        "<a href=\"https://colab.research.google.com/github/Sagaust/DH-Computational-Methodologies/blob/main/Word_Frequency_Trend.ipynb\" target=\"_parent\"><img src=\"https://colab.research.google.com/assets/colab-badge.svg\" alt=\"Open In Colab\"/></a>"
      ]
    },
    {
      "cell_type": "code",
      "execution_count": null,
      "metadata": {
        "id": "VZhONQ6mC9xs"
      },
      "outputs": [],
      "source": [
        "# Step 1: Mount Google Drive to access files\n",
        "from google.colab import drive\n",
        "drive.mount('/content/drive')"
      ]
    },
    {
      "cell_type": "code",
      "source": [
        "# @title Default title text\n",
        "# Step 1: Mount Google Drive to access files\n",
        "# from google.colab import drive\n",
        "# drive.mount('/content/drive')\n",
        "\n",
        "# Step 2: Set the path to the folder containing the text files\n",
        "folder_path = '/content/drive/MyDrive/Colab Notebooks/Corpus of African Literature/Amos Tutuola'  # Change 'YourFolderName' to your actual folder name\n",
        "\n",
        "# Step 3: List all text files in the folder\n",
        "import os\n",
        "text_files = [f for f in os.listdir(folder_path) if f.endswith('.txt')]\n",
        "\n",
        "# Step 4: Merge the content of all text files into a single string\n",
        "merged_content = \"\"\n",
        "for file_name in text_files:\n",
        "    with open(os.path.join(folder_path, file_name), 'r') as file:\n",
        "        merged_content += file.read() + \"\\n\\n\"  # Adding two newlines to separate content of different files\n",
        "\n",
        "# Step 5: Write the merged content to a new .txt file\n",
        "output_file_path = '/content/drive/MyDrive/Colab Notebooks/Corpus of African Literature/Tutuola_merged_file.txt'\n",
        "with open(output_file_path, 'w') as output_file:\n",
        "    output_file.write(merged_content)\n",
        "\n",
        "print(f\"Merged content written to {output_file_path}\")"
      ],
      "metadata": {
        "id": "2reveZggD7VI"
      },
      "execution_count": null,
      "outputs": []
    },
    {
      "cell_type": "markdown",
      "source": [
        "To visualize a word frequency trend using Python, you'd typically follow these steps:\n",
        "\n",
        "    Tokenization: Break down the text into individual words.\n",
        "    Frequency Calculation: Count the occurrences of each word.\n",
        "    Visualization: Plot the frequencies of the top-N words.\n",
        "\n",
        "For this demonstration, I'll generate a word frequency trend for the sample text."
      ],
      "metadata": {
        "id": "02GyJxBNFXnf"
      }
    },
    {
      "cell_type": "code",
      "source": [
        "import matplotlib.pyplot as plt\n",
        "from collections import Counter\n",
        "import re\n",
        "\n",
        "# Load the text from the file\n",
        "with open('/content/drive/MyDrive/Colab Notebooks/Corpus of African Literature/Tutuola_merged_file.txt', 'r') as file:\n",
        "    text = file.read()\n",
        "\n",
        "# Tokenization: Convert text to lowercase and split into words\n",
        "words = re.findall(r'\\w+', text.lower())\n",
        "\n",
        "# Frequency Calculation\n",
        "word_counts = Counter(words)\n",
        "\n",
        "# Visualization: Plotting the frequencies of the top 10 words\n",
        "common_words = word_counts.most_common(10)\n",
        "words = [word[0] for word in common_words]\n",
        "counts = [word[1] for word in common_words]\n",
        "\n",
        "plt.figure(figsize=(10, 5))\n",
        "plt.bar(words, counts, color='skyblue')\n",
        "plt.title('Word Frequency Trend in Tutuola_merged_file.txt')\n",
        "plt.xlabel('Words')\n",
        "plt.ylabel('Frequency')\n",
        "plt.xticks(rotation=45)\n",
        "plt.show()\n"
      ],
      "metadata": {
        "id": "OV91aNEZFfFV"
      },
      "execution_count": null,
      "outputs": []
    },
    {
      "cell_type": "markdown",
      "source": [
        "To gain deeper insights and meaning from the word frequency trend in a text corpus, we can employ several styles and approaches. Let's explore a few:\n",
        "\n",
        "    Basic Word Frequency Plot\n",
        "    Word Frequency Trend over the Course of the Text\n",
        "    Word Cloud\n",
        "    Bigram Frequency Plot\n",
        "    Trigram Frequency Plot"
      ],
      "metadata": {
        "id": "pQmGiOc5HpY8"
      }
    },
    {
      "cell_type": "code",
      "source": [
        "# Basic Word Frequency Plot\n",
        "\n",
        "import matplotlib.pyplot as plt\n",
        "from collections import Counter\n",
        "import re\n",
        "\n",
        "# Load the text from the file\n",
        "with open('/content/drive/MyDrive/Colab Notebooks/Corpus of African Literature/Tutuola_merged_file.txt', 'r') as file:\n",
        "    text = file.read()\n",
        "\n",
        "# Tokenization: Convert text to lowercase and split into words\n",
        "words = re.findall(r'\\w+', text.lower())\n",
        "# Frequency Calculation\n",
        "word_counts = Counter(words)\n",
        "\n",
        "# Visualization\n",
        "common_words = word_counts.most_common(20)\n",
        "words = [word[0] for word in common_words]\n",
        "counts = [word[1] for word in common_words]\n",
        "\n",
        "plt.figure(figsize=(12, 6))\n",
        "plt.bar(words, counts, color='lightseagreen')\n",
        "plt.title('Top 20 Words in Tutuola_merged_file.txt')\n",
        "plt.xlabel('Words')\n",
        "plt.ylabel('Frequency')\n",
        "plt.xticks(rotation=45)\n",
        "plt.show()\n"
      ],
      "metadata": {
        "id": "efK7M-LAH0t2"
      },
      "execution_count": null,
      "outputs": []
    },
    {
      "cell_type": "code",
      "source": [
        "# Basic Word Frequency Plot\n",
        "\n",
        "import matplotlib.pyplot as plt\n",
        "from collections import Counter\n",
        "import re\n",
        "\n",
        "# Load the text from the file\n",
        "with open('/content/drive/MyDrive/Colab Notebooks/Corpus of African Literature/Tutuola_merged_file.txt', 'r') as file:\n",
        "    text = file.read()\n",
        "\n",
        "# Tokenization: Convert text to lowercase and split into words\n",
        "words = re.findall(r'\\w+', text.lower())\n",
        "# Frequency Calculation\n",
        "word_counts = Counter(words)\n",
        "\n",
        "# Get the least common words; -20 gets the last 20 words from the list.\n",
        "least_common_words = word_counts.most_common()[-50:]\n",
        "words = [word[0] for word in least_common_words]\n",
        "counts = [word[1] for word in least_common_words]\n",
        "\n",
        "plt.figure(figsize=(12, 6))\n",
        "plt.bar(words, counts, color='lightblue')\n",
        "plt.title('20 Least Frequent Words in Tutuola_merged_file.txt')\n",
        "plt.xlabel('Words')\n",
        "plt.ylabel('Frequency')\n",
        "plt.xticks(rotation=45)\n",
        "plt.show()\n"
      ],
      "metadata": {
        "id": "XlITPsRyJQ4C"
      },
      "execution_count": null,
      "outputs": []
    },
    {
      "cell_type": "markdown",
      "source": [
        "## Most Frequent Nouns Only"
      ],
      "metadata": {
        "id": "uV_6u75BKbYn"
      }
    },
    {
      "cell_type": "markdown",
      "source": [
        "To focus on the most frequent nouns, you'll need to utilize Natural Language Processing (NLP) tools to identify the parts of speech (POS) of the words. The spaCy library is a popular choice for such tasks.\n",
        "\n",
        "Here's how you can do it:\n",
        "\n",
        "    Tokenize the text using spaCy.\n",
        "    Extract nouns and their frequencies.\n",
        "    Plot the most frequent nouns."
      ],
      "metadata": {
        "id": "eFTyLPzGPIFv"
      }
    },
    {
      "cell_type": "code",
      "source": [
        "!pip install spacy\n",
        "!python -m spacy download en_core_web_sm\n"
      ],
      "metadata": {
        "id": "6SAs8nmMPcyG"
      },
      "execution_count": null,
      "outputs": []
    },
    {
      "cell_type": "code",
      "source": [
        "import spacy\n",
        "import matplotlib.pyplot as plt\n",
        "from collections import Counter\n",
        "\n",
        "# Load the English tokenizer, POS tagger, parser, NER, and word vectors\n",
        "nlp = spacy.load(\"en_core_web_sm\")\n",
        "\n",
        "# Increase the max_length attribute\n",
        "nlp.max_length = 2500000  # Adjust based on your text length, but this should cover your current text\n",
        "\n",
        "# Process the text\n",
        "with open('/content/drive/MyDrive/Colab Notebooks/Corpus of African Literature/Tutuola_merged_file.txt', 'r') as file:\n",
        "    text = file.read()\n",
        "doc = nlp(text)\n",
        "\n",
        "# Extract nouns\n",
        "nouns = [token.text for token in doc if token.pos_ == \"NOUN\"]\n",
        "\n",
        "# Frequency Calculation\n",
        "noun_counts = Counter(nouns)\n",
        "\n",
        "# Visualization: Plotting the frequencies of the top 20 nouns\n",
        "common_nouns = noun_counts.most_common(20)\n",
        "nouns = [noun[0] for noun in common_nouns]\n",
        "counts = [noun[1] for noun in common_nouns]\n",
        "\n",
        "plt.figure(figsize=(12, 6))\n",
        "plt.bar(nouns, counts, color='lightgreen')\n",
        "plt.title('Top 20 Nouns in Tutuola_merged_file.txt')\n",
        "plt.xlabel('Nouns')\n",
        "plt.ylabel('Frequency')\n",
        "plt.xticks(rotation=45)\n",
        "plt.show()\n"
      ],
      "metadata": {
        "id": "mVTX_zNxKjL2"
      },
      "execution_count": null,
      "outputs": []
    },
    {
      "cell_type": "markdown",
      "source": [
        "### Bigram Frequency Plot\n",
        "\n",
        "#### Shows the frequency of two consecutive words, which can provide context."
      ],
      "metadata": {
        "id": "l-yy9ZS0QKpG"
      }
    },
    {
      "cell_type": "code",
      "source": [
        "import matplotlib.pyplot as plt\n",
        "from collections import Counter\n",
        "import re\n",
        "\n",
        "# Load the text from the file\n",
        "with open('/content/drive/MyDrive/Colab Notebooks/Corpus of African Literature/Tutuola_merged_file.txt', 'r') as file:\n",
        "    text = file.read()\n",
        "\n",
        "# Tokenization: Convert text to lowercase and split into words\n",
        "words = re.findall(r'\\w+', text.lower())\n",
        "\n",
        "bigrams = [(words[i], words[i+1]) for i in range(len(words)-1)]\n",
        "bigram_counts = Counter(bigrams)\n",
        "\n",
        "common_bigrams = bigram_counts.most_common(20)\n",
        "bigram_pairs = [\" \".join(bigram[0]) for bigram in common_bigrams]\n",
        "counts = [bigram[1] for bigram in common_bigrams]\n",
        "\n",
        "plt.figure(figsize=(12, 6))\n",
        "plt.bar(bigram_pairs, counts, color='lightsalmon')\n",
        "plt.title('Top 20 Bigrams in Tutuola_merged_file.txt')\n",
        "plt.xlabel('Bigrams')\n",
        "plt.ylabel('Frequency')\n",
        "plt.xticks(rotation=45)\n",
        "plt.show()\n"
      ],
      "metadata": {
        "id": "DgtrQ3IFQWzk"
      },
      "execution_count": null,
      "outputs": []
    },
    {
      "cell_type": "markdown",
      "source": [
        "### Trigram Frequency Plot\n",
        "\n",
        "#### Shows the frequency of three consecutive words."
      ],
      "metadata": {
        "id": "pMVU495bSwR0"
      }
    },
    {
      "cell_type": "code",
      "source": [
        "import matplotlib.pyplot as plt\n",
        "from collections import Counter\n",
        "import re\n",
        "\n",
        "# Load the text from the file\n",
        "with open('/content/drive/MyDrive/Colab Notebooks/Corpus of African Literature/Tutuola_merged_file.txt', 'r') as file:\n",
        "    text = file.read()\n",
        "\n",
        "# Tokenization: Convert text to lowercase and split into words\n",
        "words = re.findall(r'\\w+', text.lower())\n",
        "\n",
        "trigrams = [(words[i], words[i+1], words[i+2]) for i in range(len(words)-2)]\n",
        "trigram_counts = Counter(trigrams)\n",
        "\n",
        "common_trigrams = trigram_counts.most_common(20)\n",
        "trigram_triplets = [\" \".join(trigram[0]) for trigram in common_trigrams]\n",
        "counts = [trigram[1] for trigram in common_trigrams]\n",
        "\n",
        "plt.figure(figsize=(12, 6))\n",
        "plt.bar(trigram_triplets, counts, color='lightcoral')\n",
        "plt.title('Top 20 Trigrams in Tutuola_merged_file.txt')\n",
        "plt.xlabel('Trigrams')\n",
        "plt.ylabel('Frequency')\n",
        "plt.xticks(rotation=45)\n",
        "plt.show()\n"
      ],
      "metadata": {
        "id": "3xuBNunLS0Hz"
      },
      "execution_count": null,
      "outputs": []
    },
    {
      "cell_type": "markdown",
      "source": [
        "## Word Frequency Grid\n",
        "### To generate a word frequency grid for the corpus, we can represent the word frequencies in a table or dataframe format. The pandas library provides an easy way to create and visualize this grid."
      ],
      "metadata": {
        "id": "bZeRbnNSTvBo"
      }
    },
    {
      "cell_type": "code",
      "source": [
        "import pandas as pd\n",
        "import re\n",
        "from collections import Counter\n",
        "\n",
        "# Load the text from the file\n",
        "with open('/content/drive/MyDrive/Colab Notebooks/Corpus of African Literature/Tutuola_merged_file.txt', 'r') as file:\n",
        "    text = file.read()\n",
        "\n",
        "# Tokenization: Convert text to lowercase and split into words\n",
        "words = re.findall(r'\\w+', text.lower())\n",
        "\n",
        "# Frequency Calculation\n",
        "word_counts = Counter(words)\n",
        "\n",
        "# Convert to DataFrame for visualization\n",
        "df = pd.DataFrame(word_counts.most_common(), columns=[\"Word\", \"Frequency\"])\n",
        "\n",
        "# Adjust display settings\n",
        "pd.set_option('display.max_rows', None)  # Display all rows\n",
        "pd.set_option('display.max_columns', None)  # Display all columns\n",
        "pd.set_option('display.width', None)\n",
        "pd.set_option('display.max_colwidth', None)\n",
        "\n",
        "# Display the dataframe\n",
        "print(df)\n"
      ],
      "metadata": {
        "id": "-xv_KKMJS6Jj"
      },
      "execution_count": null,
      "outputs": []
    },
    {
      "cell_type": "markdown",
      "source": [
        "### Generate a CSV file from the word frequency data\n",
        "    Use the to_csv method from the pandas DataFrame to save the word frequencies to a CSV file.\n",
        "    Provide a path to save the CSV file to disk.\n",
        "    Generate a link that allows for downloading the saved CSV file."
      ],
      "metadata": {
        "id": "okknQMt_WcZK"
      }
    },
    {
      "cell_type": "code",
      "source": [
        "import pandas as pd\n",
        "import re\n",
        "from collections import Counter\n",
        "\n",
        "# Load the text from the file\n",
        "with open('/content/drive/MyDrive/Colab Notebooks/Corpus of African Literature/Okri_merged_file.txt', 'r') as file:\n",
        "    text = file.read()\n",
        "\n",
        "# Tokenization: Convert text to lowercase and split into words\n",
        "words = re.findall(r'\\w+', text.lower())\n",
        "\n",
        "# Frequency Calculation\n",
        "word_counts = Counter(words)\n",
        "\n",
        "# Convert to DataFrame\n",
        "df = pd.DataFrame(word_counts.most_common(), columns=[\"Word\", \"Frequency\"])\n",
        "\n",
        "# Save to CSV\n",
        "output_path = \"/content/drive/MyDrive/Colab Notebooks/Corpus of African Literature/Okri_word_frequencies.csv\"\n",
        "df.to_csv(output_path, index=False)\n",
        "\n",
        "output_path\n"
      ],
      "metadata": {
        "id": "CiFWPgACWZfK"
      },
      "execution_count": null,
      "outputs": []
    },
    {
      "cell_type": "code",
      "source": [
        "# Step 2: Set the path to the folder containing the text files\n",
        "folder_path = '/content/drive/MyDrive/Colab Notebooks/Corpus of African Literature/Ben Okri'  # Change 'YourFolderName' to your actual folder name\n",
        "\n",
        "# Step 3: List all text files in the folder\n",
        "import os\n",
        "text_files = [f for f in os.listdir(folder_path) if f.endswith('.txt')]\n",
        "\n",
        "# Step 4: Merge the content of all text files into a single string\n",
        "merged_content = \"\"\n",
        "for file_name in text_files:\n",
        "    with open(os.path.join(folder_path, file_name), 'r') as file:\n",
        "        merged_content += file.read() + \"\\n\\n\"  # Adding two newlines to separate content of different files\n",
        "\n",
        "# Step 5: Write the merged content to a new .txt file\n",
        "output_file_path = '/content/drive/MyDrive/Colab Notebooks/Corpus of African Literature/Okri_merged_file.txt'\n",
        "with open(output_file_path, 'w') as output_file:\n",
        "    output_file.write(merged_content)\n",
        "\n",
        "print(f\"Merged content written to {output_file_path}\")\n"
      ],
      "metadata": {
        "id": "CcdcOAhiXQwi"
      },
      "execution_count": null,
      "outputs": []
    }
  ]
}