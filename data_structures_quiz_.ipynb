{
  "cells": [
    {
      "cell_type": "markdown",
      "metadata": {
        "id": "view-in-github",
        "colab_type": "text"
      },
      "source": [
        "<a href=\"https://colab.research.google.com/github/Sagaust/DH-Computational-Methodologies/blob/main/data_structures_quiz_.ipynb\" target=\"_parent\"><img src=\"https://colab.research.google.com/assets/colab-badge.svg\" alt=\"Open In Colab\"/></a>"
      ]
    },
    {
      "cell_type": "markdown",
      "id": "d4aaafca",
      "metadata": {
        "id": "d4aaafca"
      },
      "source": [
        "## QUIZ\n",
        "\n",
        "Test what you've learned about built-in data structures with this fun quiz!"
      ]
    },
    {
      "cell_type": "markdown",
      "id": "4d719437",
      "metadata": {
        "id": "4d719437"
      },
      "source": [
        "\n",
        "1. Which of the following sets of properties is true for a list?\n",
        "\n",
        "A) Ordered\n",
        "Immutable\n",
        "Indexed\n",
        "\n",
        "B) Unordered\n",
        "Mutable\n",
        "Unindexed\n",
        "\n",
        "C) Ordered\n",
        "Mutable\n",
        "Indexed\n",
        "\n",
        "D) Ordered\n",
        "Immutable\n",
        "Unindexed\n"
      ]
    },
    {
      "cell_type": "code",
      "execution_count": null,
      "id": "5df0ff78",
      "metadata": {
        "id": "5df0ff78"
      },
      "outputs": [],
      "source": [
        "# Type your answer between the quotes\n",
        "answer1 = ''"
      ]
    },
    {
      "cell_type": "code",
      "execution_count": null,
      "id": "48f278c0",
      "metadata": {
        "tags": [
          "hide_input"
        ],
        "id": "48f278c0"
      },
      "outputs": [],
      "source": [
        "# Hidden test cell (students shouldn't run this)\n",
        "assert answer1 == 'C'"
      ]
    },
    {
      "cell_type": "markdown",
      "id": "3b36c8cb",
      "metadata": {
        "id": "3b36c8cb"
      },
      "source": [
        "\n",
        "2. For a given data structure, ds, what is the correct way of calculating its length?\n",
        "\n",
        "A) ds.length()\n",
        "\n",
        "B) len(ds)\n",
        "\n",
        "C) ds.len()\n",
        "\n",
        "D) length(ds)\n"
      ]
    },
    {
      "cell_type": "code",
      "execution_count": null,
      "id": "418d2ac9",
      "metadata": {
        "id": "418d2ac9"
      },
      "outputs": [],
      "source": [
        "# Type your answer between the quotes\n",
        "answer2 = ''"
      ]
    },
    {
      "cell_type": "code",
      "execution_count": null,
      "id": "d710472d",
      "metadata": {
        "tags": [
          "hide_input"
        ],
        "id": "d710472d"
      },
      "outputs": [],
      "source": [
        "# Hidden test cell (students shouldn't run this)\n",
        "assert answer2 == 'B'"
      ]
    },
    {
      "cell_type": "markdown",
      "id": "50999042",
      "metadata": {
        "id": "50999042"
      },
      "source": [
        "\n",
        "3. In a dictionary, key-value pairs are indexed by _____.\n",
        "\n",
        "A) Keys\n",
        "\n",
        "B) Value\n",
        "\n",
        "C) Integers\n"
      ]
    },
    {
      "cell_type": "code",
      "execution_count": null,
      "id": "57fd2144",
      "metadata": {
        "id": "57fd2144"
      },
      "outputs": [],
      "source": [
        "# Type your answer between the quotes\n",
        "answer3 = ''"
      ]
    },
    {
      "cell_type": "code",
      "execution_count": null,
      "id": "a837323f",
      "metadata": {
        "tags": [
          "hide_input"
        ],
        "id": "a837323f"
      },
      "outputs": [],
      "source": [
        "# Hidden test cell (students shouldn't run this)\n",
        "assert answer3 == 'A'"
      ]
    },
    {
      "cell_type": "markdown",
      "id": "410b7613",
      "metadata": {
        "id": "410b7613"
      },
      "source": [
        "\n",
        "4. A set can contain a tuple, but not a list.\n",
        "\n",
        "A) True\n",
        "\n",
        "B) False\n"
      ]
    },
    {
      "cell_type": "code",
      "execution_count": null,
      "id": "d47b722f",
      "metadata": {
        "id": "d47b722f"
      },
      "outputs": [],
      "source": [
        "# Type your answer between the quotes\n",
        "answer4 = ''"
      ]
    },
    {
      "cell_type": "code",
      "execution_count": null,
      "id": "800bdcdd",
      "metadata": {
        "tags": [
          "hide_input"
        ],
        "id": "800bdcdd"
      },
      "outputs": [],
      "source": [
        "# Hidden test cell (students shouldn't run this)\n",
        "assert answer4 == 'A'"
      ]
    },
    {
      "cell_type": "markdown",
      "id": "c13af4ac",
      "metadata": {
        "id": "c13af4ac"
      },
      "source": [
        "\n",
        "5. What will be the value of entry at the end of this code?\n",
        "\n",
        "```python\n",
        "traffic_light = {\"Green\": \"Go\", \"Yellow\": \"Wait\", \"Red\": \"Stop\"}\n",
        "entry = traffic_light.popitem()\n",
        "```\n",
        "\n",
        "A) {\"Green\": \"Go\"}\n",
        "\n",
        "B) (\"Green\", \"Go\")\n",
        "\n",
        "C) {\"Red\": \"Stop\"}\n",
        "\n",
        "D) (\"Red\", \"Stop\")\n",
        "\n",
        "E) Cannot be predicted\n"
      ]
    },
    {
      "cell_type": "code",
      "execution_count": null,
      "id": "90d1420e",
      "metadata": {
        "id": "90d1420e"
      },
      "outputs": [],
      "source": [
        "# Type your answer between the quotes\n",
        "answer5 = ''"
      ]
    },
    {
      "cell_type": "code",
      "execution_count": null,
      "id": "18c4312c",
      "metadata": {
        "tags": [
          "hide_input"
        ],
        "id": "18c4312c"
      },
      "outputs": [],
      "source": [
        "# Hidden test cell (students shouldn't run this)\n",
        "assert answer5 == 'D'"
      ]
    },
    {
      "cell_type": "markdown",
      "id": "51666f48",
      "metadata": {
        "id": "51666f48"
      },
      "source": [
        "\n",
        "6. An empty set can be made using ______.\n",
        "\n",
        "A) {}\n",
        "\n",
        "B) set()\n",
        "\n",
        "C) {} and set()\n"
      ]
    },
    {
      "cell_type": "code",
      "execution_count": null,
      "id": "199811eb",
      "metadata": {
        "id": "199811eb"
      },
      "outputs": [],
      "source": [
        "# Type your answer between the quotes\n",
        "answer6 = ''"
      ]
    },
    {
      "cell_type": "code",
      "execution_count": null,
      "id": "628b0064",
      "metadata": {
        "tags": [
          "hide_input"
        ],
        "id": "628b0064"
      },
      "outputs": [],
      "source": [
        "# Hidden test cell (students shouldn't run this)\n",
        "assert answer6 == 'B'"
      ]
    },
    {
      "cell_type": "markdown",
      "id": "6f29957d",
      "metadata": {
        "id": "6f29957d"
      },
      "source": [
        "\n",
        "7. What is the correct list comprehension for the following code?\n",
        "\n",
        "```python\n",
        "string_list = [\"Anakin\", \"Luke\", \"Rey\", \"Leia\", \"Vader\"]\n",
        "result = []\n",
        "for s in string_list:\n",
        "    if len(s) < 5:\n",
        "        result.append(len(s))\n",
        "```\n",
        "\n",
        "A) string_list = [\"Anakin\", \"Luke\", \"Rey\", \"Leia\", \"Vader\"]\n",
        "result = [len(s) for s in string_list]\n",
        "\n",
        "B) string_list = [\"Anakin\", \"Luke\", \"Rey\", \"Leia\", \"Vader\"]\n",
        "result = [s for s in string_list]\n",
        "\n",
        "C) string_list = [\"Anakin\", \"Luke\", \"Rey\", \"Leia\", \"Vader\"]\n",
        "result = [len(s) for s in string_list if len(s) < 5]\n",
        "\n",
        "D) string_list = [\"Anakin\", \"Luke\", \"Rey\", \"Leia\", \"Vader\"]\n",
        "result = [s for s in string_list if len(s) < 5]\n"
      ]
    },
    {
      "cell_type": "code",
      "execution_count": null,
      "id": "214024f7",
      "metadata": {
        "id": "214024f7"
      },
      "outputs": [],
      "source": [
        "# Type your answer between the quotes\n",
        "answer7 = ''"
      ]
    },
    {
      "cell_type": "code",
      "execution_count": null,
      "id": "e4a769df",
      "metadata": {
        "tags": [
          "hide_input"
        ],
        "id": "e4a769df"
      },
      "outputs": [],
      "source": [
        "# Hidden test cell (students shouldn't run this)\n",
        "assert answer7 == 'C'"
      ]
    }
  ],
  "metadata": {
    "colab": {
      "provenance": [],
      "include_colab_link": true
    }
  },
  "nbformat": 4,
  "nbformat_minor": 5
}