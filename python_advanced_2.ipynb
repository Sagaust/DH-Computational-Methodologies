{
  "cells": [
    {
      "cell_type": "markdown",
      "metadata": {
        "id": "view-in-github",
        "colab_type": "text"
      },
      "source": [
        "<a href=\"https://colab.research.google.com/github/Sagaust/DH-Computational-Methodologies/blob/main/python_advanced_2.ipynb\" target=\"_parent\"><img src=\"https://colab.research.google.com/assets/colab-badge.svg\" alt=\"Open In Colab\"/></a>"
      ]
    },
    {
      "cell_type": "markdown",
      "id": "0c14b694",
      "metadata": {
        "id": "0c14b694"
      },
      "source": [
        "\n",
        "## List Comprehension\n",
        "\n",
        "### Definition\n",
        "\n",
        "List comprehension is a concise way to create lists in Python. It can transform and filter data from one list (or other iterable) to produce a new list.\n",
        "\n",
        "### Structure\n",
        "\n",
        "The basic structure of a list comprehension is:\n",
        "```python\n",
        "[expression for item in iterable]\n",
        "```\n",
        "\n",
        "For example:\n",
        "```python\n",
        "squares = [x**2 for x in range(5)]\n",
        "print(squares)\n",
        "```\n",
        "\n",
        "Try creating a list comprehension below.\n"
      ]
    },
    {
      "cell_type": "code",
      "execution_count": null,
      "id": "4567d090",
      "metadata": {
        "id": "4567d090"
      },
      "outputs": [],
      "source": []
    },
    {
      "cell_type": "markdown",
      "id": "5972d569",
      "metadata": {
        "id": "5972d569"
      },
      "source": [
        "\n",
        "### Adding a Condition\n",
        "\n",
        "You can add conditions to filter items from the input iterable.\n",
        "\n",
        "Example:\n",
        "```python\n",
        "even_squares = [x**2 for x in range(10) if x % 2 == 0]\n",
        "print(even_squares)\n",
        "```\n",
        "\n",
        "Create a list comprehension with a condition below.\n"
      ]
    },
    {
      "cell_type": "code",
      "execution_count": null,
      "id": "1e67f4ba",
      "metadata": {
        "id": "1e67f4ba"
      },
      "outputs": [],
      "source": []
    },
    {
      "cell_type": "markdown",
      "id": "7f9d72ea",
      "metadata": {
        "id": "7f9d72ea"
      },
      "source": [
        "\n",
        "### Using Multiple Lists\n",
        "\n",
        "List comprehensions can iterate over multiple lists.\n",
        "\n",
        "Example:\n",
        "```python\n",
        "combined = [(x, y) for x in [1,2,3] for y in [3,1,4] if x != y]\n",
        "print(combined)\n",
        "```\n",
        "\n",
        "Combine two lists using list comprehension below.\n"
      ]
    },
    {
      "cell_type": "code",
      "execution_count": null,
      "id": "f9cf4d29",
      "metadata": {
        "id": "f9cf4d29"
      },
      "outputs": [],
      "source": []
    },
    {
      "cell_type": "markdown",
      "id": "ba119265",
      "metadata": {
        "id": "ba119265"
      },
      "source": [
        "\n",
        "## Tuples\n",
        "\n",
        "### Structure\n",
        "\n",
        "A tuple is similar to a list but is immutable. It's defined using parentheses `()`.\n",
        "\n",
        "Example:\n",
        "```python\n",
        "fruits = (\"apple\", \"banana\", \"cherry\")\n",
        "print(fruits)\n",
        "```\n",
        "\n",
        "Create your own tuple below.\n"
      ]
    },
    {
      "cell_type": "code",
      "execution_count": null,
      "id": "16bc62a4",
      "metadata": {
        "id": "16bc62a4"
      },
      "outputs": [],
      "source": []
    },
    {
      "cell_type": "markdown",
      "id": "d646f4bf",
      "metadata": {
        "id": "d646f4bf"
      },
      "source": [
        "\n",
        "### Creating a Tuple\n",
        "\n",
        "Tuples can be created using the `tuple()` constructor or by enclosing the elements in parentheses.\n",
        "\n",
        "Example:\n",
        "```python\n",
        "colors = tuple([\"red\", \"green\", \"blue\"])\n",
        "print(colors)\n",
        "```\n",
        "\n",
        "Create a tuple using the constructor below.\n"
      ]
    },
    {
      "cell_type": "code",
      "execution_count": null,
      "id": "cbcf3a22",
      "metadata": {
        "id": "cbcf3a22"
      },
      "outputs": [],
      "source": []
    },
    {
      "cell_type": "markdown",
      "id": "ea4b1a8c",
      "metadata": {
        "id": "ea4b1a8c"
      },
      "source": [
        "\n",
        "### Merging Tuples\n",
        "\n",
        "Tuples can be merged using the `+` operator.\n",
        "\n",
        "Example:\n",
        "```python\n",
        "tuple1 = (1, 2, 3)\n",
        "tuple2 = (4, 5, 6)\n",
        "merged_tuple = tuple1 + tuple2\n",
        "print(merged_tuple)\n",
        "```\n",
        "\n",
        "Merge two tuples below.\n"
      ]
    },
    {
      "cell_type": "code",
      "execution_count": null,
      "id": "551e2bcb",
      "metadata": {
        "id": "551e2bcb"
      },
      "outputs": [],
      "source": []
    },
    {
      "cell_type": "markdown",
      "id": "bf88596d",
      "metadata": {
        "id": "bf88596d"
      },
      "source": [
        "\n",
        "### Nested Tuples\n",
        "\n",
        "Tuples can contain other tuples.\n",
        "\n",
        "Example:\n",
        "```python\n",
        "nested = ((1, 2), (3, 4), (5, 6))\n",
        "print(nested[1][0])\n",
        "```\n",
        "\n",
        "Create a nested tuple below.\n"
      ]
    },
    {
      "cell_type": "code",
      "execution_count": null,
      "id": "f863d5df",
      "metadata": {
        "id": "f863d5df"
      },
      "outputs": [],
      "source": []
    },
    {
      "cell_type": "markdown",
      "id": "ff43caa8",
      "metadata": {
        "id": "ff43caa8"
      },
      "source": [
        "\n",
        "### Search\n",
        "\n",
        "You can find the index of an item in a tuple using the `index()` method.\n",
        "\n",
        "Example:\n",
        "```python\n",
        "numbers = (1, 2, 3, 4, 5)\n",
        "print(numbers.index(3))\n",
        "```\n",
        "\n",
        "Find the index of an item in a tuple below.\n"
      ]
    },
    {
      "cell_type": "code",
      "execution_count": null,
      "id": "e4af7ccb",
      "metadata": {
        "id": "e4af7ccb"
      },
      "outputs": [],
      "source": []
    },
    {
      "cell_type": "markdown",
      "id": "612ef059",
      "metadata": {
        "id": "612ef059"
      },
      "source": [
        "\n",
        "### Immutability\n",
        "\n",
        "Unlike lists, tuples are immutable, which means their values cannot be changed after they are created.\n",
        "\n",
        "Example:\n",
        "```python\n",
        "fruits = (\"apple\", \"banana\", \"cherry\")\n",
        "# This will raise an error:\n",
        "# fruits[0] = \"orange\"\n",
        "```\n",
        "\n",
        "Test the immutability of tuples below.\n"
      ]
    },
    {
      "cell_type": "code",
      "execution_count": null,
      "id": "e4afd0d5",
      "metadata": {
        "id": "e4afd0d5"
      },
      "outputs": [],
      "source": []
    },
    {
      "cell_type": "markdown",
      "id": "6b530155",
      "metadata": {
        "id": "6b530155"
      },
      "source": [
        "\n",
        "## Dictionaries\n",
        "\n",
        "### Structure\n",
        "\n",
        "A dictionary is an unordered collection of key-value pairs. It's defined using curly braces `{}`.\n",
        "\n",
        "Example:\n",
        "```python\n",
        "person = {\n",
        "    \"name\": \"Alice\",\n",
        "    \"age\": 30,\n",
        "    \"city\": \"New York\"\n",
        "}\n",
        "print(person)\n",
        "```\n",
        "\n",
        "Create your own dictionary below.\n"
      ]
    },
    {
      "cell_type": "code",
      "execution_count": null,
      "id": "af031f7a",
      "metadata": {
        "id": "af031f7a"
      },
      "outputs": [],
      "source": []
    },
    {
      "cell_type": "markdown",
      "id": "be1bfd1f",
      "metadata": {
        "id": "be1bfd1f"
      },
      "source": [
        "\n",
        "### Creating a Dictionary\n",
        "\n",
        "Dictionaries can be created using the `dict()` constructor or by enclosing key-value pairs in curly braces.\n",
        "\n",
        "Example:\n",
        "```python\n",
        "animal = dict(type=\"cat\", name=\"Whiskers\", age=2)\n",
        "print(animal)\n",
        "```\n",
        "\n",
        "Create a dictionary using the constructor below.\n"
      ]
    },
    {
      "cell_type": "code",
      "execution_count": null,
      "id": "b4d1cb22",
      "metadata": {
        "id": "b4d1cb22"
      },
      "outputs": [],
      "source": []
    },
    {
      "cell_type": "markdown",
      "id": "dcad76a8",
      "metadata": {
        "id": "dcad76a8"
      },
      "source": [
        "\n",
        "### The dict() Constructor\n",
        "\n",
        "You can create a dictionary from a list of tuples using the `dict()` constructor.\n",
        "\n",
        "Example:\n",
        "```python\n",
        "colors = dict([(\"red\", \"#FF0000\"), (\"green\", \"#00FF00\"), (\"blue\", \"#0000FF\")])\n",
        "print(colors)\n",
        "```\n",
        "\n",
        "Create a dictionary from a list of tuples below.\n"
      ]
    },
    {
      "cell_type": "code",
      "execution_count": null,
      "id": "a913cb04",
      "metadata": {
        "id": "a913cb04"
      },
      "outputs": [],
      "source": []
    },
    {
      "cell_type": "markdown",
      "id": "3e2c6173",
      "metadata": {
        "id": "3e2c6173"
      },
      "source": [
        "\n",
        "### Accessing Values\n",
        "\n",
        "You can access the value of a specific key using square brackets `[]`.\n",
        "\n",
        "Example:\n",
        "```python\n",
        "person = {\n",
        "    \"name\": \"Alice\",\n",
        "    \"age\": 30,\n",
        "    \"city\": \"New York\"\n",
        "}\n",
        "print(person[\"name\"])\n",
        "```\n",
        "\n",
        "Access a value from a dictionary below.\n"
      ]
    },
    {
      "cell_type": "code",
      "execution_count": null,
      "id": "28087d1a",
      "metadata": {
        "id": "28087d1a"
      },
      "outputs": [],
      "source": []
    },
    {
      "cell_type": "markdown",
      "id": "86a8d96a",
      "metadata": {
        "id": "86a8d96a"
      },
      "source": [
        "\n",
        "## Dictionary Operations\n"
      ]
    },
    {
      "cell_type": "code",
      "execution_count": null,
      "id": "8ea33d5f",
      "metadata": {
        "id": "8ea33d5f"
      },
      "outputs": [],
      "source": []
    },
    {
      "cell_type": "markdown",
      "id": "e962e181",
      "metadata": {
        "id": "e962e181"
      },
      "source": [
        "\n",
        "### Adding/Updating Entries\n",
        "\n",
        "You can add or update entries by assigning a value to a key.\n",
        "\n",
        "Example:\n",
        "```python\n",
        "person = {\n",
        "    \"name\": \"Alice\",\n",
        "    \"age\": 30\n",
        "}\n",
        "person[\"city\"] = \"New York\"\n",
        "print(person)\n",
        "```\n",
        "\n",
        "Add or update an entry in a dictionary below.\n"
      ]
    },
    {
      "cell_type": "code",
      "execution_count": null,
      "id": "9046132c",
      "metadata": {
        "id": "9046132c"
      },
      "outputs": [],
      "source": []
    },
    {
      "cell_type": "markdown",
      "id": "7b2cfd6d",
      "metadata": {
        "id": "7b2cfd6d"
      },
      "source": [
        "\n",
        "### Removing Entries\n",
        "\n",
        "You can remove an entry using the `del` statement.\n",
        "\n",
        "Example:\n",
        "```python\n",
        "person = {\n",
        "    \"name\": \"Alice\",\n",
        "    \"age\": 30,\n",
        "    \"city\": \"New York\"\n",
        "}\n",
        "del person[\"age\"]\n",
        "print(person)\n",
        "```\n",
        "\n",
        "Remove an entry from a dictionary below.\n"
      ]
    },
    {
      "cell_type": "code",
      "execution_count": null,
      "id": "fb7437ad",
      "metadata": {
        "id": "fb7437ad"
      },
      "outputs": [],
      "source": []
    },
    {
      "cell_type": "markdown",
      "id": "1f37049b",
      "metadata": {
        "id": "1f37049b"
      },
      "source": [
        "\n",
        "### Length of a Dictionary\n",
        "\n",
        "You can get the number of key-value pairs in a dictionary using the `len()` function.\n",
        "\n",
        "Example:\n",
        "```python\n",
        "person = {\n",
        "    \"name\": \"Alice\",\n",
        "    \"age\": 30,\n",
        "    \"city\": \"New York\"\n",
        "}\n",
        "print(len(person))\n",
        "```\n",
        "\n",
        "Find the length of a dictionary below.\n"
      ]
    },
    {
      "cell_type": "code",
      "execution_count": null,
      "id": "d61a47cc",
      "metadata": {
        "id": "d61a47cc"
      },
      "outputs": [],
      "source": []
    },
    {
      "cell_type": "markdown",
      "id": "7f9d7cd2",
      "metadata": {
        "id": "7f9d7cd2"
      },
      "source": [
        "\n",
        "### Checking Key Existence\n",
        "\n",
        "You can check if a key exists in a dictionary using the `in` keyword.\n",
        "\n",
        "Example:\n",
        "```python\n",
        "person = {\n",
        "    \"name\": \"Alice\",\n",
        "    \"age\": 30,\n",
        "    \"city\": \"New York\"\n",
        "}\n",
        "print(\"name\" in person)\n",
        "```\n",
        "\n",
        "Check for the existence of a key in a dictionary below.\n"
      ]
    },
    {
      "cell_type": "code",
      "execution_count": null,
      "id": "09cf31a3",
      "metadata": {
        "id": "09cf31a3"
      },
      "outputs": [],
      "source": []
    },
    {
      "cell_type": "markdown",
      "id": "14c71d68",
      "metadata": {
        "id": "14c71d68"
      },
      "source": [
        "\n",
        "### Copying Contents\n",
        "\n",
        "You can create a copy of a dictionary using the `copy()` method.\n",
        "\n",
        "Example:\n",
        "```python\n",
        "person = {\n",
        "    \"name\": \"Alice\",\n",
        "    \"age\": 30,\n",
        "    \"city\": \"New York\"\n",
        "}\n",
        "clone = person.copy()\n",
        "print(clone)\n",
        "```\n",
        "\n",
        "Copy the contents of a dictionary below.\n"
      ]
    },
    {
      "cell_type": "code",
      "execution_count": null,
      "id": "b5817da9",
      "metadata": {
        "id": "b5817da9"
      },
      "outputs": [],
      "source": []
    },
    {
      "cell_type": "markdown",
      "id": "fe94b003",
      "metadata": {
        "id": "fe94b003"
      },
      "source": [
        "\n",
        "### Dictionary Comprehension\n",
        "\n",
        "Similar to list comprehensions, dictionary comprehensions allow you to create dictionaries in a concise manner.\n",
        "\n",
        "Example:\n",
        "```python\n",
        "squares = {x: x**2 for x in range(5)}\n",
        "print(squares)\n",
        "```\n",
        "\n",
        "Create a dictionary comprehension below.\n"
      ]
    },
    {
      "cell_type": "code",
      "execution_count": null,
      "id": "a8416c51",
      "metadata": {
        "id": "a8416c51"
      },
      "outputs": [],
      "source": []
    },
    {
      "cell_type": "markdown",
      "id": "fcf74cb2",
      "metadata": {
        "id": "fcf74cb2"
      },
      "source": [
        "\n",
        "## List Comprehension\n",
        "\n",
        "### Definition\n",
        "\n",
        "List comprehension is a concise way to create lists in Python. It can transform and filter data from one list (or other iterable) to produce a new list.\n",
        "\n",
        "### Structure\n",
        "\n",
        "The basic structure of a list comprehension is:\n",
        "```python\n",
        "[expression for item in iterable]\n",
        "```\n",
        "\n",
        "For example:\n",
        "```python\n",
        "squares = [x**2 for x in range(5)]\n",
        "print(squares)\n",
        "```\n",
        "\n",
        "Try creating a list comprehension below.\n"
      ]
    },
    {
      "cell_type": "code",
      "execution_count": null,
      "id": "c244f17f",
      "metadata": {
        "id": "c244f17f"
      },
      "outputs": [],
      "source": []
    },
    {
      "cell_type": "markdown",
      "id": "62ec0d90",
      "metadata": {
        "id": "62ec0d90"
      },
      "source": [
        "\n",
        "### Adding a Condition\n",
        "\n",
        "You can add conditions to filter items from the input iterable.\n",
        "\n",
        "Example:\n",
        "```python\n",
        "even_squares = [x**2 for x in range(10) if x % 2 == 0]\n",
        "print(even_squares)\n",
        "```\n",
        "\n",
        "Create a list comprehension with a condition below.\n"
      ]
    },
    {
      "cell_type": "code",
      "execution_count": null,
      "id": "16f146d2",
      "metadata": {
        "id": "16f146d2"
      },
      "outputs": [],
      "source": []
    },
    {
      "cell_type": "markdown",
      "id": "26a07f03",
      "metadata": {
        "id": "26a07f03"
      },
      "source": [
        "\n",
        "### Using Multiple Lists\n",
        "\n",
        "List comprehensions can iterate over multiple lists.\n",
        "\n",
        "Example:\n",
        "```python\n",
        "combined = [(x, y) for x in [1,2,3] for y in [3,1,4] if x != y]\n",
        "print(combined)\n",
        "```\n",
        "\n",
        "Combine two lists using list comprehension below.\n"
      ]
    },
    {
      "cell_type": "code",
      "execution_count": null,
      "id": "385f58b2",
      "metadata": {
        "id": "385f58b2"
      },
      "outputs": [],
      "source": []
    },
    {
      "cell_type": "markdown",
      "id": "4650616f",
      "metadata": {
        "id": "4650616f"
      },
      "source": [
        "\n",
        "## Tuples\n",
        "\n",
        "### Structure\n",
        "\n",
        "A tuple is similar to a list but is immutable. It's defined using parentheses `()`.\n",
        "\n",
        "Example:\n",
        "```python\n",
        "fruits = (\"apple\", \"banana\", \"cherry\")\n",
        "print(fruits)\n",
        "```\n",
        "\n",
        "Create your own tuple below.\n"
      ]
    },
    {
      "cell_type": "code",
      "execution_count": null,
      "id": "8ee83607",
      "metadata": {
        "id": "8ee83607"
      },
      "outputs": [],
      "source": []
    },
    {
      "cell_type": "markdown",
      "id": "5c67b3db",
      "metadata": {
        "id": "5c67b3db"
      },
      "source": [
        "\n",
        "### Creating a Tuple\n",
        "\n",
        "Tuples can be created using the `tuple()` constructor or by enclosing the elements in parentheses.\n",
        "\n",
        "Example:\n",
        "```python\n",
        "colors = tuple([\"red\", \"green\", \"blue\"])\n",
        "print(colors)\n",
        "```\n",
        "\n",
        "Create a tuple using the constructor below.\n"
      ]
    },
    {
      "cell_type": "code",
      "execution_count": null,
      "id": "8d20402a",
      "metadata": {
        "id": "8d20402a"
      },
      "outputs": [],
      "source": []
    },
    {
      "cell_type": "markdown",
      "id": "bed7047a",
      "metadata": {
        "id": "bed7047a"
      },
      "source": [
        "\n",
        "### Merging Tuples\n",
        "\n",
        "Tuples can be merged using the `+` operator.\n",
        "\n",
        "Example:\n",
        "```python\n",
        "tuple1 = (1, 2, 3)\n",
        "tuple2 = (4, 5, 6)\n",
        "merged_tuple = tuple1 + tuple2\n",
        "print(merged_tuple)\n",
        "```\n",
        "\n",
        "Merge two tuples below.\n"
      ]
    },
    {
      "cell_type": "code",
      "execution_count": null,
      "id": "8e413356",
      "metadata": {
        "id": "8e413356"
      },
      "outputs": [],
      "source": []
    },
    {
      "cell_type": "markdown",
      "id": "b18a830b",
      "metadata": {
        "id": "b18a830b"
      },
      "source": [
        "\n",
        "### Nested Tuples\n",
        "\n",
        "Tuples can contain other tuples.\n",
        "\n",
        "Example:\n",
        "```python\n",
        "nested = ((1, 2), (3, 4), (5, 6))\n",
        "print(nested[1][0])\n",
        "```\n",
        "\n",
        "Create a nested tuple below.\n"
      ]
    },
    {
      "cell_type": "code",
      "execution_count": null,
      "id": "fd61b051",
      "metadata": {
        "id": "fd61b051"
      },
      "outputs": [],
      "source": []
    },
    {
      "cell_type": "markdown",
      "id": "31eb88f6",
      "metadata": {
        "id": "31eb88f6"
      },
      "source": [
        "\n",
        "### Search\n",
        "\n",
        "You can find the index of an item in a tuple using the `index()` method.\n",
        "\n",
        "Example:\n",
        "```python\n",
        "numbers = (1, 2, 3, 4, 5)\n",
        "print(numbers.index(3))\n",
        "```\n",
        "\n",
        "Find the index of an item in a tuple below.\n"
      ]
    },
    {
      "cell_type": "code",
      "execution_count": null,
      "id": "d6d54321",
      "metadata": {
        "id": "d6d54321"
      },
      "outputs": [],
      "source": []
    },
    {
      "cell_type": "markdown",
      "id": "52a63291",
      "metadata": {
        "id": "52a63291"
      },
      "source": [
        "\n",
        "### Immutability\n",
        "\n",
        "Unlike lists, tuples are immutable, which means their values cannot be changed after they are created.\n",
        "\n",
        "Example:\n",
        "```python\n",
        "fruits = (\"apple\", \"banana\", \"cherry\")\n",
        "# This will raise an error:\n",
        "# fruits[0] = \"orange\"\n",
        "```\n",
        "\n",
        "Test the immutability of tuples below.\n"
      ]
    },
    {
      "cell_type": "code",
      "execution_count": null,
      "id": "bd2d06a6",
      "metadata": {
        "id": "bd2d06a6"
      },
      "outputs": [],
      "source": []
    },
    {
      "cell_type": "markdown",
      "id": "4bc5c2bf",
      "metadata": {
        "id": "4bc5c2bf"
      },
      "source": [
        "\n",
        "## Dictionaries\n",
        "\n",
        "### Structure\n",
        "\n",
        "A dictionary is an unordered collection of key-value pairs. It's defined using curly braces `{}`.\n",
        "\n",
        "Example:\n",
        "```python\n",
        "person = {\n",
        "    \"name\": \"Alice\",\n",
        "    \"age\": 30,\n",
        "    \"city\": \"New York\"\n",
        "}\n",
        "print(person)\n",
        "```\n",
        "\n",
        "Create your own dictionary below.\n"
      ]
    },
    {
      "cell_type": "code",
      "execution_count": null,
      "id": "728b30ac",
      "metadata": {
        "id": "728b30ac"
      },
      "outputs": [],
      "source": []
    },
    {
      "cell_type": "markdown",
      "id": "1f3820b1",
      "metadata": {
        "id": "1f3820b1"
      },
      "source": [
        "\n",
        "### Creating a Dictionary\n",
        "\n",
        "Dictionaries can be created using the `dict()` constructor or by enclosing key-value pairs in curly braces.\n",
        "\n",
        "Example:\n",
        "```python\n",
        "animal = dict(type=\"cat\", name=\"Whiskers\", age=2)\n",
        "print(animal)\n",
        "```\n",
        "\n",
        "Create a dictionary using the constructor below.\n"
      ]
    },
    {
      "cell_type": "code",
      "execution_count": null,
      "id": "67492bb5",
      "metadata": {
        "id": "67492bb5"
      },
      "outputs": [],
      "source": []
    },
    {
      "cell_type": "markdown",
      "id": "26d826c2",
      "metadata": {
        "id": "26d826c2"
      },
      "source": [
        "\n",
        "### The dict() Constructor\n",
        "\n",
        "You can create a dictionary from a list of tuples using the `dict()` constructor.\n",
        "\n",
        "Example:\n",
        "```python\n",
        "colors = dict([(\"red\", \"#FF0000\"), (\"green\", \"#00FF00\"), (\"blue\", \"#0000FF\")])\n",
        "print(colors)\n",
        "```\n",
        "\n",
        "Create a dictionary from a list of tuples below.\n"
      ]
    },
    {
      "cell_type": "code",
      "execution_count": null,
      "id": "c0474bb1",
      "metadata": {
        "id": "c0474bb1"
      },
      "outputs": [],
      "source": []
    },
    {
      "cell_type": "markdown",
      "id": "ecd9418c",
      "metadata": {
        "id": "ecd9418c"
      },
      "source": [
        "\n",
        "### Accessing Values\n",
        "\n",
        "You can access the value of a specific key using square brackets `[]`.\n",
        "\n",
        "Example:\n",
        "```python\n",
        "person = {\n",
        "    \"name\": \"Alice\",\n",
        "    \"age\": 30,\n",
        "    \"city\": \"New York\"\n",
        "}\n",
        "print(person[\"name\"])\n",
        "```\n",
        "\n",
        "Access a value from a dictionary below.\n"
      ]
    },
    {
      "cell_type": "code",
      "execution_count": null,
      "id": "8073f0c0",
      "metadata": {
        "id": "8073f0c0"
      },
      "outputs": [],
      "source": []
    },
    {
      "cell_type": "markdown",
      "id": "268ebd9b",
      "metadata": {
        "id": "268ebd9b"
      },
      "source": [
        "\n",
        "## Dictionary Operations\n"
      ]
    },
    {
      "cell_type": "code",
      "execution_count": null,
      "id": "a8a75b75",
      "metadata": {
        "id": "a8a75b75"
      },
      "outputs": [],
      "source": []
    },
    {
      "cell_type": "markdown",
      "id": "c7224c1a",
      "metadata": {
        "id": "c7224c1a"
      },
      "source": [
        "\n",
        "### Adding/Updating Entries\n",
        "\n",
        "You can add or update entries by assigning a value to a key.\n",
        "\n",
        "Example:\n",
        "```python\n",
        "person = {\n",
        "    \"name\": \"Alice\",\n",
        "    \"age\": 30\n",
        "}\n",
        "person[\"city\"] = \"New York\"\n",
        "print(person)\n",
        "```\n",
        "\n",
        "Add or update an entry in a dictionary below.\n"
      ]
    },
    {
      "cell_type": "code",
      "execution_count": null,
      "id": "e6452a75",
      "metadata": {
        "id": "e6452a75"
      },
      "outputs": [],
      "source": []
    },
    {
      "cell_type": "markdown",
      "id": "e53d8f15",
      "metadata": {
        "id": "e53d8f15"
      },
      "source": [
        "\n",
        "### Removing Entries\n",
        "\n",
        "You can remove an entry using the `del` statement.\n",
        "\n",
        "Example:\n",
        "```python\n",
        "person = {\n",
        "    \"name\": \"Alice\",\n",
        "    \"age\": 30,\n",
        "    \"city\": \"New York\"\n",
        "}\n",
        "del person[\"age\"]\n",
        "print(person)\n",
        "```\n",
        "\n",
        "Remove an entry from a dictionary below.\n"
      ]
    },
    {
      "cell_type": "code",
      "execution_count": null,
      "id": "361d0731",
      "metadata": {
        "id": "361d0731"
      },
      "outputs": [],
      "source": []
    },
    {
      "cell_type": "markdown",
      "id": "572bb9c0",
      "metadata": {
        "id": "572bb9c0"
      },
      "source": [
        "\n",
        "### Length of a Dictionary\n",
        "\n",
        "You can get the number of key-value pairs in a dictionary using the `len()` function.\n",
        "\n",
        "Example:\n",
        "```python\n",
        "person = {\n",
        "    \"name\": \"Alice\",\n",
        "    \"age\": 30,\n",
        "    \"city\": \"New York\"\n",
        "}\n",
        "print(len(person))\n",
        "```\n",
        "\n",
        "Find the length of a dictionary below.\n"
      ]
    },
    {
      "cell_type": "code",
      "execution_count": null,
      "id": "d8cc778a",
      "metadata": {
        "id": "d8cc778a"
      },
      "outputs": [],
      "source": []
    },
    {
      "cell_type": "markdown",
      "id": "0f73b538",
      "metadata": {
        "id": "0f73b538"
      },
      "source": [
        "\n",
        "### Checking Key Existence\n",
        "\n",
        "You can check if a key exists in a dictionary using the `in` keyword.\n",
        "\n",
        "Example:\n",
        "```python\n",
        "person = {\n",
        "    \"name\": \"Alice\",\n",
        "    \"age\": 30,\n",
        "    \"city\": \"New York\"\n",
        "}\n",
        "print(\"name\" in person)\n",
        "```\n",
        "\n",
        "Check for the existence of a key in a dictionary below.\n"
      ]
    },
    {
      "cell_type": "code",
      "execution_count": null,
      "id": "04b527b9",
      "metadata": {
        "id": "04b527b9"
      },
      "outputs": [],
      "source": []
    },
    {
      "cell_type": "markdown",
      "id": "3402e23a",
      "metadata": {
        "id": "3402e23a"
      },
      "source": [
        "\n",
        "### Copying Contents\n",
        "\n",
        "You can create a copy of a dictionary using the `copy()` method.\n",
        "\n",
        "Example:\n",
        "```python\n",
        "person = {\n",
        "    \"name\": \"Alice\",\n",
        "    \"age\": 30,\n",
        "    \"city\": \"New York\"\n",
        "}\n",
        "clone = person.copy()\n",
        "print(clone)\n",
        "```\n",
        "\n",
        "Copy the contents of a dictionary below.\n"
      ]
    },
    {
      "cell_type": "code",
      "execution_count": null,
      "id": "51f0ee97",
      "metadata": {
        "id": "51f0ee97"
      },
      "outputs": [],
      "source": []
    },
    {
      "cell_type": "markdown",
      "id": "25b9319d",
      "metadata": {
        "id": "25b9319d"
      },
      "source": [
        "\n",
        "### Dictionary Comprehension\n",
        "\n",
        "Similar to list comprehensions, dictionary comprehensions allow you to create dictionaries in a concise manner.\n",
        "\n",
        "Example:\n",
        "```python\n",
        "squares = {x: x**2 for x in range(5)}\n",
        "print(squares)\n",
        "```\n",
        "\n",
        "Create a dictionary comprehension below.\n"
      ]
    },
    {
      "cell_type": "code",
      "execution_count": null,
      "id": "b5fc017d",
      "metadata": {
        "id": "b5fc017d"
      },
      "outputs": [],
      "source": []
    }
  ],
  "metadata": {
    "colab": {
      "provenance": [],
      "include_colab_link": true
    }
  },
  "nbformat": 4,
  "nbformat_minor": 5
}