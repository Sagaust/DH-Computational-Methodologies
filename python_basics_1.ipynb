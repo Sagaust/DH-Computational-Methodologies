{
  "cells": [
    {
      "cell_type": "markdown",
      "metadata": {
        "id": "view-in-github",
        "colab_type": "text"
      },
      "source": [
        "<a href=\"https://colab.research.google.com/github/Sagaust/DH-Computational-Methodologies/blob/main/python_basics_1.ipynb\" target=\"_parent\"><img src=\"https://colab.research.google.com/assets/colab-badge.svg\" alt=\"Open In Colab\"/></a>"
      ]
    },
    {
      "cell_type": "markdown",
      "id": "4b664cb5",
      "metadata": {
        "id": "4b664cb5"
      },
      "source": [
        "\n",
        "# Python Basics and Lists for Beginners\n",
        "\n",
        "Welcome to this introductory notebook on Python basics and list operations. This notebook is designed for beginners\n",
        "who are looking to get hands-on experience with Python's fundamental concepts. Feel free to run each code cell\n",
        "and experiment with the examples provided.\n",
        "\n",
        "Let's dive in!\n"
      ]
    },
    {
      "cell_type": "code",
      "execution_count": null,
      "id": "0f215ad4",
      "metadata": {
        "id": "0f215ad4"
      },
      "outputs": [],
      "source": []
    },
    {
      "cell_type": "markdown",
      "id": "b47d42fe",
      "metadata": {
        "id": "b47d42fe"
      },
      "source": [
        "\n",
        "## Basics\n",
        "\n",
        "### Data Types\n",
        "\n",
        "In Python, everything is an object and every object has a type. Here are some basic data types:\n",
        "\n",
        "- Integers (e.g., `5`)\n",
        "- Floats (e.g., `5.0`)\n",
        "- Strings (e.g., `\"Hello\"`)\n",
        "- Boolean (e.g., `True` or `False`)\n",
        "\n",
        "Let's see them in action:\n"
      ]
    },
    {
      "cell_type": "code",
      "execution_count": null,
      "id": "c302369a",
      "metadata": {
        "id": "c302369a"
      },
      "outputs": [],
      "source": []
    },
    {
      "cell_type": "markdown",
      "id": "913c2527",
      "metadata": {
        "id": "913c2527"
      },
      "source": [
        "\n",
        "### Variables\n",
        "\n",
        "A variable is a name that refers to a value. To create a variable, you use the assignment operator `=`.\n",
        "\n",
        "Example:\n",
        "```python\n",
        "message = \"Hello, World!\"\n",
        "print(message)\n",
        "```\n",
        "\n",
        "Try it out below!\n"
      ]
    },
    {
      "cell_type": "code",
      "execution_count": null,
      "id": "5bcd27a1",
      "metadata": {
        "id": "5bcd27a1"
      },
      "outputs": [],
      "source": []
    },
    {
      "cell_type": "markdown",
      "id": "3308b136",
      "metadata": {
        "id": "3308b136"
      },
      "source": [
        "\n",
        "### Operators/Expressions\n",
        "\n",
        "Python provides several operators to perform basic operations:\n",
        "\n",
        "- Arithmetic operators (`+`, `-`, `*`, `/`, `//`, `%`, `**`)\n",
        "- Comparison operators (`==`, `!=`, `<`, `>`, `<=`, `>=`)\n",
        "- Logical operators (`and`, `or`, `not`)\n",
        "\n",
        "Example:\n",
        "```python\n",
        "a = 10\n",
        "b = 20\n",
        "print(a + b)\n",
        "print(a == b)\n",
        "print(a < b and a != b)\n",
        "```\n",
        "\n",
        "Experiment with different operators in the code cell below.\n"
      ]
    },
    {
      "cell_type": "code",
      "execution_count": null,
      "id": "18b559f2",
      "metadata": {
        "id": "18b559f2"
      },
      "outputs": [],
      "source": []
    },
    {
      "cell_type": "markdown",
      "id": "35fefc79",
      "metadata": {
        "id": "35fefc79"
      },
      "source": [
        "\n",
        "### Conditional Statements\n",
        "\n",
        "The `if` statement allows you to conditionally execute a block of code.\n",
        "\n",
        "Example:\n",
        "```python\n",
        "age = 18\n",
        "if age >= 18:\n",
        "    print(\"You are an adult!\")\n",
        "else:\n",
        "    print(\"You are a minor!\")\n",
        "```\n",
        "\n",
        "Try creating your own conditions below!\n"
      ]
    },
    {
      "cell_type": "code",
      "execution_count": null,
      "id": "8a061fc8",
      "metadata": {
        "id": "8a061fc8"
      },
      "outputs": [],
      "source": []
    },
    {
      "cell_type": "markdown",
      "id": "0d77bbe5",
      "metadata": {
        "id": "0d77bbe5"
      },
      "source": [
        "\n",
        "### Functions\n",
        "\n",
        "Functions are blocks of reusable code. You can define your own functions using the `def` keyword.\n",
        "\n",
        "Example:\n",
        "```python\n",
        "def greet(name):\n",
        "    return \"Hello, \" + name + \"!\"\n",
        "\n",
        "print(greet(\"Alice\"))\n",
        "```\n",
        "\n",
        "Define your own function in the code cell below.\n"
      ]
    },
    {
      "cell_type": "code",
      "execution_count": null,
      "id": "ce45a05b",
      "metadata": {
        "id": "ce45a05b"
      },
      "outputs": [],
      "source": []
    },
    {
      "cell_type": "markdown",
      "id": "c54f428e",
      "metadata": {
        "id": "c54f428e"
      },
      "source": [
        "\n",
        "### Strings\n",
        "\n",
        "Strings are sequences of characters. You can manipulate, slice, and concatenate them.\n",
        "\n",
        "Example:\n",
        "```python\n",
        "text = \"Python\"\n",
        "print(text[1:4])\n",
        "print(text * 2)\n",
        "```\n",
        "\n",
        "Experiment with string operations below!\n"
      ]
    },
    {
      "cell_type": "code",
      "execution_count": null,
      "id": "f5459f62",
      "metadata": {
        "id": "f5459f62"
      },
      "outputs": [],
      "source": []
    },
    {
      "cell_type": "markdown",
      "id": "d080a1f5",
      "metadata": {
        "id": "d080a1f5"
      },
      "source": [
        "\n",
        "### Recursion\n",
        "\n",
        "Recursion is a method of solving problems where the function calls itself as a subroutine.\n",
        "\n",
        "Example:\n",
        "```python\n",
        "def factorial(n):\n",
        "    if n == 1:\n",
        "        return 1\n",
        "    else:\n",
        "        return n * factorial(n-1)\n",
        "\n",
        "print(factorial(5))\n",
        "```\n",
        "\n",
        "Try creating a recursive function below!\n"
      ]
    },
    {
      "cell_type": "code",
      "execution_count": null,
      "id": "a43fa89a",
      "metadata": {
        "id": "a43fa89a"
      },
      "outputs": [],
      "source": []
    },
    {
      "cell_type": "markdown",
      "id": "779d5a1a",
      "metadata": {
        "id": "779d5a1a"
      },
      "source": [
        "\n",
        "## Loops\n",
        "\n",
        "Loops allow you to execute a block of code multiple times. Python provides `for` and `while` loops.\n",
        "\n",
        "Example:\n",
        "```python\n",
        "for i in range(5):\n",
        "    print(i)\n",
        "```\n",
        "\n",
        "Experiment with loops in the code cell below.\n"
      ]
    },
    {
      "cell_type": "code",
      "execution_count": null,
      "id": "c23f0b15",
      "metadata": {
        "id": "c23f0b15"
      },
      "outputs": [],
      "source": []
    },
    {
      "cell_type": "markdown",
      "id": "3a7d597b",
      "metadata": {
        "id": "3a7d597b"
      },
      "source": [
        "\n",
        "## Lists\n",
        "\n",
        "A list is a collection of items, which can be of any type. Lists are ordered, mutable, and indexed.\n",
        "\n",
        "### Structure\n",
        "\n",
        "Example:\n",
        "```python\n",
        "fruits = [\"apple\", \"banana\", \"cherry\"]\n",
        "print(fruits)\n",
        "```\n",
        "\n",
        "Create your own list below!\n"
      ]
    },
    {
      "cell_type": "code",
      "execution_count": null,
      "id": "30a8d771",
      "metadata": {
        "id": "30a8d771"
      },
      "outputs": [],
      "source": []
    },
    {
      "cell_type": "markdown",
      "id": "db617bc2",
      "metadata": {
        "id": "db617bc2"
      },
      "source": [
        "\n",
        "### Creating a List\n",
        "\n",
        "You can create a list using square brackets `[]`.\n",
        "\n",
        "Example:\n",
        "```python\n",
        "animals = [\"cat\", \"dog\", \"elephant\"]\n",
        "print(animals)\n",
        "```\n",
        "\n",
        "Create a list of your favorite movies below.\n"
      ]
    },
    {
      "cell_type": "code",
      "execution_count": null,
      "id": "5690760b",
      "metadata": {
        "id": "5690760b"
      },
      "outputs": [],
      "source": []
    },
    {
      "cell_type": "markdown",
      "id": "33c6b8c0",
      "metadata": {
        "id": "33c6b8c0"
      },
      "source": [
        "\n",
        "### Using range()\n",
        "\n",
        "The `range()` function returns a sequence of numbers. It's often used in loops.\n",
        "\n",
        "Example:\n",
        "```python\n",
        "numbers = list(range(1, 6))\n",
        "print(numbers)\n",
        "```\n",
        "\n",
        "Use the range function to create a list of numbers below.\n"
      ]
    },
    {
      "cell_type": "code",
      "execution_count": null,
      "id": "20a3a782",
      "metadata": {
        "id": "20a3a782"
      },
      "outputs": [],
      "source": []
    },
    {
      "cell_type": "markdown",
      "id": "bee210e5",
      "metadata": {
        "id": "bee210e5"
      },
      "source": [
        "\n",
        "### List-Ception! (Nested Lists)\n",
        "\n",
        "Lists can contain other lists.\n",
        "\n",
        "Example:\n",
        "```python\n",
        "matrix = [[1, 2, 3], [4, 5, 6], [7, 8, 9]]\n",
        "print(matrix[1][2])\n",
        "```\n",
        "\n",
        "Create a nested list below.\n"
      ]
    },
    {
      "cell_type": "code",
      "execution_count": null,
      "id": "b627d8ba",
      "metadata": {
        "id": "b627d8ba"
      },
      "outputs": [],
      "source": []
    },
    {
      "cell_type": "markdown",
      "id": "8f59094b",
      "metadata": {
        "id": "8f59094b"
      },
      "source": [
        "\n",
        "### Sequential Indexing\n",
        "\n",
        "You can access elements of a list by their index.\n",
        "\n",
        "Example:\n",
        "```python\n",
        "colors = [\"red\", \"green\", \"blue\"]\n",
        "print(colors[1])\n",
        "```\n",
        "\n",
        "Try accessing elements from a list below.\n"
      ]
    },
    {
      "cell_type": "code",
      "execution_count": null,
      "id": "a0ec43fc",
      "metadata": {
        "id": "a0ec43fc"
      },
      "outputs": [],
      "source": []
    },
    {
      "cell_type": "markdown",
      "id": "35f62e77",
      "metadata": {
        "id": "35f62e77"
      },
      "source": [
        "\n",
        "### Merging Lists\n",
        "\n",
        "You can combine or merge lists using the `+` operator.\n",
        "\n",
        "Example:\n",
        "```python\n",
        "list1 = [1, 2, 3]\n",
        "list2 = [4, 5, 6]\n",
        "merged_list = list1 + list2\n",
        "print(merged_list)\n",
        "```\n",
        "\n",
        "Merge two lists below.\n"
      ]
    },
    {
      "cell_type": "code",
      "execution_count": null,
      "id": "699d3ea2",
      "metadata": {
        "id": "699d3ea2"
      },
      "outputs": [],
      "source": []
    },
    {
      "cell_type": "markdown",
      "id": "3fc61e4c",
      "metadata": {
        "id": "3fc61e4c"
      },
      "source": [
        "\n",
        "## Common List Operations\n",
        "\n",
        "Lists are versatile and come with a variety of built-in methods.\n"
      ]
    },
    {
      "cell_type": "code",
      "execution_count": null,
      "id": "6f690a3f",
      "metadata": {
        "id": "6f690a3f"
      },
      "outputs": [],
      "source": []
    },
    {
      "cell_type": "markdown",
      "id": "15693573",
      "metadata": {
        "id": "15693573"
      },
      "source": [
        "\n",
        "### Adding Elements\n",
        "\n",
        "You can add elements to a list using the `append()` method.\n",
        "\n",
        "Example:\n",
        "```python\n",
        "fruits = [\"apple\", \"banana\"]\n",
        "fruits.append(\"cherry\")\n",
        "print(fruits)\n",
        "```\n",
        "\n",
        "Add elements to a list below.\n"
      ]
    },
    {
      "cell_type": "code",
      "execution_count": null,
      "id": "1ae80c8c",
      "metadata": {
        "id": "1ae80c8c"
      },
      "outputs": [],
      "source": []
    },
    {
      "cell_type": "markdown",
      "id": "b6a2d351",
      "metadata": {
        "id": "b6a2d351"
      },
      "source": [
        "\n",
        "### Removing Elements\n",
        "\n",
        "You can remove elements from a list using the `remove()` method.\n",
        "\n",
        "Example:\n",
        "```python\n",
        "fruits = [\"apple\", \"banana\", \"cherry\"]\n",
        "fruits.remove(\"banana\")\n",
        "print(fruits)\n",
        "```\n",
        "\n",
        "Remove an element from a list below.\n"
      ]
    },
    {
      "cell_type": "code",
      "execution_count": null,
      "id": "09a1a046",
      "metadata": {
        "id": "09a1a046"
      },
      "outputs": [],
      "source": []
    },
    {
      "cell_type": "markdown",
      "id": "3648fedd",
      "metadata": {
        "id": "3648fedd"
      },
      "source": [
        "\n",
        "### List Slicing\n",
        "\n",
        "You can slice a list to get a subset of its elements.\n",
        "\n",
        "Example:\n",
        "```python\n",
        "numbers = [0, 1, 2, 3, 4, 5]\n",
        "print(numbers[2:5])\n",
        "```\n",
        "\n",
        "Slice a list below.\n"
      ]
    },
    {
      "cell_type": "code",
      "execution_count": null,
      "id": "6564a2b6",
      "metadata": {
        "id": "6564a2b6"
      },
      "outputs": [],
      "source": []
    },
    {
      "cell_type": "markdown",
      "id": "ca183ae0",
      "metadata": {
        "id": "ca183ae0"
      },
      "source": [
        "\n",
        "### Index Search\n",
        "\n",
        "You can find the index of an element using the `index()` method.\n",
        "\n",
        "Example:\n",
        "```python\n",
        "fruits = [\"apple\", \"banana\", \"cherry\"]\n",
        "print(fruits.index(\"cherry\"))\n",
        "```\n",
        "\n",
        "Find the index of an element in a list below.\n"
      ]
    },
    {
      "cell_type": "code",
      "execution_count": null,
      "id": "4fce75db",
      "metadata": {
        "id": "4fce75db"
      },
      "outputs": [],
      "source": []
    },
    {
      "cell_type": "markdown",
      "id": "f51e4457",
      "metadata": {
        "id": "f51e4457"
      },
      "source": [
        "\n",
        "### List Sort\n",
        "\n",
        "You can sort a list using the `sort()` method.\n",
        "\n",
        "Example:\n",
        "```python\n",
        "numbers = [3, 1, 4, 2]\n",
        "numbers.sort()\n",
        "print(numbers)\n",
        "```\n",
        "\n",
        "Sort a list below.\n"
      ]
    },
    {
      "cell_type": "code",
      "execution_count": null,
      "id": "6e2c1943",
      "metadata": {
        "id": "6e2c1943"
      },
      "outputs": [],
      "source": []
    }
  ],
  "metadata": {
    "colab": {
      "provenance": [],
      "include_colab_link": true
    }
  },
  "nbformat": 4,
  "nbformat_minor": 5
}