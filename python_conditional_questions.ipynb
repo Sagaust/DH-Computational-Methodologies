{
  "cells": [
    {
      "cell_type": "markdown",
      "metadata": {
        "id": "view-in-github",
        "colab_type": "text"
      },
      "source": [
        "<a href=\"https://colab.research.google.com/github/Sagaust/DH-Computational-Methodologies/blob/main/python_conditional_questions.ipynb\" target=\"_parent\"><img src=\"https://colab.research.google.com/assets/colab-badge.svg\" alt=\"Open In Colab\"/></a>"
      ]
    },
    {
      "cell_type": "markdown",
      "id": "cf865000",
      "metadata": {
        "id": "cf865000"
      },
      "source": [
        "\n",
        "### Question 1:\n",
        "\n",
        "Given the code:\n",
        "\n",
        "```python\n",
        "x = 5\n",
        "response = \"\"\n",
        "if x > 3:\n",
        "    response = \"Greater\"\n",
        "```\n",
        "\n",
        "What is the value of `response` at the end?\n",
        "\n",
        "A) \"\"  \n",
        "B) \"Greater\"  \n",
        "C) \"Lesser\"  \n",
        "D) None  \n",
        "\n"
      ]
    },
    {
      "cell_type": "code",
      "execution_count": null,
      "id": "8f228395",
      "metadata": {
        "id": "8f228395"
      },
      "outputs": [],
      "source": []
    },
    {
      "cell_type": "markdown",
      "id": "f03dbae6",
      "metadata": {
        "id": "f03dbae6"
      },
      "source": [
        "\n",
        "x = 5\n",
        "response = \"\"\n",
        "if x > 3:\n",
        "    response = \"Greater\"\n"
      ]
    },
    {
      "cell_type": "code",
      "execution_count": null,
      "id": "74605313",
      "metadata": {
        "id": "74605313"
      },
      "outputs": [],
      "source": []
    },
    {
      "cell_type": "markdown",
      "id": "f70e73df",
      "metadata": {
        "id": "f70e73df"
      },
      "source": [
        "\n",
        "#### Explanation:\n",
        "\n",
        "The code checks if `x` is greater than 3. Since `x` is 5, which is indeed greater than 3, the code inside the `if` block executes, setting `response` to \"Greater\".\n",
        "\n",
        "Correct answer: **B**\n"
      ]
    },
    {
      "cell_type": "code",
      "execution_count": null,
      "id": "6d062bc0",
      "metadata": {
        "id": "6d062bc0"
      },
      "outputs": [],
      "source": []
    },
    {
      "cell_type": "markdown",
      "id": "ebb8309c",
      "metadata": {
        "id": "ebb8309c"
      },
      "source": [
        "\n",
        "### Question 2:\n",
        "\n",
        "Given the code:\n",
        "\n",
        "```python\n",
        "y = 2\n",
        "result = \"\"\n",
        "if y % 2 == 0:\n",
        "    result = \"Even\"\n",
        "else:\n",
        "    result = \"Odd\"\n",
        "```\n",
        "\n",
        "What is the value of `result` at the end?\n",
        "\n",
        "A) \"Even\"  \n",
        "B) \"Odd\"  \n",
        "C) \"\"  \n",
        "D) None  \n",
        "\n"
      ]
    },
    {
      "cell_type": "code",
      "execution_count": null,
      "id": "1f0d0355",
      "metadata": {
        "id": "1f0d0355"
      },
      "outputs": [],
      "source": []
    },
    {
      "cell_type": "markdown",
      "id": "5d9fe450",
      "metadata": {
        "id": "5d9fe450"
      },
      "source": [
        "\n",
        "y = 2\n",
        "result = \"\"\n",
        "if y % 2 == 0:\n",
        "    result = \"Even\"\n",
        "else:\n",
        "    result = \"Odd\"\n"
      ]
    },
    {
      "cell_type": "code",
      "execution_count": null,
      "id": "5fa30ac2",
      "metadata": {
        "id": "5fa30ac2"
      },
      "outputs": [],
      "source": []
    },
    {
      "cell_type": "markdown",
      "id": "8b112aef",
      "metadata": {
        "id": "8b112aef"
      },
      "source": [
        "\n",
        "#### Explanation:\n",
        "\n",
        "The code checks if `y` is even by taking its modulus with 2. If `y` is even, `y % 2` will be 0. In this case, `y` is 2, which is even, so the `result` is set to \"Even\".\n",
        "\n",
        "Correct answer: **A**\n"
      ]
    },
    {
      "cell_type": "code",
      "execution_count": null,
      "id": "92ebb3b4",
      "metadata": {
        "id": "92ebb3b4"
      },
      "outputs": [],
      "source": []
    },
    {
      "cell_type": "markdown",
      "id": "94e78fe0",
      "metadata": {
        "id": "94e78fe0"
      },
      "source": [
        "\n",
        "### Question 3:\n",
        "\n",
        "Given the code:\n",
        "\n",
        "```python\n",
        "z = 0\n",
        "label = \"\"\n",
        "if z > 0:\n",
        "    label = \"Positive\"\n",
        "elif z < 0:\n",
        "    label = \"Negative\"\n",
        "else:\n",
        "    label = \"Zero\"\n",
        "```\n",
        "\n",
        "What is the value of `label` at the end?\n",
        "\n",
        "A) \"Positive\"  \n",
        "B) \"Negative\"  \n",
        "C) \"Zero\"  \n",
        "D) \"\"  \n",
        "\n"
      ]
    },
    {
      "cell_type": "code",
      "execution_count": null,
      "id": "8149c080",
      "metadata": {
        "id": "8149c080"
      },
      "outputs": [],
      "source": []
    },
    {
      "cell_type": "markdown",
      "id": "fe21ac0a",
      "metadata": {
        "id": "fe21ac0a"
      },
      "source": [
        "\n",
        "z = 0\n",
        "label = \"\"\n",
        "if z > 0:\n",
        "    label = \"Positive\"\n",
        "elif z < 0:\n",
        "    label = \"Negative\"\n",
        "else:\n",
        "    label = \"Zero\"\n"
      ]
    },
    {
      "cell_type": "code",
      "execution_count": null,
      "id": "50eb6175",
      "metadata": {
        "id": "50eb6175"
      },
      "outputs": [],
      "source": []
    },
    {
      "cell_type": "markdown",
      "id": "05117c77",
      "metadata": {
        "id": "05117c77"
      },
      "source": [
        "\n",
        "#### Explanation:\n",
        "\n",
        "The code checks if `z` is positive, negative, or zero using the `if-elif-else` structure. Since `z` is 0, the code inside the `else` block executes, setting `label` to \"Zero\".\n",
        "\n",
        "Correct answer: **C**\n"
      ]
    },
    {
      "cell_type": "code",
      "execution_count": null,
      "id": "80afcd27",
      "metadata": {
        "id": "80afcd27"
      },
      "outputs": [],
      "source": []
    },
    {
      "cell_type": "markdown",
      "id": "cd5a0553",
      "metadata": {
        "id": "cd5a0553"
      },
      "source": [
        "\n",
        "### Question 4:\n",
        "\n",
        "Given the code:\n",
        "\n",
        "```python\n",
        "a, b = 5, 3\n",
        "message = \"\"\n",
        "if a > b:\n",
        "    if a - b > 2:\n",
        "        message = \"Difference is greater than 2\"\n",
        "    else:\n",
        "        message = \"Difference is 2 or less\"\n",
        "else:\n",
        "    message = \"a is not greater than b\"\n",
        "```\n",
        "\n",
        "What is the value of `message` at the end?\n",
        "\n",
        "A) \"Difference is greater than 2\"  \n",
        "B) \"Difference is 2 or less\"  \n",
        "C) \"a is not greater than b\"  \n",
        "D) \"\"  \n",
        "\n"
      ]
    },
    {
      "cell_type": "code",
      "execution_count": null,
      "id": "8d165a71",
      "metadata": {
        "id": "8d165a71"
      },
      "outputs": [],
      "source": []
    },
    {
      "cell_type": "markdown",
      "id": "f822840a",
      "metadata": {
        "id": "f822840a"
      },
      "source": [
        "\n",
        "a, b = 5, 3\n",
        "message = \"\"\n",
        "if a > b:\n",
        "    if a - b > 2:\n",
        "        message = \"Difference is greater than 2\"\n",
        "    else:\n",
        "        message = \"Difference is 2 or less\"\n",
        "else:\n",
        "    message = \"a is not greater than b\"\n"
      ]
    },
    {
      "cell_type": "code",
      "execution_count": null,
      "id": "e2863b0e",
      "metadata": {
        "id": "e2863b0e"
      },
      "outputs": [],
      "source": []
    },
    {
      "cell_type": "markdown",
      "id": "7dfcba63",
      "metadata": {
        "id": "7dfcba63"
      },
      "source": [
        "\n",
        "#### Explanation:\n",
        "\n",
        "The outer `if` statement checks if `a` is greater than `b`, which is true because 5 is greater than 3. Then, the inner `if` statement checks the difference between `a` and `b`. Since the difference is 2 (which is not greater than 2), the `else` block of the inner `if` statement executes, setting `message` to \"Difference is 2 or less\".\n",
        "\n",
        "Correct answer: **B**\n"
      ]
    },
    {
      "cell_type": "code",
      "execution_count": null,
      "id": "331b9425",
      "metadata": {
        "id": "331b9425"
      },
      "outputs": [],
      "source": []
    },
    {
      "cell_type": "markdown",
      "id": "2f7cc0fd",
      "metadata": {
        "id": "2f7cc0fd"
      },
      "source": [
        "\n",
        "### Question 5:\n",
        "\n",
        "Given the code:\n",
        "\n",
        "```python\n",
        "list_values = [10, 20, 30, 40]\n",
        "flag = \"\"\n",
        "if 15 in list_values or 20 in list_values:\n",
        "    flag = \"Found\"\n",
        "else:\n",
        "    flag = \"Not Found\"\n",
        "```\n",
        "\n",
        "What is the value of `flag` at the end?\n",
        "\n",
        "A) \"Found\"  \n",
        "B) \"Not Found\"  \n",
        "C) \"\"  \n",
        "D) \"Error\"  \n",
        "\n"
      ]
    },
    {
      "cell_type": "code",
      "execution_count": null,
      "id": "6b767e01",
      "metadata": {
        "id": "6b767e01"
      },
      "outputs": [],
      "source": []
    },
    {
      "cell_type": "markdown",
      "id": "f7d678bb",
      "metadata": {
        "id": "f7d678bb"
      },
      "source": [
        "\n",
        "list_values = [10, 20, 30, 40]\n",
        "flag = \"\"\n",
        "if 15 in list_values or 20 in list_values:\n",
        "    flag = \"Found\"\n",
        "else:\n",
        "    flag = \"Not Found\"\n"
      ]
    },
    {
      "cell_type": "code",
      "execution_count": null,
      "id": "424b6ef7",
      "metadata": {
        "id": "424b6ef7"
      },
      "outputs": [],
      "source": []
    },
    {
      "cell_type": "markdown",
      "id": "215dc57d",
      "metadata": {
        "id": "215dc57d"
      },
      "source": [
        "\n",
        "#### Explanation:\n",
        "\n",
        "The `if` condition checks if 15 or 20 is present in `list_values`. While 15 is not in the list, 20 is. Since one of the conditions (20 in list_values) is true, the `if` block executes, setting `flag` to \"Found\".\n",
        "\n",
        "Correct answer: **A**\n"
      ]
    },
    {
      "cell_type": "code",
      "execution_count": null,
      "id": "a88a7e4c",
      "metadata": {
        "id": "a88a7e4c"
      },
      "outputs": [],
      "source": []
    }
  ],
  "metadata": {
    "colab": {
      "provenance": [],
      "include_colab_link": true
    }
  },
  "nbformat": 4,
  "nbformat_minor": 5
}