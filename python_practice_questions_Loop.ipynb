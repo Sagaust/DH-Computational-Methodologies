{
  "cells": [
    {
      "cell_type": "markdown",
      "metadata": {
        "id": "view-in-github",
        "colab_type": "text"
      },
      "source": [
        "<a href=\"https://colab.research.google.com/github/Sagaust/DH-Computational-Methodologies/blob/main/python_practice_questions_Loop.ipynb\" target=\"_parent\"><img src=\"https://colab.research.google.com/assets/colab-badge.svg\" alt=\"Open In Colab\"/></a>"
      ]
    },
    {
      "cell_type": "markdown",
      "id": "831acf71",
      "metadata": {
        "id": "831acf71"
      },
      "source": [
        "\n",
        "### Question 1:\n",
        "\n",
        "Given the code:\n",
        "\n",
        "```python\n",
        "sum_even = 0\n",
        "for i in range(1, 11):\n",
        "    if i % 2 == 0:\n",
        "        sum_even += i\n",
        "```\n",
        "\n",
        "What is in the `sum_even` variable at the end?\n",
        "\n",
        "A) The sum of all integers from 1 to 10  \n",
        "B) The sum of even integers from 1 to 10  \n",
        "C) The sum of odd integers from 1 to 10  \n",
        "D) The sum of integers from 1 to 9  \n",
        "\n"
      ]
    },
    {
      "cell_type": "code",
      "execution_count": null,
      "id": "fc737fe5",
      "metadata": {
        "id": "fc737fe5"
      },
      "outputs": [],
      "source": []
    },
    {
      "cell_type": "markdown",
      "id": "c474db01",
      "metadata": {
        "id": "c474db01"
      },
      "source": [
        "\n",
        "sum_even = 0\n",
        "for i in range(1, 11):\n",
        "    if i % 2 == 0:\n",
        "        sum_even += i\n"
      ]
    },
    {
      "cell_type": "code",
      "execution_count": null,
      "id": "2d636e51",
      "metadata": {
        "id": "2d636e51"
      },
      "outputs": [],
      "source": []
    },
    {
      "cell_type": "markdown",
      "id": "798b7b74",
      "metadata": {
        "id": "798b7b74"
      },
      "source": [
        "\n",
        "#### Explanation:\n",
        "\n",
        "The code iterates over numbers from 1 to 10. For each number, it checks if it's even (i % 2 == 0). If the number is even, it adds it to the `sum_even` variable.\n",
        "\n",
        "Therefore, `sum_even` contains the sum of even integers from 1 to 10.\n",
        "\n",
        "Correct answer: **B**\n"
      ]
    },
    {
      "cell_type": "code",
      "execution_count": null,
      "id": "102eb50c",
      "metadata": {
        "id": "102eb50c"
      },
      "outputs": [],
      "source": []
    },
    {
      "cell_type": "markdown",
      "id": "56e719a6",
      "metadata": {
        "id": "56e719a6"
      },
      "source": [
        "\n",
        "### Question 2:\n",
        "\n",
        "Given the code:\n",
        "\n",
        "```python\n",
        "product_odd = 1\n",
        "for i in range(1, 11):\n",
        "    if i % 2 != 0:\n",
        "        product_odd *= i\n",
        "```\n",
        "\n",
        "What is in the `product_odd` variable at the end?\n",
        "\n",
        "A) The product of all integers from 1 to 10  \n",
        "B) The product of even integers from 1 to 10  \n",
        "C) The product of odd integers from 1 to 10  \n",
        "D) The product of integers from 1 to 9  \n",
        "\n"
      ]
    },
    {
      "cell_type": "code",
      "execution_count": null,
      "id": "ac65d837",
      "metadata": {
        "id": "ac65d837"
      },
      "outputs": [],
      "source": []
    },
    {
      "cell_type": "markdown",
      "id": "c95ba020",
      "metadata": {
        "id": "c95ba020"
      },
      "source": [
        "\n",
        "product_odd = 1\n",
        "for i in range(1, 11):\n",
        "    if i % 2 != 0:\n",
        "        product_odd *= i\n"
      ]
    },
    {
      "cell_type": "code",
      "execution_count": null,
      "id": "a758289a",
      "metadata": {
        "id": "a758289a"
      },
      "outputs": [],
      "source": []
    },
    {
      "cell_type": "markdown",
      "id": "645ce30b",
      "metadata": {
        "id": "645ce30b"
      },
      "source": [
        "\n",
        "#### Explanation:\n",
        "\n",
        "The code iterates over numbers from 1 to 10. For each number, it checks if it's odd (i % 2 != 0). If the number is odd, it multiplies it with the `product_odd` variable.\n",
        "\n",
        "Therefore, `product_odd` contains the product of odd integers from 1 to 10.\n",
        "\n",
        "Correct answer: **C**\n"
      ]
    },
    {
      "cell_type": "code",
      "execution_count": null,
      "id": "f5ed6a5f",
      "metadata": {
        "id": "f5ed6a5f"
      },
      "outputs": [],
      "source": []
    },
    {
      "cell_type": "markdown",
      "id": "788ca66e",
      "metadata": {
        "id": "788ca66e"
      },
      "source": [
        "\n",
        "### Question 3:\n",
        "\n",
        "Given the code:\n",
        "\n",
        "```python\n",
        "numbers = [1, -2, 3, -4, 5, -6, 7, 8, 9, -10]\n",
        "count_negatives = 0\n",
        "for num in numbers:\n",
        "    if num < 0:\n",
        "        count_negatives += 1\n",
        "```\n",
        "\n",
        "What is in the `count_negatives` variable at the end?\n",
        "\n",
        "A) The total count of numbers in the list  \n",
        "B) The count of positive numbers in the list  \n",
        "C) The count of zero values in the list  \n",
        "D) The count of negative numbers in the list  \n",
        "\n"
      ]
    },
    {
      "cell_type": "code",
      "execution_count": null,
      "id": "85b1ca5d",
      "metadata": {
        "id": "85b1ca5d"
      },
      "outputs": [],
      "source": []
    },
    {
      "cell_type": "markdown",
      "id": "84a9c0d6",
      "metadata": {
        "id": "84a9c0d6"
      },
      "source": [
        "\n",
        "numbers = [1, -2, 3, -4, 5, -6, 7, 8, 9, -10]\n",
        "count_negatives = 0\n",
        "for num in numbers:\n",
        "    if num < 0:\n",
        "        count_negatives += 1\n"
      ]
    },
    {
      "cell_type": "code",
      "execution_count": null,
      "id": "187ad14d",
      "metadata": {
        "id": "187ad14d"
      },
      "outputs": [],
      "source": []
    },
    {
      "cell_type": "markdown",
      "id": "5fb65cf1",
      "metadata": {
        "id": "5fb65cf1"
      },
      "source": [
        "\n",
        "#### Explanation:\n",
        "\n",
        "The code iterates over the numbers in the list. For each number, it checks if it's negative (num < 0). If the number is negative, it increases the `count_negatives` variable by 1.\n",
        "\n",
        "Therefore, `count_negatives` contains the count of negative numbers in the list.\n",
        "\n",
        "Correct answer: **D**\n"
      ]
    },
    {
      "cell_type": "code",
      "execution_count": null,
      "id": "04673d33",
      "metadata": {
        "id": "04673d33"
      },
      "outputs": [],
      "source": []
    },
    {
      "cell_type": "markdown",
      "id": "66625a36",
      "metadata": {
        "id": "66625a36"
      },
      "source": [
        "\n",
        "### Question 4:\n",
        "\n",
        "Given the code:\n",
        "\n",
        "```python\n",
        "n = 5\n",
        "factorial = 1\n",
        "for i in range(1, n + 1):\n",
        "    factorial *= i\n",
        "```\n",
        "\n",
        "What is in the `factorial` variable at the end?\n",
        "\n",
        "A) The sum of integers from 1 to 5  \n",
        "B) The product of integers from 1 to 4  \n",
        "C) The product of integers from 1 to 5  \n",
        "D) The product of even integers from 1 to 5  \n",
        "\n"
      ]
    },
    {
      "cell_type": "code",
      "execution_count": null,
      "id": "843664cb",
      "metadata": {
        "id": "843664cb"
      },
      "outputs": [],
      "source": []
    },
    {
      "cell_type": "markdown",
      "id": "6c5e4bde",
      "metadata": {
        "id": "6c5e4bde"
      },
      "source": [
        "\n",
        "n = 5\n",
        "factorial = 1\n",
        "for i in range(1, n + 1):\n",
        "    factorial *= i\n"
      ]
    },
    {
      "cell_type": "code",
      "execution_count": null,
      "id": "f36cd9a9",
      "metadata": {
        "id": "f36cd9a9"
      },
      "outputs": [],
      "source": []
    },
    {
      "cell_type": "markdown",
      "id": "1cd0e337",
      "metadata": {
        "id": "1cd0e337"
      },
      "source": [
        "\n",
        "#### Explanation:\n",
        "\n",
        "The code calculates the factorial of the number `n` (which is 5). The factorial of a number is the product of all positive integers up to that number.\n",
        "\n",
        "Therefore, `factorial` contains the product of integers from 1 to 5.\n",
        "\n",
        "Correct answer: **C**\n"
      ]
    },
    {
      "cell_type": "code",
      "execution_count": null,
      "id": "419217ab",
      "metadata": {
        "id": "419217ab"
      },
      "outputs": [],
      "source": []
    },
    {
      "cell_type": "markdown",
      "id": "bfad115a",
      "metadata": {
        "id": "bfad115a"
      },
      "source": [
        "\n",
        "### Question 5:\n",
        "\n",
        "Given the code:\n",
        "\n",
        "```python\n",
        "sum_excluded = 0\n",
        "for i in range(1, 11):\n",
        "    if i % 3 != 0:\n",
        "        sum_excluded += i\n",
        "```\n",
        "\n",
        "What is in the `sum_excluded` variable at the end?\n",
        "\n",
        "A) The sum of all integers from 1 to 10  \n",
        "B) The sum of integers that are multiples of 3 from 1 to 10  \n",
        "C) The sum of integers that are not multiples of 3 from 1 to 10  \n",
        "D) The sum of even integers from 1 to 10  \n",
        "\n"
      ]
    },
    {
      "cell_type": "code",
      "execution_count": null,
      "id": "956a5859",
      "metadata": {
        "id": "956a5859"
      },
      "outputs": [],
      "source": []
    },
    {
      "cell_type": "markdown",
      "id": "f54760d4",
      "metadata": {
        "id": "f54760d4"
      },
      "source": [
        "\n",
        "sum_excluded = 0\n",
        "for i in range(1, 11):\n",
        "    if i % 3 != 0:\n",
        "        sum_excluded += i\n"
      ]
    },
    {
      "cell_type": "code",
      "execution_count": null,
      "id": "6616cbde",
      "metadata": {
        "id": "6616cbde"
      },
      "outputs": [],
      "source": []
    },
    {
      "cell_type": "markdown",
      "id": "dd5edfdf",
      "metadata": {
        "id": "dd5edfdf"
      },
      "source": [
        "\n",
        "#### Explanation:\n",
        "\n",
        "The code iterates over numbers from 1 to 10. For each number, it checks if it's not a multiple of 3 (i % 3 != 0). If the number is not a multiple of 3, it adds it to the `sum_excluded` variable.\n",
        "\n",
        "Therefore, `sum_excluded` contains the sum of integers that are not multiples of 3 from 1 to 10.\n",
        "\n",
        "Correct answer: **C**\n"
      ]
    },
    {
      "cell_type": "code",
      "execution_count": null,
      "id": "cb6b5f00",
      "metadata": {
        "id": "cb6b5f00"
      },
      "outputs": [],
      "source": []
    }
  ],
  "metadata": {
    "colab": {
      "provenance": [],
      "include_colab_link": true
    }
  },
  "nbformat": 4,
  "nbformat_minor": 5
}