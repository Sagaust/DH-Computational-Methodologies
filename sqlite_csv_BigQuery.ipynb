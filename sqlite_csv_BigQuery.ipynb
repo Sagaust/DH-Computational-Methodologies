{
  "nbformat": 4,
  "nbformat_minor": 0,
  "metadata": {
    "colab": {
      "provenance": [],
      "authorship_tag": "ABX9TyOOJMNsIHmIOb6DpCKxD9Kh",
      "include_colab_link": true
    },
    "kernelspec": {
      "name": "python3",
      "display_name": "Python 3"
    },
    "language_info": {
      "name": "python"
    }
  },
  "cells": [
    {
      "cell_type": "markdown",
      "metadata": {
        "id": "view-in-github",
        "colab_type": "text"
      },
      "source": [
        "<a href=\"https://colab.research.google.com/github/Sagaust/DH-Computational-Methodologies/blob/main/sqlite_csv_BigQuery.ipynb\" target=\"_parent\"><img src=\"https://colab.research.google.com/assets/colab-badge.svg\" alt=\"Open In Colab\"/></a>"
      ]
    },
    {
      "cell_type": "code",
      "execution_count": 2,
      "metadata": {
        "id": "MoNTygJoj1SE"
      },
      "outputs": [],
      "source": [
        "import sqlite3\n",
        "conn = sqlite3.connect('/content/db2.sqlite3')\n",
        "cur = conn.cursor()"
      ]
    },
    {
      "cell_type": "code",
      "source": [
        "# Query the sqlite_master table to view the schema\n",
        "cur.execute(\"SELECT type, name, sql FROM sqlite_master WHERE type='table'\")\n",
        "schema = cur.fetchall()\n",
        "\n",
        "for table_type, table_name, sql in schema:\n",
        "    print(f\"Table: {table_name}\\nCreation SQL:\\n{sql}\\n\")"
      ],
      "metadata": {
        "colab": {
          "base_uri": "https://localhost:8080/"
        },
        "id": "nOPJ-YMVkfBR",
        "outputId": "36d10abd-3af9-4a5a-ec73-16cecf94ae59"
      },
      "execution_count": 3,
      "outputs": [
        {
          "output_type": "stream",
          "name": "stdout",
          "text": [
            "Table: django_migrations\n",
            "Creation SQL:\n",
            "CREATE TABLE \"django_migrations\" (\"id\" integer NOT NULL PRIMARY KEY AUTOINCREMENT, \"app\" varchar(255) NOT NULL, \"name\" varchar(255) NOT NULL, \"applied\" datetime NOT NULL)\n",
            "\n",
            "Table: sqlite_sequence\n",
            "Creation SQL:\n",
            "CREATE TABLE sqlite_sequence(name,seq)\n",
            "\n",
            "Table: auth_group_permissions\n",
            "Creation SQL:\n",
            "CREATE TABLE \"auth_group_permissions\" (\"id\" integer NOT NULL PRIMARY KEY AUTOINCREMENT, \"group_id\" integer NOT NULL REFERENCES \"auth_group\" (\"id\") DEFERRABLE INITIALLY DEFERRED, \"permission_id\" integer NOT NULL REFERENCES \"auth_permission\" (\"id\") DEFERRABLE INITIALLY DEFERRED)\n",
            "\n",
            "Table: auth_user_groups\n",
            "Creation SQL:\n",
            "CREATE TABLE \"auth_user_groups\" (\"id\" integer NOT NULL PRIMARY KEY AUTOINCREMENT, \"user_id\" integer NOT NULL REFERENCES \"auth_user\" (\"id\") DEFERRABLE INITIALLY DEFERRED, \"group_id\" integer NOT NULL REFERENCES \"auth_group\" (\"id\") DEFERRABLE INITIALLY DEFERRED)\n",
            "\n",
            "Table: auth_user_user_permissions\n",
            "Creation SQL:\n",
            "CREATE TABLE \"auth_user_user_permissions\" (\"id\" integer NOT NULL PRIMARY KEY AUTOINCREMENT, \"user_id\" integer NOT NULL REFERENCES \"auth_user\" (\"id\") DEFERRABLE INITIALLY DEFERRED, \"permission_id\" integer NOT NULL REFERENCES \"auth_permission\" (\"id\") DEFERRABLE INITIALLY DEFERRED)\n",
            "\n",
            "Table: django_admin_log\n",
            "Creation SQL:\n",
            "CREATE TABLE \"django_admin_log\" (\"id\" integer NOT NULL PRIMARY KEY AUTOINCREMENT, \"object_id\" text NULL, \"object_repr\" varchar(200) NOT NULL, \"action_flag\" smallint unsigned NOT NULL CHECK (\"action_flag\" >= 0), \"change_message\" text NOT NULL, \"content_type_id\" integer NULL REFERENCES \"django_content_type\" (\"id\") DEFERRABLE INITIALLY DEFERRED, \"user_id\" integer NOT NULL REFERENCES \"auth_user\" (\"id\") DEFERRABLE INITIALLY DEFERRED, \"action_time\" datetime NOT NULL)\n",
            "\n",
            "Table: django_content_type\n",
            "Creation SQL:\n",
            "CREATE TABLE \"django_content_type\" (\"id\" integer NOT NULL PRIMARY KEY AUTOINCREMENT, \"app_label\" varchar(100) NOT NULL, \"model\" varchar(100) NOT NULL)\n",
            "\n",
            "Table: auth_permission\n",
            "Creation SQL:\n",
            "CREATE TABLE \"auth_permission\" (\"id\" integer NOT NULL PRIMARY KEY AUTOINCREMENT, \"content_type_id\" integer NOT NULL REFERENCES \"django_content_type\" (\"id\") DEFERRABLE INITIALLY DEFERRED, \"codename\" varchar(100) NOT NULL, \"name\" varchar(255) NOT NULL)\n",
            "\n",
            "Table: auth_group\n",
            "Creation SQL:\n",
            "CREATE TABLE \"auth_group\" (\"id\" integer NOT NULL PRIMARY KEY AUTOINCREMENT, \"name\" varchar(150) NOT NULL UNIQUE)\n",
            "\n",
            "Table: auth_user\n",
            "Creation SQL:\n",
            "CREATE TABLE \"auth_user\" (\"id\" integer NOT NULL PRIMARY KEY AUTOINCREMENT, \"password\" varchar(128) NOT NULL, \"last_login\" datetime NULL, \"is_superuser\" bool NOT NULL, \"username\" varchar(150) NOT NULL UNIQUE, \"last_name\" varchar(150) NOT NULL, \"email\" varchar(254) NOT NULL, \"is_staff\" bool NOT NULL, \"is_active\" bool NOT NULL, \"date_joined\" datetime NOT NULL, \"first_name\" varchar(150) NOT NULL)\n",
            "\n",
            "Table: autos_make\n",
            "Creation SQL:\n",
            "CREATE TABLE \"autos_make\" (\"id\" integer NOT NULL PRIMARY KEY AUTOINCREMENT, \"name\" varchar(200) NOT NULL)\n",
            "\n",
            "Table: autos_auto\n",
            "Creation SQL:\n",
            "CREATE TABLE \"autos_auto\" (\"id\" integer NOT NULL PRIMARY KEY AUTOINCREMENT, \"nickname\" varchar(200) NOT NULL, \"mileage\" integer unsigned NOT NULL CHECK (\"mileage\" >= 0), \"comments\" varchar(300) NOT NULL, \"make_id\" integer NOT NULL REFERENCES \"autos_make\" (\"id\") DEFERRABLE INITIALLY DEFERRED)\n",
            "\n",
            "Table: bookmany_book\n",
            "Creation SQL:\n",
            "CREATE TABLE \"bookmany_book\" (\"id\" integer NOT NULL PRIMARY KEY AUTOINCREMENT, \"title\" varchar(200) NOT NULL)\n",
            "\n",
            "Table: bookmany_authored\n",
            "Creation SQL:\n",
            "CREATE TABLE \"bookmany_authored\" (\"id\" integer NOT NULL PRIMARY KEY AUTOINCREMENT, \"author_id\" integer NOT NULL REFERENCES \"bookmany_author\" (\"id\") DEFERRABLE INITIALLY DEFERRED, \"book_id\" integer NOT NULL REFERENCES \"bookmany_book\" (\"id\") DEFERRABLE INITIALLY DEFERRED)\n",
            "\n",
            "Table: bookmany_author\n",
            "Creation SQL:\n",
            "CREATE TABLE \"bookmany_author\" (\"id\" integer NOT NULL PRIMARY KEY AUTOINCREMENT, \"name\" varchar(200) NOT NULL)\n",
            "\n",
            "Table: bookone_book\n",
            "Creation SQL:\n",
            "CREATE TABLE \"bookone_book\" (\"id\" integer NOT NULL PRIMARY KEY AUTOINCREMENT, \"title\" varchar(200) NOT NULL, \"isbn\" varchar(13) NOT NULL, \"lang_id\" integer NULL REFERENCES \"bookone_lang\" (\"id\") DEFERRABLE INITIALLY DEFERRED)\n",
            "\n",
            "Table: bookone_instance\n",
            "Creation SQL:\n",
            "CREATE TABLE \"bookone_instance\" (\"id\" integer NOT NULL PRIMARY KEY AUTOINCREMENT, \"due_back\" date NULL, \"book_id\" integer NOT NULL REFERENCES \"bookone_book\" (\"id\") DEFERRABLE INITIALLY DEFERRED)\n",
            "\n",
            "Table: bookone_lang\n",
            "Creation SQL:\n",
            "CREATE TABLE \"bookone_lang\" (\"id\" integer NOT NULL PRIMARY KEY AUTOINCREMENT, \"name\" varchar(200) NOT NULL)\n",
            "\n",
            "Table: cats_breed\n",
            "Creation SQL:\n",
            "CREATE TABLE \"cats_breed\" (\"id\" integer NOT NULL PRIMARY KEY AUTOINCREMENT, \"name\" varchar(200) NOT NULL)\n",
            "\n",
            "Table: cats_cat\n",
            "Creation SQL:\n",
            "CREATE TABLE \"cats_cat\" (\"id\" integer NOT NULL PRIMARY KEY AUTOINCREMENT, \"nickname\" varchar(200) NOT NULL, \"weight\" real NOT NULL, \"breed_id\" integer NOT NULL REFERENCES \"cats_breed\" (\"id\") DEFERRABLE INITIALLY DEFERRED)\n",
            "\n",
            "Table: chat_message\n",
            "Creation SQL:\n",
            "CREATE TABLE \"chat_message\" (\"id\" integer NOT NULL PRIMARY KEY AUTOINCREMENT, \"text\" text NOT NULL, \"created_at\" datetime NOT NULL, \"updated_at\" datetime NOT NULL, \"owner_id\" integer NOT NULL REFERENCES \"auth_user\" (\"id\") DEFERRABLE INITIALLY DEFERRED)\n",
            "\n",
            "Table: favs_thing\n",
            "Creation SQL:\n",
            "CREATE TABLE \"favs_thing\" (\"id\" integer NOT NULL PRIMARY KEY AUTOINCREMENT, \"title\" varchar(200) NOT NULL, \"text\" text NOT NULL, \"created_at\" datetime NOT NULL, \"updated_at\" datetime NOT NULL, \"owner_id\" integer NOT NULL REFERENCES \"auth_user\" (\"id\") DEFERRABLE INITIALLY DEFERRED)\n",
            "\n",
            "Table: favs_fav\n",
            "Creation SQL:\n",
            "CREATE TABLE \"favs_fav\" (\"id\" integer NOT NULL PRIMARY KEY AUTOINCREMENT, \"thing_id\" integer NOT NULL REFERENCES \"favs_thing\" (\"id\") DEFERRABLE INITIALLY DEFERRED, \"user_id\" integer NOT NULL REFERENCES \"auth_user\" (\"id\") DEFERRABLE INITIALLY DEFERRED)\n",
            "\n",
            "Table: favsql_thing\n",
            "Creation SQL:\n",
            "CREATE TABLE \"favsql_thing\" (\"id\" integer NOT NULL PRIMARY KEY AUTOINCREMENT, \"title\" varchar(200) NOT NULL, \"text\" text NOT NULL, \"created_at\" datetime NOT NULL, \"updated_at\" datetime NOT NULL, \"owner_id\" integer NOT NULL REFERENCES \"auth_user\" (\"id\") DEFERRABLE INITIALLY DEFERRED)\n",
            "\n",
            "Table: favsql_fav\n",
            "Creation SQL:\n",
            "CREATE TABLE \"favsql_fav\" (\"id\" integer NOT NULL PRIMARY KEY AUTOINCREMENT, \"thing_id\" integer NOT NULL REFERENCES \"favsql_thing\" (\"id\") DEFERRABLE INITIALLY DEFERRED, \"user_id\" integer NOT NULL REFERENCES \"auth_user\" (\"id\") DEFERRABLE INITIALLY DEFERRED)\n",
            "\n",
            "Table: form_cat\n",
            "Creation SQL:\n",
            "CREATE TABLE \"form_cat\" (\"id\" integer NOT NULL PRIMARY KEY AUTOINCREMENT, \"name\" varchar(100) NOT NULL, \"breed\" varchar(100) NOT NULL, \"comments\" varchar(100) NOT NULL)\n",
            "\n",
            "Table: forums_forum\n",
            "Creation SQL:\n",
            "CREATE TABLE \"forums_forum\" (\"id\" integer NOT NULL PRIMARY KEY AUTOINCREMENT, \"title\" varchar(200) NOT NULL, \"text\" text NOT NULL, \"created_at\" datetime NOT NULL, \"updated_at\" datetime NOT NULL, \"owner_id\" integer NOT NULL REFERENCES \"auth_user\" (\"id\") DEFERRABLE INITIALLY DEFERRED)\n",
            "\n",
            "Table: forums_comment\n",
            "Creation SQL:\n",
            "CREATE TABLE \"forums_comment\" (\"id\" integer NOT NULL PRIMARY KEY AUTOINCREMENT, \"text\" text NOT NULL, \"created_at\" datetime NOT NULL, \"updated_at\" datetime NOT NULL, \"forum_id\" integer NOT NULL REFERENCES \"forums_forum\" (\"id\") DEFERRABLE INITIALLY DEFERRED, \"owner_id\" integer NOT NULL REFERENCES \"auth_user\" (\"id\") DEFERRABLE INITIALLY DEFERRED)\n",
            "\n",
            "Table: gview_car\n",
            "Creation SQL:\n",
            "CREATE TABLE \"gview_car\" (\"id\" integer NOT NULL PRIMARY KEY AUTOINCREMENT, \"name\" varchar(128) NOT NULL)\n",
            "\n",
            "Table: gview_cat\n",
            "Creation SQL:\n",
            "CREATE TABLE \"gview_cat\" (\"id\" integer NOT NULL PRIMARY KEY AUTOINCREMENT, \"name\" varchar(128) NOT NULL)\n",
            "\n",
            "Table: gview_dog\n",
            "Creation SQL:\n",
            "CREATE TABLE \"gview_dog\" (\"id\" integer NOT NULL PRIMARY KEY AUTOINCREMENT, \"name\" varchar(128) NOT NULL)\n",
            "\n",
            "Table: gview_horse\n",
            "Creation SQL:\n",
            "CREATE TABLE \"gview_horse\" (\"id\" integer NOT NULL PRIMARY KEY AUTOINCREMENT, \"name\" varchar(128) NOT NULL)\n",
            "\n",
            "Table: many_person\n",
            "Creation SQL:\n",
            "CREATE TABLE \"many_person\" (\"id\" integer NOT NULL PRIMARY KEY AUTOINCREMENT, \"email\" varchar(128) NOT NULL UNIQUE, \"name\" varchar(128) NULL)\n",
            "\n",
            "Table: many_membership\n",
            "Creation SQL:\n",
            "CREATE TABLE \"many_membership\" (\"id\" integer NOT NULL PRIMARY KEY AUTOINCREMENT, \"role\" integer NOT NULL, \"course_id\" integer NOT NULL REFERENCES \"many_course\" (\"id\") DEFERRABLE INITIALLY DEFERRED, \"person_id\" integer NOT NULL REFERENCES \"many_person\" (\"id\") DEFERRABLE INITIALLY DEFERRED)\n",
            "\n",
            "Table: many_course\n",
            "Creation SQL:\n",
            "CREATE TABLE \"many_course\" (\"id\" integer NOT NULL PRIMARY KEY AUTOINCREMENT, \"title\" varchar(128) NOT NULL UNIQUE)\n",
            "\n",
            "Table: myarts_article\n",
            "Creation SQL:\n",
            "CREATE TABLE \"myarts_article\" (\"id\" integer NOT NULL PRIMARY KEY AUTOINCREMENT, \"title\" varchar(200) NOT NULL, \"text\" text NOT NULL, \"created_at\" datetime NOT NULL, \"updated_at\" datetime NOT NULL, \"owner_id\" integer NOT NULL REFERENCES \"auth_user\" (\"id\") DEFERRABLE INITIALLY DEFERRED)\n",
            "\n",
            "Table: rest_breed\n",
            "Creation SQL:\n",
            "CREATE TABLE \"rest_breed\" (\"id\" integer NOT NULL PRIMARY KEY AUTOINCREMENT, \"name\" varchar(200) NOT NULL)\n",
            "\n",
            "Table: rest_cat\n",
            "Creation SQL:\n",
            "CREATE TABLE \"rest_cat\" (\"id\" integer NOT NULL PRIMARY KEY AUTOINCREMENT, \"nickname\" varchar(200) NOT NULL, \"weight\" integer unsigned NOT NULL CHECK (\"weight\" >= 0), \"foods\" varchar(300) NOT NULL, \"breed_id\" integer NOT NULL REFERENCES \"rest_breed\" (\"id\") DEFERRABLE INITIALLY DEFERRED)\n",
            "\n",
            "Table: django_session\n",
            "Creation SQL:\n",
            "CREATE TABLE \"django_session\" (\"session_key\" varchar(40) NOT NULL PRIMARY KEY, \"session_data\" text NOT NULL, \"expire_date\" datetime NOT NULL)\n",
            "\n",
            "Table: social_auth_association\n",
            "Creation SQL:\n",
            "CREATE TABLE \"social_auth_association\" (\"id\" integer NOT NULL PRIMARY KEY AUTOINCREMENT, \"server_url\" varchar(255) NOT NULL, \"handle\" varchar(255) NOT NULL, \"secret\" varchar(255) NOT NULL, \"issued\" integer NOT NULL, \"lifetime\" integer NOT NULL, \"assoc_type\" varchar(64) NOT NULL)\n",
            "\n",
            "Table: social_auth_code\n",
            "Creation SQL:\n",
            "CREATE TABLE \"social_auth_code\" (\"id\" integer NOT NULL PRIMARY KEY AUTOINCREMENT, \"email\" varchar(254) NOT NULL, \"code\" varchar(32) NOT NULL, \"verified\" bool NOT NULL, \"timestamp\" datetime NOT NULL)\n",
            "\n",
            "Table: social_auth_nonce\n",
            "Creation SQL:\n",
            "CREATE TABLE \"social_auth_nonce\" (\"id\" integer NOT NULL PRIMARY KEY AUTOINCREMENT, \"server_url\" varchar(255) NOT NULL, \"timestamp\" integer NOT NULL, \"salt\" varchar(65) NOT NULL)\n",
            "\n",
            "Table: social_auth_partial\n",
            "Creation SQL:\n",
            "CREATE TABLE \"social_auth_partial\" (\"id\" integer NOT NULL PRIMARY KEY AUTOINCREMENT, \"token\" varchar(32) NOT NULL, \"next_step\" smallint unsigned NOT NULL CHECK (\"next_step\" >= 0), \"backend\" varchar(32) NOT NULL, \"data\" text NOT NULL, \"timestamp\" datetime NOT NULL)\n",
            "\n",
            "Table: social_auth_usersocialauth\n",
            "Creation SQL:\n",
            "CREATE TABLE \"social_auth_usersocialauth\" (\"id\" integer NOT NULL PRIMARY KEY AUTOINCREMENT, \"provider\" varchar(32) NOT NULL, \"uid\" varchar(255) NOT NULL, \"extra_data\" text NOT NULL, \"user_id\" integer NOT NULL REFERENCES \"auth_user\" (\"id\") DEFERRABLE INITIALLY DEFERRED, \"created\" datetime NOT NULL, \"modified\" datetime NOT NULL)\n",
            "\n",
            "Table: taggit_taggeditem\n",
            "Creation SQL:\n",
            "CREATE TABLE \"taggit_taggeditem\" (\"id\" integer NOT NULL PRIMARY KEY AUTOINCREMENT, \"object_id\" integer NOT NULL, \"content_type_id\" integer NOT NULL REFERENCES \"django_content_type\" (\"id\") DEFERRABLE INITIALLY DEFERRED, \"tag_id\" integer NOT NULL REFERENCES \"taggit_tag\" (\"id\") DEFERRABLE INITIALLY DEFERRED)\n",
            "\n",
            "Table: taggit_tag\n",
            "Creation SQL:\n",
            "CREATE TABLE \"taggit_tag\" (\"id\" integer NOT NULL PRIMARY KEY AUTOINCREMENT, \"name\" varchar(100) NOT NULL UNIQUE, \"slug\" varchar(100) NOT NULL UNIQUE)\n",
            "\n",
            "Table: tagme_forum\n",
            "Creation SQL:\n",
            "CREATE TABLE \"tagme_forum\" (\"id\" integer NOT NULL PRIMARY KEY AUTOINCREMENT, \"title\" varchar(200) NOT NULL, \"text\" text NOT NULL, \"created_at\" datetime NOT NULL, \"updated_at\" datetime NOT NULL, \"owner_id\" integer NOT NULL REFERENCES \"auth_user\" (\"id\") DEFERRABLE INITIALLY DEFERRED)\n",
            "\n",
            "Table: tagme_comment\n",
            "Creation SQL:\n",
            "CREATE TABLE \"tagme_comment\" (\"id\" integer NOT NULL PRIMARY KEY AUTOINCREMENT, \"text\" text NOT NULL, \"created_at\" datetime NOT NULL, \"updated_at\" datetime NOT NULL, \"forum_id\" integer NOT NULL REFERENCES \"tagme_forum\" (\"id\") DEFERRABLE INITIALLY DEFERRED, \"owner_id\" integer NOT NULL REFERENCES \"auth_user\" (\"id\") DEFERRABLE INITIALLY DEFERRED)\n",
            "\n",
            "Table: tracks_album\n",
            "Creation SQL:\n",
            "CREATE TABLE \"tracks_album\" (\"id\" integer NOT NULL PRIMARY KEY AUTOINCREMENT, \"title\" varchar(200) NOT NULL, \"artist_id\" integer NULL REFERENCES \"tracks_artist\" (\"id\") DEFERRABLE INITIALLY DEFERRED)\n",
            "\n",
            "Table: tracks_artist\n",
            "Creation SQL:\n",
            "CREATE TABLE \"tracks_artist\" (\"id\" integer NOT NULL PRIMARY KEY AUTOINCREMENT, \"name\" varchar(200) NOT NULL)\n",
            "\n",
            "Table: tracks_genre\n",
            "Creation SQL:\n",
            "CREATE TABLE \"tracks_genre\" (\"id\" integer NOT NULL PRIMARY KEY AUTOINCREMENT, \"name\" varchar(200) NOT NULL)\n",
            "\n",
            "Table: tracks_track\n",
            "Creation SQL:\n",
            "CREATE TABLE \"tracks_track\" (\"id\" integer NOT NULL PRIMARY KEY AUTOINCREMENT, \"title\" varchar(200) NOT NULL, \"rating\" integer NULL, \"length\" integer NULL, \"count\" integer NULL, \"album_id\" integer NOT NULL REFERENCES \"tracks_album\" (\"id\") DEFERRABLE INITIALLY DEFERRED, \"genre_id\" integer NULL REFERENCES \"tracks_genre\" (\"id\") DEFERRABLE INITIALLY DEFERRED)\n",
            "\n",
            "Table: users_user\n",
            "Creation SQL:\n",
            "CREATE TABLE \"users_user\" (\"id\" integer NOT NULL PRIMARY KEY AUTOINCREMENT, \"name\" varchar(128) NOT NULL, \"email\" varchar(128) NOT NULL)\n",
            "\n",
            "Table: well_post\n",
            "Creation SQL:\n",
            "CREATE TABLE \"well_post\" (\"id\" integer NOT NULL PRIMARY KEY AUTOINCREMENT, \"title\" varchar(200) NOT NULL, \"text\" text NOT NULL, \"created_at\" datetime NOT NULL, \"updated_at\" datetime NOT NULL, \"owner_id\" integer NOT NULL REFERENCES \"auth_user\" (\"id\") DEFERRABLE INITIALLY DEFERRED)\n",
            "\n",
            "Table: pics_pic\n",
            "Creation SQL:\n",
            "CREATE TABLE \"pics_pic\" (\"id\" integer NOT NULL PRIMARY KEY AUTOINCREMENT, \"title\" varchar(200) NOT NULL, \"text\" text NOT NULL, \"content_type\" varchar(256) NULL, \"created_at\" datetime NOT NULL, \"updated_at\" datetime NOT NULL, \"owner_id\" integer NOT NULL REFERENCES \"auth_user\" (\"id\") DEFERRABLE INITIALLY DEFERRED, \"slug\" varchar(50) NOT NULL UNIQUE, \"picture\" varchar(100) NULL)\n",
            "\n",
            "Table: photogallery_photo\n",
            "Creation SQL:\n",
            "CREATE TABLE \"photogallery_photo\" (\"id\" integer NOT NULL PRIMARY KEY AUTOINCREMENT, \"title\" varchar(200) NOT NULL, \"slug\" varchar(50) NOT NULL UNIQUE, \"description\" text NOT NULL, \"image\" varchar(100) NOT NULL)\n",
            "\n",
            "Table: photogallery_comment\n",
            "Creation SQL:\n",
            "CREATE TABLE \"photogallery_comment\" (\"id\" integer NOT NULL PRIMARY KEY AUTOINCREMENT, \"name\" varchar(80) NOT NULL, \"email\" varchar(254) NOT NULL, \"body\" text NOT NULL, \"created_on\" datetime NOT NULL, \"active\" bool NOT NULL, \"photo_id\" bigint NOT NULL REFERENCES \"photogallery_photo\" (\"id\") DEFERRABLE INITIALLY DEFERRED)\n",
            "\n"
          ]
        }
      ]
    },
    {
      "cell_type": "code",
      "source": [
        "cur.execute(\"SELECT name FROM sqlite_master WHERE type='table'\")\n",
        "tables = cur.fetchall()\n",
        "for table in tables:\n",
        "    print(table[0])\n"
      ],
      "metadata": {
        "colab": {
          "base_uri": "https://localhost:8080/"
        },
        "id": "Z2PqXh5-k-sy",
        "outputId": "e4815934-bb9e-490d-8271-c79d0b6196b0"
      },
      "execution_count": 4,
      "outputs": [
        {
          "output_type": "stream",
          "name": "stdout",
          "text": [
            "django_migrations\n",
            "sqlite_sequence\n",
            "auth_group_permissions\n",
            "auth_user_groups\n",
            "auth_user_user_permissions\n",
            "django_admin_log\n",
            "django_content_type\n",
            "auth_permission\n",
            "auth_group\n",
            "auth_user\n",
            "autos_make\n",
            "autos_auto\n",
            "bookmany_book\n",
            "bookmany_authored\n",
            "bookmany_author\n",
            "bookone_book\n",
            "bookone_instance\n",
            "bookone_lang\n",
            "cats_breed\n",
            "cats_cat\n",
            "chat_message\n",
            "favs_thing\n",
            "favs_fav\n",
            "favsql_thing\n",
            "favsql_fav\n",
            "form_cat\n",
            "forums_forum\n",
            "forums_comment\n",
            "gview_car\n",
            "gview_cat\n",
            "gview_dog\n",
            "gview_horse\n",
            "many_person\n",
            "many_membership\n",
            "many_course\n",
            "myarts_article\n",
            "rest_breed\n",
            "rest_cat\n",
            "django_session\n",
            "social_auth_association\n",
            "social_auth_code\n",
            "social_auth_nonce\n",
            "social_auth_partial\n",
            "social_auth_usersocialauth\n",
            "taggit_taggeditem\n",
            "taggit_tag\n",
            "tagme_forum\n",
            "tagme_comment\n",
            "tracks_album\n",
            "tracks_artist\n",
            "tracks_genre\n",
            "tracks_track\n",
            "users_user\n",
            "well_post\n",
            "pics_pic\n",
            "photogallery_photo\n",
            "photogallery_comment\n"
          ]
        }
      ]
    },
    {
      "cell_type": "code",
      "source": [
        "cur.execute('SELECT COUNT(*) FROM auth_user')\n",
        "count = cur.fetchone()[0]\n",
        "print(\"Number of users:\", count)"
      ],
      "metadata": {
        "colab": {
          "base_uri": "https://localhost:8080/"
        },
        "id": "G9KqF5jrlMSX",
        "outputId": "0612d8ee-195a-4602-ad11-793ff16a7eaf"
      },
      "execution_count": 6,
      "outputs": [
        {
          "output_type": "stream",
          "name": "stdout",
          "text": [
            "Number of users: 1\n"
          ]
        }
      ]
    },
    {
      "cell_type": "code",
      "source": [
        "import pandas as pd"
      ],
      "metadata": {
        "id": "W5j_dph-lnam"
      },
      "execution_count": 8,
      "outputs": []
    },
    {
      "cell_type": "code",
      "source": [
        "# Retrieve the list of all tables in the database\n",
        "cursor = conn.cursor()\n",
        "cursor.execute(\"SELECT name FROM sqlite_master WHERE type='table';\")\n",
        "tables = [row[0] for row in cursor.fetchall()]"
      ],
      "metadata": {
        "id": "KXKp7zqEmbqN"
      },
      "execution_count": 13,
      "outputs": []
    },
    {
      "cell_type": "code",
      "source": [
        "# Print available tables for verification\n",
        "print(\"Available tables:\", tables)"
      ],
      "metadata": {
        "colab": {
          "base_uri": "https://localhost:8080/"
        },
        "id": "vbIlN7CZmdJe",
        "outputId": "54dbb1bb-e662-4a76-d46b-4ca615b73a7d"
      },
      "execution_count": 14,
      "outputs": [
        {
          "output_type": "stream",
          "name": "stdout",
          "text": [
            "Available tables: ['django_migrations', 'sqlite_sequence', 'auth_group_permissions', 'auth_user_groups', 'auth_user_user_permissions', 'django_admin_log', 'django_content_type', 'auth_permission', 'auth_group', 'auth_user', 'autos_make', 'autos_auto', 'bookmany_book', 'bookmany_authored', 'bookmany_author', 'bookone_book', 'bookone_instance', 'bookone_lang', 'cats_breed', 'cats_cat', 'chat_message', 'favs_thing', 'favs_fav', 'favsql_thing', 'favsql_fav', 'form_cat', 'forums_forum', 'forums_comment', 'gview_car', 'gview_cat', 'gview_dog', 'gview_horse', 'many_person', 'many_membership', 'many_course', 'myarts_article', 'rest_breed', 'rest_cat', 'django_session', 'social_auth_association', 'social_auth_code', 'social_auth_nonce', 'social_auth_partial', 'social_auth_usersocialauth', 'taggit_taggeditem', 'taggit_tag', 'tagme_forum', 'tagme_comment', 'tracks_album', 'tracks_artist', 'tracks_genre', 'tracks_track', 'users_user', 'well_post', 'pics_pic', 'photogallery_photo', 'photogallery_comment']\n"
          ]
        }
      ]
    },
    {
      "cell_type": "code",
      "source": [
        "# Export each table to a CSV file\n",
        "for table in tables:\n",
        "    df = pd.read_sql_query(f\"SELECT * FROM {table}\", conn)\n",
        "    df.to_csv(f\"{table}.csv\", index=False)"
      ],
      "metadata": {
        "id": "bQUWXqHklk4V"
      },
      "execution_count": 15,
      "outputs": []
    },
    {
      "cell_type": "code",
      "source": [
        "!pip install google-cloud-bigquery\n"
      ],
      "metadata": {
        "colab": {
          "base_uri": "https://localhost:8080/"
        },
        "id": "iykVmTewnaXz",
        "outputId": "f259c951-742f-4e39-aae6-3f19e2106bef"
      },
      "execution_count": 16,
      "outputs": [
        {
          "output_type": "stream",
          "name": "stdout",
          "text": [
            "Requirement already satisfied: google-cloud-bigquery in /usr/local/lib/python3.10/dist-packages (3.12.0)\n",
            "Requirement already satisfied: grpcio<2.0dev,>=1.47.0 in /usr/local/lib/python3.10/dist-packages (from google-cloud-bigquery) (1.60.0)\n",
            "Requirement already satisfied: google-api-core[grpc]!=2.0.*,!=2.1.*,!=2.2.*,!=2.3.0,<3.0.0dev,>=1.31.5 in /usr/local/lib/python3.10/dist-packages (from google-cloud-bigquery) (2.11.1)\n",
            "Requirement already satisfied: proto-plus<2.0.0dev,>=1.15.0 in /usr/local/lib/python3.10/dist-packages (from google-cloud-bigquery) (1.23.0)\n",
            "Requirement already satisfied: google-cloud-core<3.0.0dev,>=1.6.0 in /usr/local/lib/python3.10/dist-packages (from google-cloud-bigquery) (2.3.3)\n",
            "Requirement already satisfied: google-resumable-media<3.0dev,>=0.6.0 in /usr/local/lib/python3.10/dist-packages (from google-cloud-bigquery) (2.7.0)\n",
            "Requirement already satisfied: packaging>=20.0.0 in /usr/local/lib/python3.10/dist-packages (from google-cloud-bigquery) (23.2)\n",
            "Requirement already satisfied: protobuf!=3.20.0,!=3.20.1,!=4.21.0,!=4.21.1,!=4.21.2,!=4.21.3,!=4.21.4,!=4.21.5,<5.0.0dev,>=3.19.5 in /usr/local/lib/python3.10/dist-packages (from google-cloud-bigquery) (3.20.3)\n",
            "Requirement already satisfied: python-dateutil<3.0dev,>=2.7.2 in /usr/local/lib/python3.10/dist-packages (from google-cloud-bigquery) (2.8.2)\n",
            "Requirement already satisfied: requests<3.0.0dev,>=2.21.0 in /usr/local/lib/python3.10/dist-packages (from google-cloud-bigquery) (2.31.0)\n",
            "Requirement already satisfied: googleapis-common-protos<2.0.dev0,>=1.56.2 in /usr/local/lib/python3.10/dist-packages (from google-api-core[grpc]!=2.0.*,!=2.1.*,!=2.2.*,!=2.3.0,<3.0.0dev,>=1.31.5->google-cloud-bigquery) (1.62.0)\n",
            "Requirement already satisfied: google-auth<3.0.dev0,>=2.14.1 in /usr/local/lib/python3.10/dist-packages (from google-api-core[grpc]!=2.0.*,!=2.1.*,!=2.2.*,!=2.3.0,<3.0.0dev,>=1.31.5->google-cloud-bigquery) (2.17.3)\n",
            "Requirement already satisfied: grpcio-status<2.0.dev0,>=1.33.2 in /usr/local/lib/python3.10/dist-packages (from google-api-core[grpc]!=2.0.*,!=2.1.*,!=2.2.*,!=2.3.0,<3.0.0dev,>=1.31.5->google-cloud-bigquery) (1.48.2)\n",
            "Requirement already satisfied: google-crc32c<2.0dev,>=1.0 in /usr/local/lib/python3.10/dist-packages (from google-resumable-media<3.0dev,>=0.6.0->google-cloud-bigquery) (1.5.0)\n",
            "Requirement already satisfied: six>=1.5 in /usr/local/lib/python3.10/dist-packages (from python-dateutil<3.0dev,>=2.7.2->google-cloud-bigquery) (1.16.0)\n",
            "Requirement already satisfied: charset-normalizer<4,>=2 in /usr/local/lib/python3.10/dist-packages (from requests<3.0.0dev,>=2.21.0->google-cloud-bigquery) (3.3.2)\n",
            "Requirement already satisfied: idna<4,>=2.5 in /usr/local/lib/python3.10/dist-packages (from requests<3.0.0dev,>=2.21.0->google-cloud-bigquery) (3.6)\n",
            "Requirement already satisfied: urllib3<3,>=1.21.1 in /usr/local/lib/python3.10/dist-packages (from requests<3.0.0dev,>=2.21.0->google-cloud-bigquery) (2.0.7)\n",
            "Requirement already satisfied: certifi>=2017.4.17 in /usr/local/lib/python3.10/dist-packages (from requests<3.0.0dev,>=2.21.0->google-cloud-bigquery) (2023.11.17)\n",
            "Requirement already satisfied: cachetools<6.0,>=2.0.0 in /usr/local/lib/python3.10/dist-packages (from google-auth<3.0.dev0,>=2.14.1->google-api-core[grpc]!=2.0.*,!=2.1.*,!=2.2.*,!=2.3.0,<3.0.0dev,>=1.31.5->google-cloud-bigquery) (5.3.2)\n",
            "Requirement already satisfied: pyasn1-modules>=0.2.1 in /usr/local/lib/python3.10/dist-packages (from google-auth<3.0.dev0,>=2.14.1->google-api-core[grpc]!=2.0.*,!=2.1.*,!=2.2.*,!=2.3.0,<3.0.0dev,>=1.31.5->google-cloud-bigquery) (0.3.0)\n",
            "Requirement already satisfied: rsa<5,>=3.1.4 in /usr/local/lib/python3.10/dist-packages (from google-auth<3.0.dev0,>=2.14.1->google-api-core[grpc]!=2.0.*,!=2.1.*,!=2.2.*,!=2.3.0,<3.0.0dev,>=1.31.5->google-cloud-bigquery) (4.9)\n",
            "Requirement already satisfied: pyasn1<0.6.0,>=0.4.6 in /usr/local/lib/python3.10/dist-packages (from pyasn1-modules>=0.2.1->google-auth<3.0.dev0,>=2.14.1->google-api-core[grpc]!=2.0.*,!=2.1.*,!=2.2.*,!=2.3.0,<3.0.0dev,>=1.31.5->google-cloud-bigquery) (0.5.1)\n"
          ]
        }
      ]
    },
    {
      "cell_type": "code",
      "source": [
        "from google.cloud import bigquery\n",
        "from google.colab import auth\n",
        "import os\n",
        "\n",
        "# Authenticate and create a client\n",
        "auth.authenticate_user()\n",
        "project_id = 'arn-administration'  # Replace with your project ID\n",
        "client = bigquery.Client(project=project_id)\n",
        "\n",
        "# Define your BigQuery Dataset\n",
        "dataset_id = 'DjangoTemps'  # Replace with your dataset ID\n",
        "dataset_ref = client.dataset(dataset_id)\n",
        "\n",
        "# Directory where your CSV files are stored\n",
        "directory = \"/content/\"  # Assuming all CSVs are in the '/content/' directory\n",
        "\n",
        "# Iterate over each file in the directory and load it into BigQuery\n",
        "for filename in os.listdir(directory):\n",
        "    if filename.endswith('.csv'):\n",
        "        table_id = filename.split('.')[0]  # Assuming table name is same as filename\n",
        "        table_ref = dataset_ref.table(table_id)\n",
        "\n",
        "        job_config = bigquery.LoadJobConfig()\n",
        "        job_config.source_format = bigquery.SourceFormat.CSV\n",
        "        job_config.skip_leading_rows = 1  # Set to 0 if no header row\n",
        "        job_config.autodetect = True\n",
        "        job_config.max_bad_records = 10  # Allows up to 10 bad records before failing\n",
        "\n",
        "\n",
        "        with open(os.path.join(directory, filename), \"rb\") as source_file:\n",
        "            job = client.load_table_from_file(source_file, table_ref, job_config=job_config)\n",
        "\n",
        "        job.result()  # Waits for the job to complete\n",
        "\n",
        "        print(f\"Loaded {filename} into {dataset_id}.{table_id}\")\n"
      ],
      "metadata": {
        "colab": {
          "base_uri": "https://localhost:8080/"
        },
        "id": "3FCsL-OgngA7",
        "outputId": "a2262c17-3db9-40d3-b3a6-5a5fbb8d1106"
      },
      "execution_count": 18,
      "outputs": [
        {
          "output_type": "stream",
          "name": "stdout",
          "text": [
            "Loaded favsql_fav.csv into DjangoTemps.favsql_fav\n",
            "Loaded tracks_genre.csv into DjangoTemps.tracks_genre\n",
            "Loaded many_person.csv into DjangoTemps.many_person\n",
            "Loaded favs_thing.csv into DjangoTemps.favs_thing\n",
            "Loaded tracks_album.csv into DjangoTemps.tracks_album\n",
            "Loaded bookmany_author.csv into DjangoTemps.bookmany_author\n",
            "Loaded myarts_article.csv into DjangoTemps.myarts_article\n",
            "Loaded social_auth_code.csv into DjangoTemps.social_auth_code\n",
            "Loaded photogallery_photo.csv into DjangoTemps.photogallery_photo\n",
            "Loaded autos_make.csv into DjangoTemps.autos_make\n",
            "Loaded bookone_instance.csv into DjangoTemps.bookone_instance\n",
            "Loaded sqlite_sequence.csv into DjangoTemps.sqlite_sequence\n",
            "Loaded django_session.csv into DjangoTemps.django_session\n",
            "Loaded favs_fav.csv into DjangoTemps.favs_fav\n",
            "Loaded social_auth_usersocialauth.csv into DjangoTemps.social_auth_usersocialauth\n",
            "Loaded gview_car.csv into DjangoTemps.gview_car\n",
            "Loaded auth_permission.csv into DjangoTemps.auth_permission\n",
            "Loaded social_auth_nonce.csv into DjangoTemps.social_auth_nonce\n",
            "Loaded many_membership.csv into DjangoTemps.many_membership\n",
            "Loaded taggit_taggeditem.csv into DjangoTemps.taggit_taggeditem\n",
            "Loaded bookone_lang.csv into DjangoTemps.bookone_lang\n",
            "Loaded cats_breed.csv into DjangoTemps.cats_breed\n",
            "Loaded forums_comment.csv into DjangoTemps.forums_comment\n",
            "Loaded pics_pic.csv into DjangoTemps.pics_pic\n",
            "Loaded cats_cat.csv into DjangoTemps.cats_cat\n",
            "Loaded auth_group.csv into DjangoTemps.auth_group\n",
            "Loaded django_migrations.csv into DjangoTemps.django_migrations\n",
            "Loaded auth_user_groups.csv into DjangoTemps.auth_user_groups\n",
            "Loaded gview_cat.csv into DjangoTemps.gview_cat\n",
            "Loaded bookone_book.csv into DjangoTemps.bookone_book\n",
            "Loaded photogallery_comment.csv into DjangoTemps.photogallery_comment\n",
            "Loaded bookmany_book.csv into DjangoTemps.bookmany_book\n",
            "Loaded gview_horse.csv into DjangoTemps.gview_horse\n",
            "Loaded auth_group_permissions.csv into DjangoTemps.auth_group_permissions\n",
            "Loaded tagme_comment.csv into DjangoTemps.tagme_comment\n",
            "Loaded rest_breed.csv into DjangoTemps.rest_breed\n",
            "Loaded favsql_thing.csv into DjangoTemps.favsql_thing\n",
            "Loaded users_user.csv into DjangoTemps.users_user\n",
            "Loaded social_auth_association.csv into DjangoTemps.social_auth_association\n",
            "Loaded chat_message.csv into DjangoTemps.chat_message\n",
            "Loaded django_content_type.csv into DjangoTemps.django_content_type\n",
            "Loaded form_cat.csv into DjangoTemps.form_cat\n",
            "Loaded tracks_track.csv into DjangoTemps.tracks_track\n",
            "Loaded gview_dog.csv into DjangoTemps.gview_dog\n",
            "Loaded autos_auto.csv into DjangoTemps.autos_auto\n",
            "Loaded django_admin_log.csv into DjangoTemps.django_admin_log\n",
            "Loaded taggit_tag.csv into DjangoTemps.taggit_tag\n",
            "Loaded rest_cat.csv into DjangoTemps.rest_cat\n",
            "Loaded forums_forum.csv into DjangoTemps.forums_forum\n",
            "Loaded tagme_forum.csv into DjangoTemps.tagme_forum\n",
            "Loaded auth_user.csv into DjangoTemps.auth_user\n",
            "Loaded auth_user_user_permissions.csv into DjangoTemps.auth_user_user_permissions\n",
            "Loaded many_course.csv into DjangoTemps.many_course\n",
            "Loaded tracks_artist.csv into DjangoTemps.tracks_artist\n",
            "Loaded bookmany_authored.csv into DjangoTemps.bookmany_authored\n",
            "Loaded well_post.csv into DjangoTemps.well_post\n",
            "Loaded social_auth_partial.csv into DjangoTemps.social_auth_partial\n"
          ]
        }
      ]
    }
  ]
}